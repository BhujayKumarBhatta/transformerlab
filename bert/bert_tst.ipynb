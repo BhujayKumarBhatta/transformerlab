{
 "cells": [
  {
   "cell_type": "markdown",
   "id": "e5c02fae-bfe2-455d-ada3-0cdd455b4bd3",
   "metadata": {},
   "source": [
    "# Imports"
   ]
  },
  {
   "cell_type": "code",
   "execution_count": 119,
   "id": "086051b2-2d8f-4bb7-bf24-0e4dd05fdc9d",
   "metadata": {},
   "outputs": [],
   "source": [
    "# !pip install transformers huggingface_hub\n",
    "# !pip install tf-keras\n",
    "import os\n",
    "# Suppress specific TensorFlow warnings\n",
    "os.environ['TF_CPP_MIN_LOG_LEVEL'] = '3'  # 3 means to filter out all INFO and WARNING logs\n",
    "import warnings\n",
    "# Suppress specific warnings\n",
    "warnings.filterwarnings('ignore', category=UserWarning, message='.*OUT_OF_RANGE.*')\n",
    "\n",
    "import sys\n",
    "sys.path.append('../src')\n",
    "import random\n",
    "import re\n",
    "import pickle\n",
    "import requests\n",
    "import json\n",
    "import pandas as pd\n",
    "from lr_schedular import CustomSchedule\n",
    "from transformer_encoder import TransformerEncoderV3  \n",
    "from positional_encoding import encode_pos_sin_cosine\n",
    "import seaborn as sns\n",
    "import numpy as np\n",
    "import nltk\n",
    "from datasets import load_dataset\n",
    "from transformers import BertTokenizer, BertTokenizerFast\n",
    "import tensorflow as tf\n",
    "from tensorflow.keras.layers import Embedding, Input, Dense, Dropout, Layer\n",
    "from tensorflow.keras.models import Model\n",
    "from tensorflow.keras.optimizers import Adam\n",
    "from tensorflow.keras.losses import SparseCategoricalCrossentropy, BinaryCrossentropy\n",
    "from tensorflow.keras.preprocessing.sequence import pad_sequences\n",
    "\n",
    "\n",
    "from transformers import TFPreTrainedModel, BertConfig\n",
    "from transformers.utils import ModelOutput"
   ]
  },
  {
   "cell_type": "markdown",
   "id": "1f45a638-7a4f-4ba7-ab3b-c7060b7ac63a",
   "metadata": {
    "jp-MarkdownHeadingCollapsed": true
   },
   "source": [
    "# parameters "
   ]
  },
  {
   "cell_type": "code",
   "execution_count": 127,
   "id": "20fa8102-4e13-4497-840c-a04204960d50",
   "metadata": {},
   "outputs": [
    {
     "name": "stdout",
     "output_type": "stream",
     "text": [
      "30522\n"
     ]
    }
   ],
   "source": [
    "tokenizer = BertTokenizer.from_pretrained('bert-base-uncased')\n",
    "vocab_size = tokenizer.vocab_size  # Smaller vocabulary size for simplicity\n",
    "print(vocab_size)\n",
    "num_layers = 4  # Fewer layers\n",
    "d_model = 768  # Smaller dimensionality\n",
    "num_heads = 4\n",
    "dff = 3072\n",
    "segment_size = 2\n",
    "max_seq_length = 32\n",
    "max_predictions_per_seq=5\n",
    "max_position_embeddings=2048\n",
    "hidden_dropout_prob=0.1\n",
    "batch_size = 16\n",
    "COLAB = False\n",
    "if not COLAB:\n",
    "      model_path= '/mnt/d/MyDev/attention/transformerlab/bert/models'\n",
    "      model_weights = 'bert_pretrained_1.weights.h5'\n",
    "model_full_name = os.path.join(model_path, model_weights)"
   ]
  },
  {
   "cell_type": "markdown",
   "id": "081bff80-a8a4-440b-8f76-1c5d3dd6260f",
   "metadata": {
    "jp-MarkdownHeadingCollapsed": true
   },
   "source": [
    "# Pretraining"
   ]
  },
  {
   "cell_type": "markdown",
   "id": "ba930213-8a0d-44c3-aa79-f9e8cfe206ae",
   "metadata": {},
   "source": [
    "## pretrianing data  "
   ]
  },
  {
   "cell_type": "markdown",
   "id": "92f1e55c-2263-4496-a298-50c586ffa59f",
   "metadata": {
    "jp-MarkdownHeadingCollapsed": true
   },
   "source": [
    "### load wiki data from hugging face"
   ]
  },
  {
   "cell_type": "code",
   "execution_count": 2,
   "id": "63c535dd-000d-42b6-904a-4f2d3faba92f",
   "metadata": {},
   "outputs": [
    {
     "name": "stdout",
     "output_type": "stream",
     "text": [
      "how the dataset looks: dict_keys(['id', 'url', 'title', 'text'])\n"
     ]
    }
   ],
   "source": [
    "from datasets import load_dataset\n",
    "# Load an example dataset, 'wikipedia' for English, 2020-03-01 version\n",
    "dataset = load_dataset(\"wikipedia\", \"20220301.en\", split=\"train\")\n",
    "print('how the dataset looks:', dataset[0].keys())\n",
    "num_of_articles = 1000"
   ]
  },
  {
   "cell_type": "code",
   "execution_count": 3,
   "id": "eec8e7b0-449e-4c0f-9c78-d050fc6c4344",
   "metadata": {
    "scrolled": true
   },
   "outputs": [
    {
     "name": "stdout",
     "output_type": "stream",
     "text": [
      "words in first_article: 43985\n",
      "how the article look:\n",
      " Anarchism is a political philosophy and movement that is sceptical of authority and rejects all involuntary, coercive forms of hierarchy. Anarchism calls for the abolition of the state, which it holds to be unnecessary, undesirable, and harmful. As a historically left-wing movement, placed on the farthest left of the political spectrum, it is usually described alongside communalism and libertarian Marxism as the libertarian wing (libertarian socialism) of the socialist movement, and has a strong historical association with anti-capitalism and socialism.\n",
      "\n",
      "Humans lived in societies without formal hierarchies long before the establishment of formal states, realms, or empires. With the rise of organised hierarchical bodies, scepticism toward authority also rose. Although traces of anarchist thought are found throughout history, modern anarchism emerged from the Enlightenment. During the latter half of the 19th and the first decades of the 20th century, the anarchist movement flourished in most parts of the world and had a significant role in workers' struggles for emancipation. Various anarchist schools of thought formed during this period. Anarchists have taken part in several revolutions, most notably in the Paris Commune, the Russian Civil War and the Spanish Civil War, whose end marked the end of the classical era of anarchism. In the last decades of the 20th and into the 21st century, the anarchist movement has been resurgent once more.\n",
      "\n",
      "Anarchism employs a diversity of tact\n",
      "..........................................\n",
      "........................\n",
      "phical and political anarchism] are philosophical and political claims.\" (p. 137)\n",
      "  Anarchistic popular fiction novel.\n",
      " \n",
      " \n",
      " \n",
      "  An argument for philosophical anarchism.\n",
      "\n",
      "External links \n",
      " Anarchy Archives. Anarchy Archives is an online research center on the history and theory of anarchism.\n",
      "\n",
      " \n",
      "Anti-capitalism\n",
      "Anti-fascism\n",
      "Economic ideologies\n",
      "Left-wing politics\n",
      "Libertarian socialism\n",
      "Libertarianism\n",
      "Political culture\n",
      "Political movements\n",
      "Political ideologies\n",
      "Social theories\n",
      "Socialism\n",
      "Far-left politics\n"
     ]
    }
   ],
   "source": [
    "first_article = dataset[0]['text']\n",
    "print('words in first_article:', len(first_article))\n",
    "print('how the article look:\\n',first_article[:1500])\n",
    "print('..........................................\\n........................')\n",
    "print(first_article[-500:])"
   ]
  },
  {
   "cell_type": "markdown",
   "id": "bd5f1620-8982-4f04-97a3-edd3d029d29e",
   "metadata": {},
   "source": [
    "Document and Sentence Segmentation:\n",
    "\n",
    "Document Boundary: Each Wikipedia article can be treated as a single document. This aligns with the BERT requirement where each document is separated by blank lines.\n",
    "\n",
    "Sentence Tokenization: Use a sentence tokenizer to convert each paragraph into distinct sentences. This is crucial because BERT's NSP task assumes that two consecutive sentences in the data might be used as training pairs."
   ]
  },
  {
   "cell_type": "markdown",
   "id": "9d096555-f53e-415d-ad9e-5ae0ca93ad57",
   "metadata": {
    "jp-MarkdownHeadingCollapsed": true
   },
   "source": [
    "### save the data with article separator"
   ]
  },
  {
   "cell_type": "code",
   "execution_count": 4,
   "id": "66192cf9-6269-4a60-b20b-e9324877385b",
   "metadata": {},
   "outputs": [
    {
     "name": "stderr",
     "output_type": "stream",
     "text": [
      "[nltk_data] Downloading package punkt to /home/bhujay/nltk_data...\n",
      "[nltk_data]   Package punkt is already up-to-date!\n"
     ]
    }
   ],
   "source": [
    "def save_articles_with_doc_boundary(dataset_name, config_name, split_name, output_file_path, num_of_articles=1000):\n",
    "    nltk.download('punkt')\n",
    "    dataset = load_dataset(dataset_name, config_name, split=split_name)\n",
    "    articles_to_process = dataset.select(range(num_of_articles))\n",
    "    with open(output_file_path, 'w', encoding='utf-8') as file:\n",
    "        for i, article in enumerate(articles_to_process):\n",
    "            title = article.get('title', f\"No Title Available for Article {i}\")\n",
    "            art_id = article.get('id', \"No ID\")\n",
    "            art_url = article.get('url', \"No URL\")\n",
    "            sentences = nltk.sent_tokenize(article['text'])\n",
    "            full_article_text = f\"ARTICLE-{i}-{art_id}-{art_url}-{title}\\n\" + '\\n'.join(sentences) + '\\n\\n'\n",
    "            file.write(full_article_text)\n",
    "# Call the function to process and save articles\n",
    "output_file_path = 'wiki_articles_with_seperator.txt'\n",
    "save_articles_with_doc_boundary('wikipedia', '20220301.en', 'train', output_file_path)"
   ]
  },
  {
   "cell_type": "code",
   "execution_count": 5,
   "id": "b2be5185-e2e9-4851-83a6-3badc245f2f7",
   "metadata": {},
   "outputs": [
    {
     "name": "stdout",
     "output_type": "stream",
     "text": [
      "ARTICLE-0-12-https://en.wikipedia.org/wiki/Anarchism-Anarchism\n",
      "\n",
      "Anarchism is a political philosophy and movement that is sceptical of authority and rejects all involuntary, coercive forms of hierarchy.\n",
      "\n",
      "Anarchism calls for the abolition of the state, which it holds to be unnecessary, undesirable, and harmful.\n",
      "\n",
      "As a historically left-wing movement, placed on the farthest left of the political spectrum, it is usually described alongside communalism and libertarian Marxism as the libertarian wing (libertarian socialism) of the socialist movement, and has a strong historical association with anti-capitalism and socialism.\n",
      "\n",
      "Humans lived in societies without formal hierarchies long before the establishment of formal states, realms, or empires.\n",
      "\n",
      "ARTICLE-1-25-https://en.wikipedia.org/wiki/Autism-Autism\n",
      "\n",
      "Autism is a neurodevelopmental disorder characterized by difficulties with social interaction and communication, and by restricted and repetitive behavior.\n",
      "\n",
      "Parents often notice signs during the first three years of their child's life.\n",
      "\n",
      "These signs often develop gradually, though some autistic children experience regression in their communication and social skills after reaching developmental milestones at a normal pace.\n",
      "\n",
      "Autism is associated with a combination of genetic and environmental factors.\n",
      "\n",
      "ARTICLE-2-39-https://en.wikipedia.org/wiki/Albedo-Albedo\n",
      "\n",
      "Albedo (; ) is the measure of the diffuse reflection of solar radiation out of the total solar radiation and measured on a scale from 0, corresponding to a black body that absorbs all incident radiation, to 1, corresponding to a body that reflects all incident radiation.\n",
      "\n",
      "Surface albedo is defined as the ratio of radiosity Je to the irradiance Ee (flux per unit area) received by a surface.\n",
      "\n",
      "The proportion reflected is not only determined by properties of the surface itself, but also by the spectral and angular distribution of solar radiation reaching the Earth's surface.\n",
      "\n",
      "These factors vary with atmospheric composition, geographic location, and time (see position of the Sun).\n",
      "\n",
      "ARTICLE-3-290-https://en.wikipedia.org/wiki/A-A\n",
      "\n",
      "A, or a, is the first letter and the first vowel of the modern English alphabet and the ISO basic Latin alphabet.\n",
      "\n",
      "Its name in English is a (pronounced ), plural aes.\n",
      "\n",
      "It is similar in shape to the Ancient Greek letter alpha, from which it derives.\n",
      "\n",
      "The uppercase version consists of the two slanting sides of a triangle, crossed in the middle by a horizontal bar.\n",
      "\n",
      "ARTICLE-4-303-https://en.wikipedia.org/wiki/Alabama-Alabama\n",
      "\n",
      "Alabama () is a state in the Southeastern region of the United States, bordered by Tennessee to the north; Georgia to the east; Florida and the Gulf of Mexico to the south; and Mississippi to the west.\n",
      "\n",
      "Alabama is the 30th largest by area and the 24th-most populous of the U.S. states.\n",
      "\n",
      "With a total of  of inland waterways, Alabama has among the most of any state.\n",
      "\n",
      "Alabama is nicknamed the Yellowhammer State, after the state bird.\n",
      "\n"
     ]
    }
   ],
   "source": [
    "def display_article_lines(file_path, num_lines=5, num_articles=5):    \n",
    "    with open(file_path, 'r', encoding='utf-8') as file:\n",
    "        article_count = 0\n",
    "        line_count = 0\n",
    "        for line in file:\n",
    "            if line.startswith('ARTICLE-'):  # New article detected\n",
    "                if article_count >= num_articles:\n",
    "                    break                          \n",
    "                article_count += 1\n",
    "                line_count = 0  # Reset line count for the new article\n",
    "            if line_count < num_lines:\n",
    "                print(line)\n",
    "                line_count += 1\n",
    "            else:\n",
    "                continue  # Skip further lines until the next article starts\n",
    "output_file_path = 'wiki_articles_with_seperator.txt'\n",
    "display_article_lines(output_file_path, num_lines=5, num_articles=5)"
   ]
  },
  {
   "cell_type": "markdown",
   "id": "fe07fb25-b6ad-4262-be2b-be6a8d47ea8b",
   "metadata": {
    "jp-MarkdownHeadingCollapsed": true
   },
   "source": [
    "### masking , truncating function and training instance class"
   ]
  },
  {
   "cell_type": "code",
   "execution_count": 6,
   "id": "7fa7466b-b8a7-48e7-b4e0-35af92b1f186",
   "metadata": {},
   "outputs": [],
   "source": [
    "class TrainingInstance:\n",
    "    \"\"\"A single training instance (sentence pair).\"\"\"\n",
    "    def __init__(self, tokens, segment_ids, masked_lm_positions, masked_lm_labels, is_random_next):\n",
    "        self.tokens = tokens\n",
    "        self.segment_ids = segment_ids\n",
    "        self.masked_lm_positions = masked_lm_positions\n",
    "        self.masked_lm_labels = masked_lm_labels\n",
    "        self.is_random_next = is_random_next\n",
    "\n",
    "    def __str__(self):\n",
    "        tokens_str = \" \".join([str(token) for token in self.tokens])\n",
    "        segment_ids_str = \" \".join(map(str, self.segment_ids))\n",
    "        masked_lm_positions_str = \" \".join(map(str, self.masked_lm_positions))\n",
    "        masked_lm_labels_str = \" \".join([str(label) for label in self.masked_lm_labels])\n",
    "        return f\"Tokens: {tokens_str}\\nSegment IDs: {segment_ids_str}\\n\" \\\n",
    "               f\"Is Random Next: {self.is_random_next}\\n\" \\\n",
    "               f\"Masked LM Positions: {masked_lm_positions_str}\\n\" \\\n",
    "               f\"Masked LM Labels: {masked_lm_labels_str}\\n\"\n",
    "\n",
    "    def __repr__(self):\n",
    "        return self.__str__()\n",
    "\n",
    "def mask_tokens(tokens, tokenizer, max_predictions_per_seq, rng):\n",
    "    \"\"\"Masks tokens and returns masked tokens and corresponding labels.\"\"\"\n",
    "    output_tokens = tokens[:]\n",
    "    output_labels = [-1] * len(tokens)  # Initialize labels with -1 (no change)\n",
    "\n",
    "    # Determine which tokens can be masked\n",
    "    candidate_indices = [\n",
    "        i for i, token in enumerate(tokens) \n",
    "        if token not in [tokenizer.cls_token, tokenizer.sep_token]\n",
    "    ]\n",
    "    rng.shuffle(candidate_indices)\n",
    "    num_masked = min(max_predictions_per_seq, len(candidate_indices) * 15 // 100)\n",
    "    \n",
    "    for index in candidate_indices[:num_masked]:\n",
    "        random_choice = rng.random()\n",
    "        # 80% replace with [MASK], 10% random token, 10% unchanged\n",
    "        if random_choice < 0.8:\n",
    "            output_tokens[index] = tokenizer.mask_token\n",
    "        elif random_choice < 0.9:\n",
    "            output_tokens[index] = random.choice(list(tokenizer.vocab.keys()))\n",
    "        \n",
    "        output_labels[index] = tokenizer.convert_tokens_to_ids(tokens[index])\n",
    "\n",
    "    return output_tokens, output_labels\n",
    "\n",
    "def truncate_and_process(tokens_a, tokens_b, max_seq_length, tokenizer, max_predictions_per_seq, instances, rng, is_random_next):\n",
    "    # Truncate tokens_a and tokens_b if their combined length is too long\n",
    "    while len(tokens_a) + len(tokens_b) + 3 > max_seq_length:\n",
    "        if len(tokens_a) > len(tokens_b):\n",
    "            tokens_a.pop()\n",
    "        else:\n",
    "            tokens_b.pop()\n",
    "\n",
    "    tokens = ['[CLS]'] + tokens_a + ['[SEP]'] + tokens_b + ['[SEP]']\n",
    "    segment_ids = [0] * (len(tokens_a) + 2) + [1] * (len(tokens_b) + 1)\n",
    "\n",
    "    masked_tokens, masked_labels = mask_tokens(tokens, tokenizer, max_predictions_per_seq, rng)\n",
    "\n",
    "    # Convert masked_tokens to IDs\n",
    "    token_ids = tokenizer.convert_tokens_to_ids(masked_tokens)  # Ensure this returns integers\n",
    "    instance = TrainingInstance(\n",
    "        tokens=token_ids,\n",
    "        segment_ids=segment_ids,\n",
    "        masked_lm_positions=[i for i, label in enumerate(masked_labels) if label != -1],\n",
    "        masked_lm_labels=[label for label in masked_labels if label != -1],\n",
    "        is_random_next=int(is_random_next)\n",
    "    )\n",
    "    # instance = {\n",
    "    #     'tokens': token_ids,\n",
    "    #     'segment_ids': segment_ids,\n",
    "    #     'masked_lm_positions': [i for i, label in enumerate(masked_labels) if label != -1],\n",
    "    #     'masked_lm_labels': [label for label in masked_labels if label != -1],\n",
    "    #     'is_random_next': int(is_random_next)\n",
    "    # }\n",
    "    instances.append(instance)\n",
    "\n"
   ]
  },
  {
   "cell_type": "markdown",
   "id": "bf16c8a5-bfa3-4859-a057-6e962f6e16d6",
   "metadata": {
    "jp-MarkdownHeadingCollapsed": true
   },
   "source": [
    "### create pre-training data with masking and nsp "
   ]
  },
  {
   "cell_type": "code",
   "execution_count": 85,
   "id": "6eeb5833-0ffe-475d-b799-3e5fa64f7f78",
   "metadata": {},
   "outputs": [
    {
     "name": "stdout",
     "output_type": "stream",
     "text": [
      "Tokens A: ['ana', '##rch', '##ism', 'is', 'a', 'political', 'philosophy', 'and', 'movement', 'that', 'is', 'sc', '##ept', '##ical', 'of'], len: 15\n",
      "Tokens B: ['for', 'the', 'abolition', 'of', 'the', 'state', ',', 'which', 'it', 'holds']\n",
      "Is random next: False\n",
      "\n",
      "Tokens A: ['for', 'the', 'abolition', 'of', 'the', 'state', ',', 'which', 'it', 'holds', 'to', 'be', 'unnecessary', ','], len: 14\n",
      "Tokens B: ['the', 'far', '##thest', 'left', 'of', 'the', 'political', 'spectrum', ',', 'it']\n",
      "Is random next: False\n",
      "\n",
      "Tokens A: ['the', 'far', '##thest', 'left', 'of', 'the', 'political', 'spectrum', ',', 'it', 'is', 'usually', 'described', 'alongside', 'communal'], len: 15\n",
      "Tokens B: ['and', 'has', 'a', 'strong', 'historical', 'association', 'with', 'anti', '-', 'capitalism']\n",
      "Is random next: False\n",
      "\n",
      "Tokens A: ['and', 'has', 'a', 'strong', 'historical', 'association', 'with', 'anti', '-', 'capitalism', 'and', 'socialism', '.', 'humans'], len: 14\n",
      "Tokens B: ['fiction', 'due', 'to', 'the', 'fact', 'that', 'the', 'ruling', 'class', 'is']\n",
      "Is random next: True\n",
      "\n",
      "Tokens A: [',', 'or', 'empires', '.', 'with', 'the', 'rise', 'of', 'organised', 'hierarchical', 'bodies', ',', 'sc', '##ept', '##ici'], len: 15\n",
      "Tokens B: ['ana', '##rch', '##ism', 'emerged', 'from', 'the', 'enlightenment', '.', 'during', 'the']\n",
      "Is random next: False\n",
      "\n",
      "Tokens A: ['ana', '##rch', '##ism', 'emerged', 'from', 'the', 'enlightenment', '.', 'during', 'the', 'latter', 'half', 'of', 'the'], len: 14\n",
      "Tokens B: ['coe', '##rc', '##ive', 'society', ',', 'and', 'a', 'suggestion', 'on', 'how']\n",
      "Is random next: True\n",
      "\n",
      "Tokens A: ['the', 'world', 'and', 'had', 'a', 'significant', 'role', 'in', 'workers', \"'\", 'struggles', 'for', 'emancipation', '.', 'various'], len: 15\n",
      "Tokens B: ['the', 'ideological', 'development', 'of', 'what', 'became', 'the', 'era', 'of', 'classical']\n",
      "Is random next: True\n",
      "\n",
      "Tokens A: [',', 'most', 'notably', 'in', 'the', 'paris', 'commune', ',', 'the', 'russian', 'civil', 'war', 'and', 'the', 'spanish'], len: 15\n",
      "Tokens B: ['in', 'the', 'last', 'decades', 'of', 'the', '20th', 'and', 'into', 'the']\n",
      "Is random next: False\n",
      "\n",
      "Tokens A: ['in', 'the', 'last', 'decades', 'of', 'the', '20th', 'and', 'into', 'the', '21st', 'century', ',', 'the'], len: 14\n",
      "Tokens B: ['order', 'to', 'meet', 'its', 'ideal', 'ends', 'which', 'can', 'be', 'broadly']\n",
      "Is random next: False\n",
      "\n",
      "Tokens A: ['order', 'to', 'meet', 'its', 'ideal', 'ends', 'which', 'can', 'be', 'broadly', 'separated', 'into', 'revolutionary', 'and', 'evolutionary'], len: 15\n",
      "Tokens B: ['aim', 'to', 'bring', 'down', 'authority', 'and', 'state', ',', 'having', 'taken']\n",
      "Is random next: False\n",
      "\n"
     ]
    }
   ],
   "source": [
    "def create_bert_pretraining_instances_in_chunks(file_path, chunk_size=1048576, \n",
    "                          doc_boundary_pattern=r'ARTICLE-\\d+-\\d+-https:\\/\\/\\S+',\n",
    "                         test_print=10, max_seq_length=max_seq_length, \n",
    "                         max_predictions_per_seq=max_predictions_per_seq, \n",
    "                         dupe_factor=5, random_seed=12345, nsp_enabled=True,\n",
    "                                               tokenizer=tokenizer):\n",
    "    # tokenizer = BertTokenizer.from_pretrained(args.vocab_file, do_lower_case=args.do_lower_case)  ## is for custom vocab\n",
    "    # tokenizer = BertTokenizer.from_pretrained('bert-base-uncased') ### This loads the default vocab for bert pre-training\n",
    "    rng = random.Random(random_seed)\n",
    "    buffer = ''\n",
    "    instances = []    \n",
    "    with open(file_path, 'r', encoding='utf-8') as file:\n",
    "        while True:\n",
    "            chunk = file.read(chunk_size)\n",
    "            if not chunk:\n",
    "                break\n",
    "            buffer += chunk\n",
    "            documents = re.split(doc_boundary_pattern, buffer, flags=re.MULTILINE)            \n",
    "            if documents and not re.match(doc_boundary_pattern, documents[-1]):\n",
    "                buffer = documents.pop()\n",
    "            else:\n",
    "                buffer = ''            \n",
    "            for doc in documents:\n",
    "                if not doc.strip():\n",
    "                    continue\n",
    "                tokenized_doc = tokenizer.tokenize(doc)\n",
    "                sequences = [tokenized_doc[i:i+max_seq_length] for i in range(0, len(tokenized_doc), max_seq_length)]                \n",
    "                for j in range(len(sequences) - 1):\n",
    "                    tokens_a = sequences[j]\n",
    "                    if rng.random() > 0.5 or not nsp_enabled:\n",
    "                        is_random_next = True\n",
    "                        tokens_b = sequences[rng.randint(0, len(sequences) - 1)]\n",
    "                    else:\n",
    "                        is_random_next = False\n",
    "                        tokens_b = sequences[j + 1]\n",
    "\n",
    "                    truncate_and_process(tokens_a, tokens_b, max_seq_length, tokenizer, max_predictions_per_seq, instances, rng, is_random_next)\n",
    "\n",
    "                    if test_print > 0:\n",
    "                        print(f\"Tokens A: {tokens_a}, len: {len(tokens_a)}\")\n",
    "                        print(f\"Tokens B: {tokens_b[:10]}\")\n",
    "                        print(f\"Is random next: {is_random_next}\\n\")\n",
    "                        test_print -= 1\n",
    "                        if test_print == 0:\n",
    "                            return instances\n",
    "    return instances  # Return all instances for further processing or training\n",
    "file_path = 'wiki_articles_with_seperator.txt'\n",
    "res = create_bert_pretraining_instances_in_chunks(file_path)"
   ]
  },
  {
   "cell_type": "code",
   "execution_count": 86,
   "id": "c44c0535-65cd-4d1b-8fd4-72937bd3b4fb",
   "metadata": {},
   "outputs": [],
   "source": [
    "# print(res[0])\n",
    "# # d = res[0]\n",
    "# print(d.__dict__)"
   ]
  },
  {
   "cell_type": "markdown",
   "id": "22122e24-3dd9-439f-bbc3-09c2f798deb0",
   "metadata": {
    "jp-MarkdownHeadingCollapsed": true
   },
   "source": [
    "### save the mlm and nsp data on disk"
   ]
  },
  {
   "cell_type": "code",
   "execution_count": 87,
   "id": "5d6d33c4-5fe7-4be8-a307-927b9a57db6d",
   "metadata": {},
   "outputs": [],
   "source": [
    "def save_instances_as_parquet(instances, file_path, num_instances=1000, small=False):\n",
    "    if small:\n",
    "        instances = instances[:num_instances]\n",
    "    data = {\n",
    "        'input_ids': [],\n",
    "        'segment_ids': [],\n",
    "        'masked_lm_positions': [],\n",
    "        'mlm_labels': [],\n",
    "        'nsp_labels': []\n",
    "    }\n",
    "    for instance in instances:\n",
    "        data['input_ids'].append(instance.tokens)\n",
    "        data['segment_ids'].append(instance.segment_ids)\n",
    "        data['masked_lm_positions'].append(instance.masked_lm_positions)\n",
    "        data['mlm_labels'].append(instance.masked_lm_labels)\n",
    "        data['nsp_labels'].append(instance.is_random_next)\n",
    "    df = pd.DataFrame(data)\n",
    "    df.to_parquet(file_path, engine='pyarrow')\n",
    "instances = create_bert_pretraining_instances_in_chunks(file_path, test_print=0)\n",
    "save_instances_as_parquet(instances, 'pretraining_bert_data.parquet')"
   ]
  },
  {
   "cell_type": "markdown",
   "id": "4bdc498a-5069-4396-a137-397e163a4e43",
   "metadata": {
    "jp-MarkdownHeadingCollapsed": true
   },
   "source": [
    "### load pretraining as tenslorflow dataset "
   ]
  },
  {
   "cell_type": "code",
   "execution_count": 5,
   "id": "9869f705-2812-410d-9988-8c6a469b9ef1",
   "metadata": {},
   "outputs": [
    {
     "name": "stdout",
     "output_type": "stream",
     "text": [
      "Inputs: {'input_ids': <tf.Tensor: shape=(16, 32), dtype=int32, numpy=\n",
      "array([[  101,  9617,   103,  2964,  2003,  1037,  2576,  4695,  1998,\n",
      "         2929,  2008,  2003,  8040,   103,  7476,   103,   102,  2005,\n",
      "          103, 15766,  1997,  1996,  2110,  1010,  2029,  2009,  4324,\n",
      "         2000,  2022, 14203,  1010,   102],\n",
      "       [  101,  2005,  1996, 15766,  1997,   103,  2110,  1010,   103,\n",
      "         2009,  4324,  2000,   103,   103,  1010,   102,  1996,  2521,\n",
      "        20515,  2187,  1997,  1996,  2576,  8674,  1010,  2009,  2003,\n",
      "         2788,  2649,  4077, 15029,   102],\n",
      "       [  101,  1996,  2521, 20515,   103,  1997,  1996,  2576,  8674,\n",
      "         1010,  2009,  2003,  2788,  2649,  4077, 15029,   102,  1998,\n",
      "          103,  1037,  2844,  3439,   103,  2007,  3424,   103, 16498,\n",
      "         1998, 14649,  1012,  4286,   102],\n",
      "       [  101,  1998,  2038,  1037,  2844,  3439,  2523,  2007,  3424,\n",
      "         1011, 16498,  1998, 14649,  1012,  4286,   102,  4349,  2349,\n",
      "          103,  1996,  2755,  2008,  1996,  6996,  2465,  2003,  5664,\n",
      "          103,   103,   103,  1997,   102],\n",
      "       [  101,  1010,  2030,   103,  1012,  2007,  1996,  4125,  1997,\n",
      "         7362,   103,  4230,  1010,  8040, 23606,   103,   102,  9617,\n",
      "        11140,  2964,  6003,  2013,  1996, 16724,  1012,  2076,  1996,\n",
      "          103,  2431,  1997,  1996,   102],\n",
      "       [  101,   103, 11140,  2964,  6003,  2013,  1996, 16724,  1012,\n",
      "         2076,  1996,  3732,  2431,   103,  1996,   102, 24873,   103,\n",
      "         3512,  2554,  1010,  1998,  1037, 10293,  2006,   103,  2000,\n",
      "         2552,  2000,  7323,  1996,   102],\n",
      "       [  101,  1996,  2088,  1998,  2018,  1037,  3278,  2535,  1999,\n",
      "         3667,  1005, 11785,  2005, 22656,   103,   103,   102,  1996,\n",
      "          103,  2458,  1997,  2054,   103,  1996,  3690,  1997,  4556,\n",
      "         9617, 11140,  2964,  1012,   102],\n",
      "       [  101,  1010,  2087,   103,  1999,  1996,  3000,  5715,  1010,\n",
      "         1996,   103,  2942,  2162,  1998,  1996,  3009,   102,  1999,\n",
      "         1996,  2197,  5109,  1997,  1996,  3983,  1998,   103,  1996,\n",
      "         7398,  2301,  1010,   103,   102],\n",
      "       [  101,  1999,  1996,  2197,  5109,  1997,  1996,  3983,   103,\n",
      "         2046,   103,  7398,  2301,  1010,  1996,   102,  2344,  2000,\n",
      "         3113,  2049,   103,  4515,  2029,  2064,  2022, 13644,  5459,\n",
      "          103,  6208,  1998, 12761,   102],\n",
      "       [  101,  2344,  2000,   103,  2049,  7812,  4515,  2029,  2064,\n",
      "         2022,   103,  5459,  2046,  6208,  1998, 12761,   102,  6614,\n",
      "          103,  3288,  2091,  3691,  1998,  2110,  1010,  2383,  2579,\n",
      "          103,  6355,  2735,  1999,   102],\n",
      "       [  101,  6614,  2000,  3288,  2091,   103,  1998,  2110,  1010,\n",
      "         2383,   103,  1037,  6355,  2735,  1999,   102,  2066,  1012,\n",
      "        18448,  2245,  1010,  6256,  1010,  1998, 10975,  8528,  2483,\n",
      "          103,  2209,  1037,  2112,   102],\n",
      "       [  101,  2066,  1012,   103,  2245,  1010,   103,  1010,  1998,\n",
      "        10975,  8528,  2483,  2031,  2209,  1037,  2112,   102,  1996,\n",
      "         4598,  1997,   103,   103,  2110,  2021,  4447,  2008,  4480,\n",
      "         2031,  2053,  7191, 14987,   102],\n",
      "       [  101, 16058,   103,  1010,   103, 24558,  2030, 26425,  2078,\n",
      "         1012, 26803,  1010, 18444,  1010,  1998,  6210,   102,  1010,\n",
      "         3574,  1000,  2302,  1037,  7786,  1000,  1010,  3605,  1997,\n",
      "         1996, 17576,  2019,  1011,   102],\n",
      "       [  101,  1010,  3574,  1000,   103,  1037,  7786,  1000,  1010,\n",
      "         3605,  1997,  1996, 17576,  2019,  1011,   102,  2070, 18448,\n",
      "         2015,   103,  2076,  2023,  2558,  1012,  2750,  5936,  1010,\n",
      "          103,   103, 24935,  4194,   102],\n",
      "       [  101,  1007,  1012,  1996, 16809,  1011,  2003,  2213, 14796,\n",
      "         1996, 17859,  2783,  2008,   103,  2015, 26395,   102,  5483,\n",
      "         1010,  1998,  3290,  1012,   103,   103, 15984,  6186,  2967,\n",
      "         2024,  2124,   103, 13249,   102],\n",
      "       [  101, 16710,  2683,  1025,  2220,  2394,  8192,   103,  7902,\n",
      "         2098,  1037,  3168,  1997,  8761,  1012,  2536,   102,  2116,\n",
      "         5328,  2007,  2101, 18448,  2015,   103,  2116, 24517,   103,\n",
      "         1996,  3708,   103,  2107,   102]], dtype=int32)>, 'segment_ids': <tf.Tensor: shape=(16, 32), dtype=int32, numpy=\n",
      "array([[0, 0, 0, 0, 0, 0, 0, 0, 0, 0, 0, 0, 0, 0, 0, 0, 0, 1, 1, 1, 1, 1,\n",
      "        1, 1, 1, 1, 1, 1, 1, 1, 1, 1],\n",
      "       [0, 0, 0, 0, 0, 0, 0, 0, 0, 0, 0, 0, 0, 0, 0, 0, 1, 1, 1, 1, 1, 1,\n",
      "        1, 1, 1, 1, 1, 1, 1, 1, 1, 1],\n",
      "       [0, 0, 0, 0, 0, 0, 0, 0, 0, 0, 0, 0, 0, 0, 0, 0, 0, 1, 1, 1, 1, 1,\n",
      "        1, 1, 1, 1, 1, 1, 1, 1, 1, 1],\n",
      "       [0, 0, 0, 0, 0, 0, 0, 0, 0, 0, 0, 0, 0, 0, 0, 0, 1, 1, 1, 1, 1, 1,\n",
      "        1, 1, 1, 1, 1, 1, 1, 1, 1, 1],\n",
      "       [0, 0, 0, 0, 0, 0, 0, 0, 0, 0, 0, 0, 0, 0, 0, 0, 0, 1, 1, 1, 1, 1,\n",
      "        1, 1, 1, 1, 1, 1, 1, 1, 1, 1],\n",
      "       [0, 0, 0, 0, 0, 0, 0, 0, 0, 0, 0, 0, 0, 0, 0, 0, 1, 1, 1, 1, 1, 1,\n",
      "        1, 1, 1, 1, 1, 1, 1, 1, 1, 1],\n",
      "       [0, 0, 0, 0, 0, 0, 0, 0, 0, 0, 0, 0, 0, 0, 0, 0, 0, 1, 1, 1, 1, 1,\n",
      "        1, 1, 1, 1, 1, 1, 1, 1, 1, 1],\n",
      "       [0, 0, 0, 0, 0, 0, 0, 0, 0, 0, 0, 0, 0, 0, 0, 0, 0, 1, 1, 1, 1, 1,\n",
      "        1, 1, 1, 1, 1, 1, 1, 1, 1, 1],\n",
      "       [0, 0, 0, 0, 0, 0, 0, 0, 0, 0, 0, 0, 0, 0, 0, 0, 1, 1, 1, 1, 1, 1,\n",
      "        1, 1, 1, 1, 1, 1, 1, 1, 1, 1],\n",
      "       [0, 0, 0, 0, 0, 0, 0, 0, 0, 0, 0, 0, 0, 0, 0, 0, 0, 1, 1, 1, 1, 1,\n",
      "        1, 1, 1, 1, 1, 1, 1, 1, 1, 1],\n",
      "       [0, 0, 0, 0, 0, 0, 0, 0, 0, 0, 0, 0, 0, 0, 0, 0, 1, 1, 1, 1, 1, 1,\n",
      "        1, 1, 1, 1, 1, 1, 1, 1, 1, 1],\n",
      "       [0, 0, 0, 0, 0, 0, 0, 0, 0, 0, 0, 0, 0, 0, 0, 0, 0, 1, 1, 1, 1, 1,\n",
      "        1, 1, 1, 1, 1, 1, 1, 1, 1, 1],\n",
      "       [0, 0, 0, 0, 0, 0, 0, 0, 0, 0, 0, 0, 0, 0, 0, 0, 0, 1, 1, 1, 1, 1,\n",
      "        1, 1, 1, 1, 1, 1, 1, 1, 1, 1],\n",
      "       [0, 0, 0, 0, 0, 0, 0, 0, 0, 0, 0, 0, 0, 0, 0, 0, 1, 1, 1, 1, 1, 1,\n",
      "        1, 1, 1, 1, 1, 1, 1, 1, 1, 1],\n",
      "       [0, 0, 0, 0, 0, 0, 0, 0, 0, 0, 0, 0, 0, 0, 0, 0, 0, 1, 1, 1, 1, 1,\n",
      "        1, 1, 1, 1, 1, 1, 1, 1, 1, 1],\n",
      "       [0, 0, 0, 0, 0, 0, 0, 0, 0, 0, 0, 0, 0, 0, 0, 0, 0, 1, 1, 1, 1, 1,\n",
      "        1, 1, 1, 1, 1, 1, 1, 1, 1, 1]], dtype=int32)>}\n",
      "Labels: {'masked_lm_positions': <tf.Tensor: shape=(16, 4), dtype=int32, numpy=\n",
      "array([[ 2, 13, 15, 18],\n",
      "       [ 5,  8, 12, 13],\n",
      "       [ 4, 18, 22, 25],\n",
      "       [18, 27, 28, 29],\n",
      "       [ 3, 10, 15, 27],\n",
      "       [ 1, 13, 17, 25],\n",
      "       [14, 15, 18, 22],\n",
      "       [ 3, 10, 25, 30],\n",
      "       [ 8, 10, 20, 27],\n",
      "       [ 3, 10, 18, 27],\n",
      "       [ 5,  9, 10, 27],\n",
      "       [ 3,  6, 20, 21],\n",
      "       [ 2,  4,  5, 21],\n",
      "       [ 4, 19, 27, 28],\n",
      "       [13, 22, 23, 29],\n",
      "       [ 7, 23, 26, 29]], dtype=int32)>, 'mlm_labels': <tf.Tensor: shape=(16, 4), dtype=int32, numpy=\n",
      "array([[11140, 23606,  1997,  1996],\n",
      "       [ 1996,  2029,  2022, 14203],\n",
      "       [ 2187,  2038,  2523,  1011],\n",
      "       [ 2000,  2013,  1996,  2717],\n",
      "       [23560, 25835, 28775,  3732],\n",
      "       [ 9617,  1997, 11890,  2129],\n",
      "       [ 1012,  2536, 17859,  2150],\n",
      "       [ 5546,  2845,  2046,  1996],\n",
      "       [ 1998,  1996,  7812,  2046],\n",
      "       [ 3113, 13644,  2000,  1037],\n",
      "       [ 3691,  2383,  2579,  2031],\n",
      "       [18448,  6256,  1037, 10124],\n",
      "       [20316,  6355,  1010,  1037],\n",
      "       [ 2302,  4233, 18448,  2015],\n",
      "       [ 7927, 16830,  2304,  2005],\n",
      "       [ 2015,  1012,  1997,  2301]], dtype=int32)>, 'nsp_labels': <tf.Tensor: shape=(16,), dtype=int32, numpy=array([0, 0, 0, 1, 0, 1, 1, 0, 0, 0, 0, 1, 0, 1, 1, 0], dtype=int32)>}\n"
     ]
    }
   ],
   "source": [
    "def load_dataset(file_path, batch_size=32):\n",
    "    df = pd.read_parquet(file_path)\n",
    "    tensor_dict = {}\n",
    "    for col in df.columns:\n",
    "        if isinstance(df[col].values[0], list) or isinstance(df[col].values[0], np.ndarray):\n",
    "            # Handle list or array: pad sequences and convert to tensor\n",
    "            padded_array = tf.keras.preprocessing.sequence.pad_sequences(df[col].tolist(), padding='post', dtype='int32')\n",
    "            tensor_dict[col] = tf.convert_to_tensor(padded_array, dtype=tf.int32)\n",
    "        else:\n",
    "            # Convert scalar values directly to tensor\n",
    "            tensor_dict[col] = tf.convert_to_tensor(df[col].to_numpy(dtype=np.int32), dtype=tf.int32)\n",
    "\n",
    "    # Split the tensors into inputs and labels\n",
    "    inputs = {k: tensor_dict[k] for k in ['input_ids', 'segment_ids']}\n",
    "    labels = {k: tensor_dict[k] for k in ['masked_lm_positions', 'mlm_labels', 'nsp_labels']}\n",
    "    # Combine into a single dataset\n",
    "    dataset = tf.data.Dataset.from_tensor_slices((inputs, labels))\n",
    "    dataset = dataset.batch(batch_size)\n",
    "    return dataset\n",
    "\n",
    "\n",
    "train_dataset = load_dataset('pretraining_bert_data.parquet', batch_size=batch_size)\n",
    "\n",
    "for inputs, labels in train_dataset.take(1):\n",
    "    print(\"Inputs:\", inputs)\n",
    "    print(\"Labels:\", labels)\n",
    "    break\n"
   ]
  },
  {
   "cell_type": "code",
   "execution_count": null,
   "id": "77aeddd2-64f5-49c8-b563-224d66e4ffac",
   "metadata": {},
   "outputs": [],
   "source": []
  },
  {
   "cell_type": "code",
   "execution_count": 89,
   "id": "ecd859cf-88b2-4da8-9eaa-b71c0cb1ff38",
   "metadata": {},
   "outputs": [],
   "source": [
    "### Convert these articles to pretraining data \n",
    "# !python create_pretraining_data.py --vocab_file vocab.txt --input_text input_text.txt --output_tfrecord output.tfrecord --do_lower_case --nsp\n"
   ]
  },
  {
   "cell_type": "code",
   "execution_count": null,
   "id": "9d246b53-8a4b-4e74-b802-da85d3f58f27",
   "metadata": {},
   "outputs": [],
   "source": []
  },
  {
   "cell_type": "code",
   "execution_count": 8,
   "id": "84d75159-e176-4d89-80a9-fa6b52aeec18",
   "metadata": {},
   "outputs": [
    {
     "name": "stdout",
     "output_type": "stream",
     "text": [
      "tf.Tensor(\n",
      "[  101  9617   103  2964  2003  1037  2576  4695  1998  2929  2008  2003\n",
      "  8040   103  7476   103   102  2005   103 15766  1997  1996  2110  1010\n",
      "  2029  2009  4324  2000  2022 14203  1010   102], shape=(32,), dtype=int32)\n",
      "tf.Tensor([ 2 13 15 18], shape=(4,), dtype=int32)\n",
      "tf.Tensor([11140 23606  1997  1996], shape=(4,), dtype=int32)\n"
     ]
    }
   ],
   "source": [
    "single_test_instance = iter(train_dataset.take(1)).next()\n",
    "single_input_tuple = single_test_instance[0]['input_ids'], single_test_instance[0]['segment_ids']\n",
    "# print(single_test_instance)\n",
    "print(single_test_instance[0]['input_ids'][0])\n",
    "print(single_test_instance[1]['masked_lm_positions'][0])\n",
    "print(single_test_instance[1]['mlm_labels'][0])"
   ]
  },
  {
   "cell_type": "markdown",
   "id": "89fdfdec-25eb-48b9-afe8-6cbfddcf58a3",
   "metadata": {},
   "source": [
    "## model architecture"
   ]
  },
  {
   "cell_type": "markdown",
   "id": "f5c0d9a3-5a6a-4e71-94fa-5c3a42028cb7",
   "metadata": {
    "jp-MarkdownHeadingCollapsed": true
   },
   "source": [
    "### positional encoding with segment embedding "
   ]
  },
  {
   "cell_type": "code",
   "execution_count": 6,
   "id": "ed3d1efc-c514-4806-9707-3be670c4fc30",
   "metadata": {
    "scrolled": true
   },
   "outputs": [
    {
     "name": "stdout",
     "output_type": "stream",
     "text": [
      "Output shape: (16, 32, 256)\n",
      "Output shape: tf.Tensor(\n",
      "[[ True  True  True  True  True  True  True  True  True  True  True  True\n",
      "   True  True  True  True  True  True  True  True  True  True  True  True\n",
      "   True  True  True  True  True  True  True  True]\n",
      " [ True  True  True  True  True  True  True  True  True  True  True  True\n",
      "   True  True  True  True  True  True  True  True  True  True  True  True\n",
      "   True  True  True  True  True  True  True  True]\n",
      " [ True  True  True  True  True  True  True  True  True  True  True  True\n",
      "   True  True  True  True  True  True  True  True  True  True  True  True\n",
      "   True  True  True  True  True  True  True  True]\n",
      " [ True  True  True  True  True  True  True  True  True  True  True  True\n",
      "   True  True  True  True  True  True  True  True  True  True  True  True\n",
      "   True  True  True  True  True  True  True  True]\n",
      " [ True  True  True  True  True  True  True  True  True  True  True  True\n",
      "   True  True  True  True  True  True  True  True  True  True  True  True\n",
      "   True  True  True  True  True  True  True  True]\n",
      " [ True  True  True  True  True  True  True  True  True  True  True  True\n",
      "   True  True  True  True  True  True  True  True  True  True  True  True\n",
      "   True  True  True  True  True  True  True  True]\n",
      " [ True  True  True  True  True  True  True  True  True  True  True  True\n",
      "   True  True  True  True  True  True  True  True  True  True  True  True\n",
      "   True  True  True  True  True  True  True  True]\n",
      " [ True  True  True  True  True  True  True  True  True  True  True  True\n",
      "   True  True  True  True  True  True  True  True  True  True  True  True\n",
      "   True  True  True  True  True  True  True  True]\n",
      " [ True  True  True  True  True  True  True  True  True  True  True  True\n",
      "   True  True  True  True  True  True  True  True  True  True  True  True\n",
      "   True  True  True  True  True  True  True  True]\n",
      " [ True  True  True  True  True  True  True  True  True  True  True  True\n",
      "   True  True  True  True  True  True  True  True  True  True  True  True\n",
      "   True  True  True  True  True  True  True  True]\n",
      " [ True  True  True  True  True  True  True  True  True  True  True  True\n",
      "   True  True  True  True  True  True  True  True  True  True  True  True\n",
      "   True  True  True  True  True  True  True  True]\n",
      " [ True  True  True  True  True  True  True  True  True  True  True  True\n",
      "   True  True  True  True  True  True  True  True  True  True  True  True\n",
      "   True  True  True  True  True  True  True  True]\n",
      " [ True  True  True  True  True  True  True  True  True  True  True  True\n",
      "   True  True  True  True  True  True  True  True  True  True  True  True\n",
      "   True  True  True  True  True  True  True  True]\n",
      " [ True  True  True  True  True  True  True  True  True  True  True  True\n",
      "   True  True  True  True  True  True  True  True  True  True  True  True\n",
      "   True  True  True  True  True  True  True  True]\n",
      " [ True  True  True  True  True  True  True  True  True  True  True  True\n",
      "   True  True  True  True  True  True  True  True  True  True  True  True\n",
      "   True  True  True  True  True  True  True  True]\n",
      " [ True  True  True  True  True  True  True  True  True  True  True  True\n",
      "   True  True  True  True  True  True  True  True  True  True  True  True\n",
      "   True  True  True  True  True  True  True  True]], shape=(16, 32), dtype=bool)\n"
     ]
    }
   ],
   "source": [
    "class PositionalAndSegmentEmbedding(tf.keras.layers.Layer):\n",
    "    def __init__(self, vocab_size, segment_size, d_model, max_pos=2048, pos_dropout=0.1, **kwargs):\n",
    "        super().__init__(**kwargs)  # Initialize the superclass (Layer)\n",
    "        self.d_model = d_model  # Store the dimensionality of the model embeddings\n",
    "        self.token_embedding = tf.keras.layers.Embedding(vocab_size, d_model, mask_zero=True)\n",
    "        self.segment_embedding = tf.keras.layers.Embedding(segment_size, d_model)\n",
    "        self.pos_encoding = encode_pos_sin_cosine(max_pos, d_model, debug=False)\n",
    "        self.dropout = tf.keras.layers.Dropout(pos_dropout)\n",
    "\n",
    "    def compute_mask(self, inputs, *args, **kwargs):\n",
    "        # Assuming the input structure is a tuple of (tokens, segments)\n",
    "        token_inputs, _ = inputs\n",
    "        return self.token_embedding.compute_mask(token_inputs, *args, **kwargs)\n",
    "\n",
    "    def call(self, inputs, training=False):\n",
    "        # Expect inputs to be a tuple (token_inputs, segment_inputs)\n",
    "        token_inputs, segment_inputs = inputs\n",
    "        tokens = self.token_embedding(token_inputs)  # Token embeddings\n",
    "        segments = self.segment_embedding(segment_inputs)  # Segment embeddings       \n",
    "        x = tokens + segments\n",
    "        # Scale the embeddings by the square root of the embedding dimension size\n",
    "        x *= tf.math.sqrt(tf.cast(self.d_model, tf.float32))\n",
    "        # Add positional encoding to the combined embeddings, sliced to match the input length\n",
    "        length = tf.shape(x)[1]\n",
    "        # pos_encodings = tf.reshape(self.pos_encoding, (1, -1, self.d_model))[:, :length, :]\n",
    "        pos_encodings = tf.cast(tf.reshape(self.pos_encoding, (1, -1, self.d_model))[:, :tf.shape(x)[1], :], tf.float32)\n",
    "        x += pos_encodings\n",
    "        x = self.dropout(x, training=training)\n",
    "        return x\n",
    "\n",
    "embedding_layer = PositionalAndSegmentEmbedding(vocab_size=vocab_size, segment_size=2, d_model=256)\n",
    "\n",
    "# Extract a single batch from the dataset\n",
    "for inputs, labels in train_dataset.take(1):\n",
    "    # The inputs dictionary contains 'input_ids' and 'segment_ids'\n",
    "    input_ids = inputs['input_ids']\n",
    "    segment_ids = inputs['segment_ids']\n",
    "\n",
    "    # Call the embedding layer\n",
    "    embeddings = embedding_layer((input_ids, segment_ids))\n",
    "\n",
    "    # Print the output shape\n",
    "    print(\"Output shape:\", embeddings.shape)\n",
    "    print(\"Output shape:\", embeddings._keras_mask)\n",
    "    break"
   ]
  },
  {
   "cell_type": "markdown",
   "id": "2492bfbe-e4e6-4f2d-b34a-165c7410e736",
   "metadata": {
    "jp-MarkdownHeadingCollapsed": true
   },
   "source": [
    "### Transformer Encoder with PositionalEncoding with Segment ids"
   ]
  },
  {
   "cell_type": "code",
   "execution_count": 145,
   "id": "a0ee2176-1307-4de3-b836-7f4762537010",
   "metadata": {},
   "outputs": [
    {
     "name": "stdout",
     "output_type": "stream",
     "text": [
      "(16, 32, 768)\n"
     ]
    }
   ],
   "source": [
    "class TransformerEncoderV4(TransformerEncoderV3):\n",
    "    def __init__(self, num_layers, d_model, num_heads, dff, vocab_size, segment_size, max_pos=2048, pos_dropout=0.1, **kwargs):\n",
    "        super(TransformerEncoderV4, self).__init__(num_layers=num_layers, d_model=d_model, num_heads=num_heads, dff=dff, vocab_size=vocab_size, max_pos=max_pos, **kwargs)\n",
    "        # Use the custom embedding layer that handles tokens, segments, and positional encodings\n",
    "        self.embedding_layer = PositionalAndSegmentEmbedding(vocab_size, segment_size, d_model, max_pos, pos_dropout)\n",
    "\n",
    "    def call(self, inputs, training=False):\n",
    "        input_ids, segment_ids = inputs\n",
    "        # The embedding layer now handles everything including token, segment, and positional embeddings\n",
    "        x = self.embedding_layer((input_ids, segment_ids), training=training)\n",
    "        x = self.enc_layers_0(x, training=training)\n",
    "        for i in range(self.remaining_layers):\n",
    "            x = self.enc_layers[i](x, training=training)\n",
    "        return x\n",
    "tren = TransformerEncoderV4(num_layers, d_model, num_heads, dff, vocab_size, segment_size, max_pos=max_seq_length)\n",
    "\n",
    "encoder_out = tren(single_input_tuple)\n",
    "print(encoder_out.shape)"
   ]
  },
  {
   "cell_type": "markdown",
   "id": "8c1d56f4-f0ea-4638-8d87-b638e00cb90a",
   "metadata": {
    "jp-MarkdownHeadingCollapsed": true
   },
   "source": [
    "### BERT model class "
   ]
  },
  {
   "cell_type": "code",
   "execution_count": 13,
   "id": "76776e25-982b-4097-b2f2-30ee248feeb8",
   "metadata": {},
   "outputs": [
    {
     "name": "stdout",
     "output_type": "stream",
     "text": [
      "(16, 32, 30522)\n",
      "(16, 1)\n"
     ]
    }
   ],
   "source": [
    "class BERT(tf.keras.Model):\n",
    "    def __init__(self, num_layers, d_model, num_heads, dff, vocab_size, segment_size, max_seq_length=128, rate=0.1):\n",
    "        super(BERT, self).__init__()\n",
    "        self.encoder = TransformerEncoderV4(num_layers=num_layers, d_model=d_model, num_heads=num_heads,\n",
    "                                            dff=dff, vocab_size=vocab_size, segment_size=segment_size,\n",
    "                                            max_pos=max_seq_length, pos_dropout=rate)\n",
    "        self.mlm_dense_transform = tf.keras.layers.Dense(d_model, activation='gelu')  # Transform layer for MLM\n",
    "        self.mlm_layer_norm = tf.keras.layers.LayerNormalization(epsilon=1e-12)  # Layer normalization for MLM\n",
    "        self.mlm_dense = tf.keras.layers.Dense(vocab_size)  # Ensures output shape is [batch, seq_length, vocab_size]\n",
    "        self.nsp_dense = tf.keras.layers.Dense(1, activation='sigmoid')\n",
    "\n",
    "    def call(self, inputs, training=False):\n",
    "        x = self.encoder((inputs['input_ids'], inputs['segment_ids']), training=training)\n",
    "        \n",
    "        # Apply dense transformation and layer normalization for MLM\n",
    "        mlm_output = self.mlm_dense_transform(x)\n",
    "        mlm_output = self.mlm_layer_norm(mlm_output)\n",
    "        mlm_output = self.mlm_dense(mlm_output)\n",
    "        \n",
    "        nsp_output = self.nsp_dense(x[:, 0, :])\n",
    "        return {'mlm_output': mlm_output, 'nsp_output': nsp_output}\n",
    "\n",
    "# Instantiate and compile the BERT model\n",
    "bert_model = BERT(num_layers, d_model, num_heads, \n",
    "                  dff, vocab_size, segment_size)\n",
    "bert_out = bert_model(single_test_instance[0])\n",
    "print(bert_out['mlm_output'].shape  )\n",
    "print(bert_out['nsp_output'].shape  )"
   ]
  },
  {
   "cell_type": "markdown",
   "id": "c7f3e07e-ee1e-472e-af33-a80ac048a8c7",
   "metadata": {
    "jp-MarkdownHeadingCollapsed": true
   },
   "source": [
    "### Loss functions and learning rate "
   ]
  },
  {
   "cell_type": "code",
   "execution_count": 11,
   "id": "197c1629-42be-477e-89bd-b82b5c95ae86",
   "metadata": {},
   "outputs": [],
   "source": [
    "learning_rate = CustomSchedule(d_model)\n",
    "optimizer = tf.keras.optimizers.Adam(learning_rate, beta_1=0.9, beta_2=0.98,\n",
    "                                     epsilon=1e-9)\n",
    "# optimizer = tf.keras.optimizers.Adam(learning_rate=2e-5)\n",
    "loss_object_nsp = tf.keras.losses.BinaryCrossentropy(from_logits=True)\n",
    "\n",
    "\n",
    "def compute_mlm_loss(masked_positions, masked_labels, logits):\n",
    "    # Gather the logits at the masked positions\n",
    "    masked_logits = tf.gather(logits, masked_positions, batch_dims=1, axis=1) \n",
    "    # tf.print(\"masked_positions:\", masked_positions[0], summarize=-1)\n",
    "    # tf.print(\"masked_labels:\", masked_labels[0], summarize=-1)\n",
    "    # tf.print(\"masked_logits:\", masked_logits[0].shape, summarize=-1)\n",
    "    # Ensure that the masked_labels used here are the correct length and match the number of masked_positions\n",
    "    mlm_loss = tf.keras.losses.sparse_categorical_crossentropy(masked_labels, masked_logits, from_logits=True)\n",
    "    # tf.print(\"mlm_loss:\", mlm_loss[0], summarize=-1)\n",
    "    # Reduce mean across batches if needed or sum as appropriate\n",
    "    return tf.reduce_mean(mlm_loss)\n",
    "    \n",
    "def compute_nsp_loss(labels, logits):\n",
    "    return tf.keras.losses.binary_crossentropy(labels, logits, from_logits=True)"
   ]
  },
  {
   "cell_type": "markdown",
   "id": "591c45df-fd9b-42e5-8ce2-7d19a96ec0c4",
   "metadata": {
    "jp-MarkdownHeadingCollapsed": true
   },
   "source": [
    "###  pre training step "
   ]
  },
  {
   "cell_type": "code",
   "execution_count": 12,
   "id": "743fcba2-5d47-4c47-8481-7a99fe4e0095",
   "metadata": {},
   "outputs": [],
   "source": [
    "@tf.function\n",
    "def train_step(inputs, labels, task='both'):\n",
    "    with tf.GradientTape() as tape:        \n",
    "        predictions = bert_model(inputs, training=True)  # Predictions will have 'mlm_output' and 'nsp_output'\n",
    "        # Compute the MLM loss using the positions and labels\n",
    "        loss_mlm = compute_mlm_loss(labels['masked_lm_positions'], \n",
    "                                    labels['mlm_labels'], predictions['mlm_output'])\n",
    "        # NSP loss remains the same\n",
    "        loss_nsp = loss_object_nsp(labels['nsp_labels'], predictions['nsp_output'])\n",
    "        if task == 'nsp':\n",
    "            total_loss = loss_nsp\n",
    "        elif task == 'mlm':\n",
    "            total_loss = loss_mlm\n",
    "        else:\n",
    "            total_loss = loss_mlm + loss_nsp\n",
    "    gradients = tape.gradient(total_loss, bert_model.trainable_variables)\n",
    "    optimizer.apply_gradients(zip(gradients, bert_model.trainable_variables))\n",
    "    # tf.print(\"Total Loss:\", total_loss, \"MLM Loss:\", loss_mlm, \"NSP Loss:\", loss_nsp)\n",
    "    return total_loss, loss_mlm, loss_nsp"
   ]
  },
  {
   "cell_type": "markdown",
   "id": "b6015e86-3f2a-4e24-9163-eab19f5a3603",
   "metadata": {},
   "source": [
    "## Pre training "
   ]
  },
  {
   "cell_type": "markdown",
   "id": "98cdfd4a-bc12-4afa-a3da-a5fe03940c0a",
   "metadata": {
    "jp-MarkdownHeadingCollapsed": true
   },
   "source": [
    "###  pretraining only mlm "
   ]
  },
  {
   "cell_type": "code",
   "execution_count": 147,
   "id": "bfe9d7d7-b7a2-433a-a67e-4909874953c6",
   "metadata": {},
   "outputs": [
    {
     "name": "stdout",
     "output_type": "stream",
     "text": [
      "Epoch 1, Step 0, Total Loss: 10.3523, MLM Loss: 10.3523, NSP Loss: 0.7588\n"
     ]
    },
    {
     "name": "stderr",
     "output_type": "stream",
     "text": [
      "2024-05-16 11:05:27.820836: W tensorflow/core/framework/local_rendezvous.cc:404] Local rendezvous is aborting with status: OUT_OF_RANGE: End of sequence\n"
     ]
    },
    {
     "name": "stdout",
     "output_type": "stream",
     "text": [
      "Epoch 2, Step 0, Total Loss: 10.3740, MLM Loss: 10.3740, NSP Loss: 0.8065\n"
     ]
    },
    {
     "name": "stderr",
     "output_type": "stream",
     "text": [
      "2024-05-16 11:05:29.159169: W tensorflow/core/framework/local_rendezvous.cc:404] Local rendezvous is aborting with status: OUT_OF_RANGE: End of sequence\n"
     ]
    },
    {
     "name": "stdout",
     "output_type": "stream",
     "text": [
      "Epoch 3, Step 0, Total Loss: 10.3871, MLM Loss: 10.3871, NSP Loss: 0.8478\n"
     ]
    },
    {
     "name": "stderr",
     "output_type": "stream",
     "text": [
      "2024-05-16 11:05:30.473423: W tensorflow/core/framework/local_rendezvous.cc:404] Local rendezvous is aborting with status: OUT_OF_RANGE: End of sequence\n"
     ]
    },
    {
     "name": "stdout",
     "output_type": "stream",
     "text": [
      "Epoch 4, Step 0, Total Loss: 10.3338, MLM Loss: 10.3338, NSP Loss: 0.8719\n"
     ]
    },
    {
     "name": "stderr",
     "output_type": "stream",
     "text": [
      "2024-05-16 11:05:31.768384: W tensorflow/core/framework/local_rendezvous.cc:404] Local rendezvous is aborting with status: OUT_OF_RANGE: End of sequence\n"
     ]
    },
    {
     "name": "stdout",
     "output_type": "stream",
     "text": [
      "Epoch 5, Step 0, Total Loss: 10.3394, MLM Loss: 10.3394, NSP Loss: 0.8040\n"
     ]
    },
    {
     "name": "stderr",
     "output_type": "stream",
     "text": [
      "2024-05-16 11:05:33.041288: W tensorflow/core/framework/local_rendezvous.cc:404] Local rendezvous is aborting with status: OUT_OF_RANGE: End of sequence\n"
     ]
    },
    {
     "name": "stdout",
     "output_type": "stream",
     "text": [
      "Epoch 6, Step 0, Total Loss: 10.3431, MLM Loss: 10.3431, NSP Loss: 0.7065\n"
     ]
    },
    {
     "name": "stderr",
     "output_type": "stream",
     "text": [
      "2024-05-16 11:05:34.386915: W tensorflow/core/framework/local_rendezvous.cc:404] Local rendezvous is aborting with status: OUT_OF_RANGE: End of sequence\n"
     ]
    },
    {
     "name": "stdout",
     "output_type": "stream",
     "text": [
      "Epoch 7, Step 0, Total Loss: 10.3434, MLM Loss: 10.3434, NSP Loss: 0.7179\n"
     ]
    },
    {
     "name": "stderr",
     "output_type": "stream",
     "text": [
      "2024-05-16 11:05:35.781340: W tensorflow/core/framework/local_rendezvous.cc:404] Local rendezvous is aborting with status: OUT_OF_RANGE: End of sequence\n"
     ]
    },
    {
     "name": "stdout",
     "output_type": "stream",
     "text": [
      "Epoch 8, Step 0, Total Loss: 10.3589, MLM Loss: 10.3589, NSP Loss: 0.8624\n"
     ]
    },
    {
     "name": "stderr",
     "output_type": "stream",
     "text": [
      "2024-05-16 11:05:37.093158: W tensorflow/core/framework/local_rendezvous.cc:404] Local rendezvous is aborting with status: OUT_OF_RANGE: End of sequence\n"
     ]
    },
    {
     "name": "stdout",
     "output_type": "stream",
     "text": [
      "Epoch 9, Step 0, Total Loss: 10.3311, MLM Loss: 10.3311, NSP Loss: 0.7160\n"
     ]
    },
    {
     "name": "stderr",
     "output_type": "stream",
     "text": [
      "2024-05-16 11:05:38.403152: W tensorflow/core/framework/local_rendezvous.cc:404] Local rendezvous is aborting with status: OUT_OF_RANGE: End of sequence\n"
     ]
    },
    {
     "name": "stdout",
     "output_type": "stream",
     "text": [
      "Epoch 10, Step 0, Total Loss: 10.3145, MLM Loss: 10.3145, NSP Loss: 0.7148\n"
     ]
    },
    {
     "name": "stderr",
     "output_type": "stream",
     "text": [
      "2024-05-16 11:05:39.710706: W tensorflow/core/framework/local_rendezvous.cc:404] Local rendezvous is aborting with status: OUT_OF_RANGE: End of sequence\n"
     ]
    },
    {
     "name": "stdout",
     "output_type": "stream",
     "text": [
      "Epoch 11, Step 0, Total Loss: 10.3115, MLM Loss: 10.3115, NSP Loss: 0.6065\n"
     ]
    },
    {
     "name": "stderr",
     "output_type": "stream",
     "text": [
      "2024-05-16 11:05:41.017094: W tensorflow/core/framework/local_rendezvous.cc:404] Local rendezvous is aborting with status: OUT_OF_RANGE: End of sequence\n"
     ]
    },
    {
     "name": "stdout",
     "output_type": "stream",
     "text": [
      "Epoch 12, Step 0, Total Loss: 10.2941, MLM Loss: 10.2941, NSP Loss: 0.8228\n"
     ]
    },
    {
     "name": "stderr",
     "output_type": "stream",
     "text": [
      "2024-05-16 11:05:42.326403: W tensorflow/core/framework/local_rendezvous.cc:404] Local rendezvous is aborting with status: OUT_OF_RANGE: End of sequence\n"
     ]
    },
    {
     "name": "stdout",
     "output_type": "stream",
     "text": [
      "Epoch 13, Step 0, Total Loss: 10.2844, MLM Loss: 10.2844, NSP Loss: 0.7140\n"
     ]
    },
    {
     "name": "stderr",
     "output_type": "stream",
     "text": [
      "2024-05-16 11:05:43.662081: W tensorflow/core/framework/local_rendezvous.cc:404] Local rendezvous is aborting with status: OUT_OF_RANGE: End of sequence\n"
     ]
    },
    {
     "name": "stdout",
     "output_type": "stream",
     "text": [
      "Epoch 14, Step 0, Total Loss: 10.2663, MLM Loss: 10.2663, NSP Loss: 0.7763\n"
     ]
    },
    {
     "name": "stderr",
     "output_type": "stream",
     "text": [
      "2024-05-16 11:05:45.000540: W tensorflow/core/framework/local_rendezvous.cc:404] Local rendezvous is aborting with status: OUT_OF_RANGE: End of sequence\n"
     ]
    },
    {
     "name": "stdout",
     "output_type": "stream",
     "text": [
      "Epoch 15, Step 0, Total Loss: 10.2994, MLM Loss: 10.2994, NSP Loss: 0.8444\n"
     ]
    },
    {
     "name": "stderr",
     "output_type": "stream",
     "text": [
      "2024-05-16 11:05:46.370642: W tensorflow/core/framework/local_rendezvous.cc:404] Local rendezvous is aborting with status: OUT_OF_RANGE: End of sequence\n"
     ]
    },
    {
     "name": "stdout",
     "output_type": "stream",
     "text": [
      "Epoch 16, Step 0, Total Loss: 10.2889, MLM Loss: 10.2889, NSP Loss: 0.7690\n"
     ]
    },
    {
     "name": "stderr",
     "output_type": "stream",
     "text": [
      "2024-05-16 11:05:47.786073: W tensorflow/core/framework/local_rendezvous.cc:404] Local rendezvous is aborting with status: OUT_OF_RANGE: End of sequence\n"
     ]
    },
    {
     "name": "stdout",
     "output_type": "stream",
     "text": [
      "Epoch 17, Step 0, Total Loss: 10.2409, MLM Loss: 10.2409, NSP Loss: 0.7088\n"
     ]
    },
    {
     "name": "stderr",
     "output_type": "stream",
     "text": [
      "2024-05-16 11:05:49.127251: W tensorflow/core/framework/local_rendezvous.cc:404] Local rendezvous is aborting with status: OUT_OF_RANGE: End of sequence\n"
     ]
    },
    {
     "name": "stdout",
     "output_type": "stream",
     "text": [
      "Epoch 18, Step 0, Total Loss: 10.2258, MLM Loss: 10.2258, NSP Loss: 0.8141\n"
     ]
    },
    {
     "name": "stderr",
     "output_type": "stream",
     "text": [
      "2024-05-16 11:05:50.400261: W tensorflow/core/framework/local_rendezvous.cc:404] Local rendezvous is aborting with status: OUT_OF_RANGE: End of sequence\n"
     ]
    },
    {
     "name": "stdout",
     "output_type": "stream",
     "text": [
      "Epoch 19, Step 0, Total Loss: 10.2558, MLM Loss: 10.2558, NSP Loss: 0.7559\n"
     ]
    },
    {
     "name": "stderr",
     "output_type": "stream",
     "text": [
      "2024-05-16 11:05:51.758108: W tensorflow/core/framework/local_rendezvous.cc:404] Local rendezvous is aborting with status: OUT_OF_RANGE: End of sequence\n"
     ]
    },
    {
     "name": "stdout",
     "output_type": "stream",
     "text": [
      "Epoch 20, Step 0, Total Loss: 10.1724, MLM Loss: 10.1724, NSP Loss: 0.7898\n"
     ]
    },
    {
     "name": "stderr",
     "output_type": "stream",
     "text": [
      "2024-05-16 11:05:53.203768: W tensorflow/core/framework/local_rendezvous.cc:404] Local rendezvous is aborting with status: OUT_OF_RANGE: End of sequence\n"
     ]
    },
    {
     "name": "stdout",
     "output_type": "stream",
     "text": [
      "Epoch 21, Step 0, Total Loss: 10.1910, MLM Loss: 10.1910, NSP Loss: 0.8164\n"
     ]
    },
    {
     "name": "stderr",
     "output_type": "stream",
     "text": [
      "2024-05-16 11:05:54.603510: W tensorflow/core/framework/local_rendezvous.cc:404] Local rendezvous is aborting with status: OUT_OF_RANGE: End of sequence\n"
     ]
    },
    {
     "name": "stdout",
     "output_type": "stream",
     "text": [
      "Epoch 22, Step 0, Total Loss: 10.1616, MLM Loss: 10.1616, NSP Loss: 0.7280\n"
     ]
    },
    {
     "name": "stderr",
     "output_type": "stream",
     "text": [
      "2024-05-16 11:05:55.943943: W tensorflow/core/framework/local_rendezvous.cc:404] Local rendezvous is aborting with status: OUT_OF_RANGE: End of sequence\n"
     ]
    },
    {
     "name": "stdout",
     "output_type": "stream",
     "text": [
      "Epoch 23, Step 0, Total Loss: 10.1623, MLM Loss: 10.1623, NSP Loss: 0.9647\n"
     ]
    },
    {
     "name": "stderr",
     "output_type": "stream",
     "text": [
      "2024-05-16 11:05:57.250937: W tensorflow/core/framework/local_rendezvous.cc:404] Local rendezvous is aborting with status: OUT_OF_RANGE: End of sequence\n"
     ]
    },
    {
     "name": "stdout",
     "output_type": "stream",
     "text": [
      "Epoch 24, Step 0, Total Loss: 10.1477, MLM Loss: 10.1477, NSP Loss: 0.8506\n"
     ]
    },
    {
     "name": "stderr",
     "output_type": "stream",
     "text": [
      "2024-05-16 11:05:58.543883: W tensorflow/core/framework/local_rendezvous.cc:404] Local rendezvous is aborting with status: OUT_OF_RANGE: End of sequence\n"
     ]
    },
    {
     "name": "stdout",
     "output_type": "stream",
     "text": [
      "Epoch 25, Step 0, Total Loss: 10.1425, MLM Loss: 10.1425, NSP Loss: 0.8144\n"
     ]
    },
    {
     "name": "stderr",
     "output_type": "stream",
     "text": [
      "2024-05-16 11:05:59.837754: W tensorflow/core/framework/local_rendezvous.cc:404] Local rendezvous is aborting with status: OUT_OF_RANGE: End of sequence\n"
     ]
    },
    {
     "name": "stdout",
     "output_type": "stream",
     "text": [
      "Epoch 26, Step 0, Total Loss: 10.1049, MLM Loss: 10.1049, NSP Loss: 0.4734\n"
     ]
    },
    {
     "name": "stderr",
     "output_type": "stream",
     "text": [
      "2024-05-16 11:06:01.123319: W tensorflow/core/framework/local_rendezvous.cc:404] Local rendezvous is aborting with status: OUT_OF_RANGE: End of sequence\n"
     ]
    },
    {
     "name": "stdout",
     "output_type": "stream",
     "text": [
      "Epoch 27, Step 0, Total Loss: 10.0800, MLM Loss: 10.0800, NSP Loss: 0.8051\n"
     ]
    },
    {
     "name": "stderr",
     "output_type": "stream",
     "text": [
      "2024-05-16 11:06:02.462482: W tensorflow/core/framework/local_rendezvous.cc:404] Local rendezvous is aborting with status: OUT_OF_RANGE: End of sequence\n"
     ]
    },
    {
     "name": "stdout",
     "output_type": "stream",
     "text": [
      "Epoch 28, Step 0, Total Loss: 10.0795, MLM Loss: 10.0795, NSP Loss: 0.8810\n"
     ]
    },
    {
     "name": "stderr",
     "output_type": "stream",
     "text": [
      "2024-05-16 11:06:03.781568: W tensorflow/core/framework/local_rendezvous.cc:404] Local rendezvous is aborting with status: OUT_OF_RANGE: End of sequence\n"
     ]
    },
    {
     "name": "stdout",
     "output_type": "stream",
     "text": [
      "Epoch 29, Step 0, Total Loss: 10.0402, MLM Loss: 10.0402, NSP Loss: 0.7338\n"
     ]
    },
    {
     "name": "stderr",
     "output_type": "stream",
     "text": [
      "2024-05-16 11:06:05.084095: W tensorflow/core/framework/local_rendezvous.cc:404] Local rendezvous is aborting with status: OUT_OF_RANGE: End of sequence\n"
     ]
    },
    {
     "name": "stdout",
     "output_type": "stream",
     "text": [
      "Epoch 30, Step 0, Total Loss: 10.0395, MLM Loss: 10.0395, NSP Loss: 0.7840\n"
     ]
    },
    {
     "name": "stderr",
     "output_type": "stream",
     "text": [
      "2024-05-16 11:06:06.370703: W tensorflow/core/framework/local_rendezvous.cc:404] Local rendezvous is aborting with status: OUT_OF_RANGE: End of sequence\n"
     ]
    },
    {
     "name": "stdout",
     "output_type": "stream",
     "text": [
      "Epoch 31, Step 0, Total Loss: 10.0148, MLM Loss: 10.0148, NSP Loss: 0.8483\n"
     ]
    },
    {
     "name": "stderr",
     "output_type": "stream",
     "text": [
      "2024-05-16 11:06:07.730416: W tensorflow/core/framework/local_rendezvous.cc:404] Local rendezvous is aborting with status: OUT_OF_RANGE: End of sequence\n"
     ]
    },
    {
     "name": "stdout",
     "output_type": "stream",
     "text": [
      "Epoch 32, Step 0, Total Loss: 9.9909, MLM Loss: 9.9909, NSP Loss: 0.7342\n"
     ]
    },
    {
     "name": "stderr",
     "output_type": "stream",
     "text": [
      "2024-05-16 11:06:09.144301: W tensorflow/core/framework/local_rendezvous.cc:404] Local rendezvous is aborting with status: OUT_OF_RANGE: End of sequence\n"
     ]
    },
    {
     "name": "stdout",
     "output_type": "stream",
     "text": [
      "Epoch 33, Step 0, Total Loss: 9.9647, MLM Loss: 9.9647, NSP Loss: 0.7196\n"
     ]
    },
    {
     "name": "stderr",
     "output_type": "stream",
     "text": [
      "2024-05-16 11:06:10.588495: W tensorflow/core/framework/local_rendezvous.cc:404] Local rendezvous is aborting with status: OUT_OF_RANGE: End of sequence\n"
     ]
    },
    {
     "name": "stdout",
     "output_type": "stream",
     "text": [
      "Epoch 34, Step 0, Total Loss: 9.9498, MLM Loss: 9.9498, NSP Loss: 0.7199\n"
     ]
    },
    {
     "name": "stderr",
     "output_type": "stream",
     "text": [
      "2024-05-16 11:06:11.978126: W tensorflow/core/framework/local_rendezvous.cc:404] Local rendezvous is aborting with status: OUT_OF_RANGE: End of sequence\n"
     ]
    },
    {
     "name": "stdout",
     "output_type": "stream",
     "text": [
      "Epoch 35, Step 0, Total Loss: 9.9367, MLM Loss: 9.9367, NSP Loss: 0.6957\n"
     ]
    },
    {
     "name": "stderr",
     "output_type": "stream",
     "text": [
      "2024-05-16 11:06:13.326427: W tensorflow/core/framework/local_rendezvous.cc:404] Local rendezvous is aborting with status: OUT_OF_RANGE: End of sequence\n"
     ]
    },
    {
     "name": "stdout",
     "output_type": "stream",
     "text": [
      "Epoch 36, Step 0, Total Loss: 9.9059, MLM Loss: 9.9059, NSP Loss: 0.8324\n"
     ]
    },
    {
     "name": "stderr",
     "output_type": "stream",
     "text": [
      "2024-05-16 11:06:14.662159: W tensorflow/core/framework/local_rendezvous.cc:404] Local rendezvous is aborting with status: OUT_OF_RANGE: End of sequence\n"
     ]
    },
    {
     "name": "stdout",
     "output_type": "stream",
     "text": [
      "Epoch 37, Step 0, Total Loss: 9.8886, MLM Loss: 9.8886, NSP Loss: 0.7913\n"
     ]
    },
    {
     "name": "stderr",
     "output_type": "stream",
     "text": [
      "2024-05-16 11:06:15.966932: W tensorflow/core/framework/local_rendezvous.cc:404] Local rendezvous is aborting with status: OUT_OF_RANGE: End of sequence\n"
     ]
    },
    {
     "name": "stdout",
     "output_type": "stream",
     "text": [
      "Epoch 38, Step 0, Total Loss: 9.9162, MLM Loss: 9.9162, NSP Loss: 0.8017\n"
     ]
    },
    {
     "name": "stderr",
     "output_type": "stream",
     "text": [
      "2024-05-16 11:06:17.294502: W tensorflow/core/framework/local_rendezvous.cc:404] Local rendezvous is aborting with status: OUT_OF_RANGE: End of sequence\n"
     ]
    },
    {
     "name": "stdout",
     "output_type": "stream",
     "text": [
      "Epoch 39, Step 0, Total Loss: 9.8396, MLM Loss: 9.8396, NSP Loss: 0.7087\n"
     ]
    },
    {
     "name": "stderr",
     "output_type": "stream",
     "text": [
      "2024-05-16 11:06:18.577463: W tensorflow/core/framework/local_rendezvous.cc:404] Local rendezvous is aborting with status: OUT_OF_RANGE: End of sequence\n"
     ]
    },
    {
     "name": "stdout",
     "output_type": "stream",
     "text": [
      "Epoch 40, Step 0, Total Loss: 9.8344, MLM Loss: 9.8344, NSP Loss: 0.8255\n"
     ]
    },
    {
     "name": "stderr",
     "output_type": "stream",
     "text": [
      "2024-05-16 11:06:19.867774: W tensorflow/core/framework/local_rendezvous.cc:404] Local rendezvous is aborting with status: OUT_OF_RANGE: End of sequence\n"
     ]
    },
    {
     "name": "stdout",
     "output_type": "stream",
     "text": [
      "Epoch 41, Step 0, Total Loss: 9.8138, MLM Loss: 9.8138, NSP Loss: 0.8037\n"
     ]
    },
    {
     "name": "stderr",
     "output_type": "stream",
     "text": [
      "2024-05-16 11:06:21.167325: W tensorflow/core/framework/local_rendezvous.cc:404] Local rendezvous is aborting with status: OUT_OF_RANGE: End of sequence\n"
     ]
    },
    {
     "name": "stdout",
     "output_type": "stream",
     "text": [
      "Epoch 42, Step 0, Total Loss: 9.8025, MLM Loss: 9.8025, NSP Loss: 0.6386\n"
     ]
    },
    {
     "name": "stderr",
     "output_type": "stream",
     "text": [
      "2024-05-16 11:06:22.520093: W tensorflow/core/framework/local_rendezvous.cc:404] Local rendezvous is aborting with status: OUT_OF_RANGE: End of sequence\n"
     ]
    },
    {
     "name": "stdout",
     "output_type": "stream",
     "text": [
      "Epoch 43, Step 0, Total Loss: 9.7586, MLM Loss: 9.7586, NSP Loss: 0.7449\n"
     ]
    },
    {
     "name": "stderr",
     "output_type": "stream",
     "text": [
      "2024-05-16 11:06:23.929167: W tensorflow/core/framework/local_rendezvous.cc:404] Local rendezvous is aborting with status: OUT_OF_RANGE: End of sequence\n"
     ]
    },
    {
     "name": "stdout",
     "output_type": "stream",
     "text": [
      "Epoch 44, Step 0, Total Loss: 9.7457, MLM Loss: 9.7457, NSP Loss: 0.5881\n"
     ]
    },
    {
     "name": "stderr",
     "output_type": "stream",
     "text": [
      "2024-05-16 11:06:25.287374: W tensorflow/core/framework/local_rendezvous.cc:404] Local rendezvous is aborting with status: OUT_OF_RANGE: End of sequence\n"
     ]
    },
    {
     "name": "stdout",
     "output_type": "stream",
     "text": [
      "Epoch 45, Step 0, Total Loss: 9.7618, MLM Loss: 9.7618, NSP Loss: 0.7520\n"
     ]
    },
    {
     "name": "stderr",
     "output_type": "stream",
     "text": [
      "2024-05-16 11:06:26.666982: W tensorflow/core/framework/local_rendezvous.cc:404] Local rendezvous is aborting with status: OUT_OF_RANGE: End of sequence\n"
     ]
    },
    {
     "name": "stdout",
     "output_type": "stream",
     "text": [
      "Epoch 46, Step 0, Total Loss: 9.7157, MLM Loss: 9.7157, NSP Loss: 0.7484\n"
     ]
    },
    {
     "name": "stderr",
     "output_type": "stream",
     "text": [
      "2024-05-16 11:06:28.173975: W tensorflow/core/framework/local_rendezvous.cc:404] Local rendezvous is aborting with status: OUT_OF_RANGE: End of sequence\n"
     ]
    },
    {
     "name": "stdout",
     "output_type": "stream",
     "text": [
      "Epoch 47, Step 0, Total Loss: 9.7121, MLM Loss: 9.7121, NSP Loss: 0.7630\n"
     ]
    },
    {
     "name": "stderr",
     "output_type": "stream",
     "text": [
      "2024-05-16 11:06:29.887557: W tensorflow/core/framework/local_rendezvous.cc:404] Local rendezvous is aborting with status: OUT_OF_RANGE: End of sequence\n"
     ]
    },
    {
     "name": "stdout",
     "output_type": "stream",
     "text": [
      "Epoch 48, Step 0, Total Loss: 9.6765, MLM Loss: 9.6765, NSP Loss: 0.6966\n"
     ]
    },
    {
     "name": "stderr",
     "output_type": "stream",
     "text": [
      "2024-05-16 11:06:31.580456: W tensorflow/core/framework/local_rendezvous.cc:404] Local rendezvous is aborting with status: OUT_OF_RANGE: End of sequence\n"
     ]
    },
    {
     "name": "stdout",
     "output_type": "stream",
     "text": [
      "Epoch 49, Step 0, Total Loss: 9.6340, MLM Loss: 9.6340, NSP Loss: 0.7328\n"
     ]
    },
    {
     "name": "stderr",
     "output_type": "stream",
     "text": [
      "2024-05-16 11:06:33.208940: W tensorflow/core/framework/local_rendezvous.cc:404] Local rendezvous is aborting with status: OUT_OF_RANGE: End of sequence\n"
     ]
    },
    {
     "name": "stdout",
     "output_type": "stream",
     "text": [
      "Epoch 50, Step 0, Total Loss: 9.6577, MLM Loss: 9.6577, NSP Loss: 0.7028\n"
     ]
    },
    {
     "name": "stderr",
     "output_type": "stream",
     "text": [
      "2024-05-16 11:06:34.781596: W tensorflow/core/framework/local_rendezvous.cc:404] Local rendezvous is aborting with status: OUT_OF_RANGE: End of sequence\n"
     ]
    },
    {
     "name": "stdout",
     "output_type": "stream",
     "text": [
      "Epoch 51, Step 0, Total Loss: 9.6225, MLM Loss: 9.6225, NSP Loss: 0.7240\n"
     ]
    },
    {
     "name": "stderr",
     "output_type": "stream",
     "text": [
      "2024-05-16 11:06:36.317621: W tensorflow/core/framework/local_rendezvous.cc:404] Local rendezvous is aborting with status: OUT_OF_RANGE: End of sequence\n"
     ]
    },
    {
     "name": "stdout",
     "output_type": "stream",
     "text": [
      "Epoch 52, Step 0, Total Loss: 9.5863, MLM Loss: 9.5863, NSP Loss: 0.7805\n"
     ]
    },
    {
     "name": "stderr",
     "output_type": "stream",
     "text": [
      "2024-05-16 11:06:37.851868: W tensorflow/core/framework/local_rendezvous.cc:404] Local rendezvous is aborting with status: OUT_OF_RANGE: End of sequence\n"
     ]
    },
    {
     "name": "stdout",
     "output_type": "stream",
     "text": [
      "Epoch 53, Step 0, Total Loss: 9.5837, MLM Loss: 9.5837, NSP Loss: 0.9090\n"
     ]
    },
    {
     "name": "stderr",
     "output_type": "stream",
     "text": [
      "2024-05-16 11:06:39.358865: W tensorflow/core/framework/local_rendezvous.cc:404] Local rendezvous is aborting with status: OUT_OF_RANGE: End of sequence\n"
     ]
    },
    {
     "name": "stdout",
     "output_type": "stream",
     "text": [
      "Epoch 54, Step 0, Total Loss: 9.5552, MLM Loss: 9.5552, NSP Loss: 0.9720\n"
     ]
    },
    {
     "name": "stderr",
     "output_type": "stream",
     "text": [
      "2024-05-16 11:06:40.806480: W tensorflow/core/framework/local_rendezvous.cc:404] Local rendezvous is aborting with status: OUT_OF_RANGE: End of sequence\n"
     ]
    },
    {
     "name": "stdout",
     "output_type": "stream",
     "text": [
      "Epoch 55, Step 0, Total Loss: 9.5236, MLM Loss: 9.5236, NSP Loss: 0.7683\n"
     ]
    },
    {
     "name": "stderr",
     "output_type": "stream",
     "text": [
      "2024-05-16 11:06:42.168718: W tensorflow/core/framework/local_rendezvous.cc:404] Local rendezvous is aborting with status: OUT_OF_RANGE: End of sequence\n"
     ]
    },
    {
     "name": "stdout",
     "output_type": "stream",
     "text": [
      "Epoch 56, Step 0, Total Loss: 9.4820, MLM Loss: 9.4820, NSP Loss: 0.9051\n"
     ]
    },
    {
     "name": "stderr",
     "output_type": "stream",
     "text": [
      "2024-05-16 11:06:43.553318: W tensorflow/core/framework/local_rendezvous.cc:404] Local rendezvous is aborting with status: OUT_OF_RANGE: End of sequence\n"
     ]
    },
    {
     "name": "stdout",
     "output_type": "stream",
     "text": [
      "Epoch 57, Step 0, Total Loss: 9.5084, MLM Loss: 9.5084, NSP Loss: 0.7577\n"
     ]
    },
    {
     "name": "stderr",
     "output_type": "stream",
     "text": [
      "2024-05-16 11:06:44.935489: W tensorflow/core/framework/local_rendezvous.cc:404] Local rendezvous is aborting with status: OUT_OF_RANGE: End of sequence\n"
     ]
    },
    {
     "name": "stdout",
     "output_type": "stream",
     "text": [
      "Epoch 58, Step 0, Total Loss: 9.4902, MLM Loss: 9.4902, NSP Loss: 0.7844\n"
     ]
    },
    {
     "name": "stderr",
     "output_type": "stream",
     "text": [
      "2024-05-16 11:06:46.355484: W tensorflow/core/framework/local_rendezvous.cc:404] Local rendezvous is aborting with status: OUT_OF_RANGE: End of sequence\n"
     ]
    },
    {
     "name": "stdout",
     "output_type": "stream",
     "text": [
      "Epoch 59, Step 0, Total Loss: 9.4766, MLM Loss: 9.4766, NSP Loss: 0.7764\n"
     ]
    },
    {
     "name": "stderr",
     "output_type": "stream",
     "text": [
      "2024-05-16 11:06:47.715680: W tensorflow/core/framework/local_rendezvous.cc:404] Local rendezvous is aborting with status: OUT_OF_RANGE: End of sequence\n"
     ]
    },
    {
     "name": "stdout",
     "output_type": "stream",
     "text": [
      "Epoch 60, Step 0, Total Loss: 9.4409, MLM Loss: 9.4409, NSP Loss: 0.7934\n"
     ]
    },
    {
     "name": "stderr",
     "output_type": "stream",
     "text": [
      "2024-05-16 11:06:49.051299: W tensorflow/core/framework/local_rendezvous.cc:404] Local rendezvous is aborting with status: OUT_OF_RANGE: End of sequence\n"
     ]
    },
    {
     "name": "stdout",
     "output_type": "stream",
     "text": [
      "Epoch 61, Step 0, Total Loss: 9.4356, MLM Loss: 9.4356, NSP Loss: 0.8621\n"
     ]
    },
    {
     "name": "stderr",
     "output_type": "stream",
     "text": [
      "2024-05-16 11:06:50.368268: W tensorflow/core/framework/local_rendezvous.cc:404] Local rendezvous is aborting with status: OUT_OF_RANGE: End of sequence\n"
     ]
    },
    {
     "name": "stdout",
     "output_type": "stream",
     "text": [
      "Epoch 62, Step 0, Total Loss: 9.3979, MLM Loss: 9.3979, NSP Loss: 0.6562\n"
     ]
    },
    {
     "name": "stderr",
     "output_type": "stream",
     "text": [
      "2024-05-16 11:06:51.747969: W tensorflow/core/framework/local_rendezvous.cc:404] Local rendezvous is aborting with status: OUT_OF_RANGE: End of sequence\n"
     ]
    },
    {
     "name": "stdout",
     "output_type": "stream",
     "text": [
      "Epoch 63, Step 0, Total Loss: 9.3804, MLM Loss: 9.3804, NSP Loss: 0.7982\n"
     ]
    },
    {
     "name": "stderr",
     "output_type": "stream",
     "text": [
      "2024-05-16 11:06:53.056440: W tensorflow/core/framework/local_rendezvous.cc:404] Local rendezvous is aborting with status: OUT_OF_RANGE: End of sequence\n"
     ]
    },
    {
     "name": "stdout",
     "output_type": "stream",
     "text": [
      "Epoch 64, Step 0, Total Loss: 9.3805, MLM Loss: 9.3805, NSP Loss: 0.7430\n"
     ]
    },
    {
     "name": "stderr",
     "output_type": "stream",
     "text": [
      "2024-05-16 11:06:54.423165: W tensorflow/core/framework/local_rendezvous.cc:404] Local rendezvous is aborting with status: OUT_OF_RANGE: End of sequence\n"
     ]
    },
    {
     "name": "stdout",
     "output_type": "stream",
     "text": [
      "Epoch 65, Step 0, Total Loss: 9.3652, MLM Loss: 9.3652, NSP Loss: 0.6402\n"
     ]
    },
    {
     "name": "stderr",
     "output_type": "stream",
     "text": [
      "2024-05-16 11:06:55.748900: W tensorflow/core/framework/local_rendezvous.cc:404] Local rendezvous is aborting with status: OUT_OF_RANGE: End of sequence\n"
     ]
    },
    {
     "name": "stdout",
     "output_type": "stream",
     "text": [
      "Epoch 66, Step 0, Total Loss: 9.3036, MLM Loss: 9.3036, NSP Loss: 0.8558\n"
     ]
    },
    {
     "name": "stderr",
     "output_type": "stream",
     "text": [
      "2024-05-16 11:06:57.055296: W tensorflow/core/framework/local_rendezvous.cc:404] Local rendezvous is aborting with status: OUT_OF_RANGE: End of sequence\n"
     ]
    },
    {
     "name": "stdout",
     "output_type": "stream",
     "text": [
      "Epoch 67, Step 0, Total Loss: 9.3270, MLM Loss: 9.3270, NSP Loss: 0.8807\n"
     ]
    },
    {
     "name": "stderr",
     "output_type": "stream",
     "text": [
      "2024-05-16 11:06:58.372897: W tensorflow/core/framework/local_rendezvous.cc:404] Local rendezvous is aborting with status: OUT_OF_RANGE: End of sequence\n"
     ]
    },
    {
     "name": "stdout",
     "output_type": "stream",
     "text": [
      "Epoch 68, Step 0, Total Loss: 9.2914, MLM Loss: 9.2914, NSP Loss: 0.8570\n"
     ]
    },
    {
     "name": "stderr",
     "output_type": "stream",
     "text": [
      "2024-05-16 11:06:59.695285: W tensorflow/core/framework/local_rendezvous.cc:404] Local rendezvous is aborting with status: OUT_OF_RANGE: End of sequence\n"
     ]
    },
    {
     "name": "stdout",
     "output_type": "stream",
     "text": [
      "Epoch 69, Step 0, Total Loss: 9.2588, MLM Loss: 9.2588, NSP Loss: 0.6241\n"
     ]
    },
    {
     "name": "stderr",
     "output_type": "stream",
     "text": [
      "2024-05-16 11:07:01.019280: W tensorflow/core/framework/local_rendezvous.cc:404] Local rendezvous is aborting with status: OUT_OF_RANGE: End of sequence\n"
     ]
    },
    {
     "name": "stdout",
     "output_type": "stream",
     "text": [
      "Epoch 70, Step 0, Total Loss: 9.2118, MLM Loss: 9.2118, NSP Loss: 0.7096\n"
     ]
    },
    {
     "name": "stderr",
     "output_type": "stream",
     "text": [
      "2024-05-16 11:07:02.338508: W tensorflow/core/framework/local_rendezvous.cc:404] Local rendezvous is aborting with status: OUT_OF_RANGE: End of sequence\n"
     ]
    },
    {
     "name": "stdout",
     "output_type": "stream",
     "text": [
      "Epoch 71, Step 0, Total Loss: 9.2204, MLM Loss: 9.2204, NSP Loss: 0.7138\n"
     ]
    },
    {
     "name": "stderr",
     "output_type": "stream",
     "text": [
      "2024-05-16 11:07:03.646075: W tensorflow/core/framework/local_rendezvous.cc:404] Local rendezvous is aborting with status: OUT_OF_RANGE: End of sequence\n"
     ]
    },
    {
     "name": "stdout",
     "output_type": "stream",
     "text": [
      "Epoch 72, Step 0, Total Loss: 9.2043, MLM Loss: 9.2043, NSP Loss: 0.6461\n"
     ]
    },
    {
     "name": "stderr",
     "output_type": "stream",
     "text": [
      "2024-05-16 11:07:04.953253: W tensorflow/core/framework/local_rendezvous.cc:404] Local rendezvous is aborting with status: OUT_OF_RANGE: End of sequence\n"
     ]
    },
    {
     "name": "stdout",
     "output_type": "stream",
     "text": [
      "Epoch 73, Step 0, Total Loss: 9.1764, MLM Loss: 9.1764, NSP Loss: 0.8302\n"
     ]
    },
    {
     "name": "stderr",
     "output_type": "stream",
     "text": [
      "2024-05-16 11:07:06.284394: W tensorflow/core/framework/local_rendezvous.cc:404] Local rendezvous is aborting with status: OUT_OF_RANGE: End of sequence\n"
     ]
    },
    {
     "name": "stdout",
     "output_type": "stream",
     "text": [
      "Epoch 74, Step 0, Total Loss: 9.1492, MLM Loss: 9.1492, NSP Loss: 0.7267\n"
     ]
    },
    {
     "name": "stderr",
     "output_type": "stream",
     "text": [
      "2024-05-16 11:07:07.596203: W tensorflow/core/framework/local_rendezvous.cc:404] Local rendezvous is aborting with status: OUT_OF_RANGE: End of sequence\n"
     ]
    },
    {
     "name": "stdout",
     "output_type": "stream",
     "text": [
      "Epoch 75, Step 0, Total Loss: 9.1446, MLM Loss: 9.1446, NSP Loss: 0.8544\n"
     ]
    },
    {
     "name": "stderr",
     "output_type": "stream",
     "text": [
      "2024-05-16 11:07:08.900148: W tensorflow/core/framework/local_rendezvous.cc:404] Local rendezvous is aborting with status: OUT_OF_RANGE: End of sequence\n"
     ]
    },
    {
     "name": "stdout",
     "output_type": "stream",
     "text": [
      "Epoch 76, Step 0, Total Loss: 9.1102, MLM Loss: 9.1102, NSP Loss: 0.7594\n"
     ]
    },
    {
     "name": "stderr",
     "output_type": "stream",
     "text": [
      "2024-05-16 11:07:10.218968: W tensorflow/core/framework/local_rendezvous.cc:404] Local rendezvous is aborting with status: OUT_OF_RANGE: End of sequence\n"
     ]
    },
    {
     "name": "stdout",
     "output_type": "stream",
     "text": [
      "Epoch 77, Step 0, Total Loss: 9.0945, MLM Loss: 9.0945, NSP Loss: 0.8876\n"
     ]
    },
    {
     "name": "stderr",
     "output_type": "stream",
     "text": [
      "2024-05-16 11:07:11.527941: W tensorflow/core/framework/local_rendezvous.cc:404] Local rendezvous is aborting with status: OUT_OF_RANGE: End of sequence\n"
     ]
    },
    {
     "name": "stdout",
     "output_type": "stream",
     "text": [
      "Epoch 78, Step 0, Total Loss: 9.0711, MLM Loss: 9.0711, NSP Loss: 0.7874\n"
     ]
    },
    {
     "name": "stderr",
     "output_type": "stream",
     "text": [
      "2024-05-16 11:07:12.854529: W tensorflow/core/framework/local_rendezvous.cc:404] Local rendezvous is aborting with status: OUT_OF_RANGE: End of sequence\n"
     ]
    },
    {
     "name": "stdout",
     "output_type": "stream",
     "text": [
      "Epoch 79, Step 0, Total Loss: 9.0417, MLM Loss: 9.0417, NSP Loss: 0.7179\n"
     ]
    },
    {
     "name": "stderr",
     "output_type": "stream",
     "text": [
      "2024-05-16 11:07:14.210091: W tensorflow/core/framework/local_rendezvous.cc:404] Local rendezvous is aborting with status: OUT_OF_RANGE: End of sequence\n"
     ]
    },
    {
     "name": "stdout",
     "output_type": "stream",
     "text": [
      "Epoch 80, Step 0, Total Loss: 8.9940, MLM Loss: 8.9940, NSP Loss: 1.0353\n"
     ]
    },
    {
     "name": "stderr",
     "output_type": "stream",
     "text": [
      "2024-05-16 11:07:15.682850: W tensorflow/core/framework/local_rendezvous.cc:404] Local rendezvous is aborting with status: OUT_OF_RANGE: End of sequence\n"
     ]
    },
    {
     "name": "stdout",
     "output_type": "stream",
     "text": [
      "Epoch 81, Step 0, Total Loss: 9.0018, MLM Loss: 9.0018, NSP Loss: 0.9501\n"
     ]
    },
    {
     "name": "stderr",
     "output_type": "stream",
     "text": [
      "2024-05-16 11:07:17.267686: W tensorflow/core/framework/local_rendezvous.cc:404] Local rendezvous is aborting with status: OUT_OF_RANGE: End of sequence\n"
     ]
    },
    {
     "name": "stdout",
     "output_type": "stream",
     "text": [
      "Epoch 82, Step 0, Total Loss: 9.0022, MLM Loss: 9.0022, NSP Loss: 0.7825\n"
     ]
    },
    {
     "name": "stderr",
     "output_type": "stream",
     "text": [
      "2024-05-16 11:07:18.753736: W tensorflow/core/framework/local_rendezvous.cc:404] Local rendezvous is aborting with status: OUT_OF_RANGE: End of sequence\n"
     ]
    },
    {
     "name": "stdout",
     "output_type": "stream",
     "text": [
      "Epoch 83, Step 0, Total Loss: 8.9456, MLM Loss: 8.9456, NSP Loss: 0.6976\n"
     ]
    },
    {
     "name": "stderr",
     "output_type": "stream",
     "text": [
      "2024-05-16 11:07:20.315559: W tensorflow/core/framework/local_rendezvous.cc:404] Local rendezvous is aborting with status: OUT_OF_RANGE: End of sequence\n"
     ]
    },
    {
     "name": "stdout",
     "output_type": "stream",
     "text": [
      "Epoch 84, Step 0, Total Loss: 8.9386, MLM Loss: 8.9386, NSP Loss: 0.6444\n"
     ]
    },
    {
     "name": "stderr",
     "output_type": "stream",
     "text": [
      "2024-05-16 11:07:21.829121: W tensorflow/core/framework/local_rendezvous.cc:404] Local rendezvous is aborting with status: OUT_OF_RANGE: End of sequence\n"
     ]
    },
    {
     "name": "stdout",
     "output_type": "stream",
     "text": [
      "Epoch 85, Step 0, Total Loss: 8.9409, MLM Loss: 8.9409, NSP Loss: 0.7415\n"
     ]
    },
    {
     "name": "stderr",
     "output_type": "stream",
     "text": [
      "2024-05-16 11:07:23.351961: W tensorflow/core/framework/local_rendezvous.cc:404] Local rendezvous is aborting with status: OUT_OF_RANGE: End of sequence\n"
     ]
    },
    {
     "name": "stdout",
     "output_type": "stream",
     "text": [
      "Epoch 86, Step 0, Total Loss: 8.8871, MLM Loss: 8.8871, NSP Loss: 0.8380\n"
     ]
    },
    {
     "name": "stderr",
     "output_type": "stream",
     "text": [
      "2024-05-16 11:07:24.804257: W tensorflow/core/framework/local_rendezvous.cc:404] Local rendezvous is aborting with status: OUT_OF_RANGE: End of sequence\n"
     ]
    },
    {
     "name": "stdout",
     "output_type": "stream",
     "text": [
      "Epoch 87, Step 0, Total Loss: 8.8399, MLM Loss: 8.8399, NSP Loss: 0.9388\n"
     ]
    },
    {
     "name": "stderr",
     "output_type": "stream",
     "text": [
      "2024-05-16 11:07:26.272296: W tensorflow/core/framework/local_rendezvous.cc:404] Local rendezvous is aborting with status: OUT_OF_RANGE: End of sequence\n"
     ]
    },
    {
     "name": "stdout",
     "output_type": "stream",
     "text": [
      "Epoch 88, Step 0, Total Loss: 8.8390, MLM Loss: 8.8390, NSP Loss: 0.7943\n"
     ]
    },
    {
     "name": "stderr",
     "output_type": "stream",
     "text": [
      "2024-05-16 11:07:27.688584: W tensorflow/core/framework/local_rendezvous.cc:404] Local rendezvous is aborting with status: OUT_OF_RANGE: End of sequence\n"
     ]
    },
    {
     "name": "stdout",
     "output_type": "stream",
     "text": [
      "Epoch 89, Step 0, Total Loss: 8.8104, MLM Loss: 8.8104, NSP Loss: 0.8526\n"
     ]
    },
    {
     "name": "stderr",
     "output_type": "stream",
     "text": [
      "2024-05-16 11:07:29.099037: W tensorflow/core/framework/local_rendezvous.cc:404] Local rendezvous is aborting with status: OUT_OF_RANGE: End of sequence\n"
     ]
    },
    {
     "name": "stdout",
     "output_type": "stream",
     "text": [
      "Epoch 90, Step 0, Total Loss: 8.7807, MLM Loss: 8.7807, NSP Loss: 0.8083\n"
     ]
    },
    {
     "name": "stderr",
     "output_type": "stream",
     "text": [
      "2024-05-16 11:07:30.482832: W tensorflow/core/framework/local_rendezvous.cc:404] Local rendezvous is aborting with status: OUT_OF_RANGE: End of sequence\n"
     ]
    },
    {
     "name": "stdout",
     "output_type": "stream",
     "text": [
      "Epoch 91, Step 0, Total Loss: 8.7379, MLM Loss: 8.7379, NSP Loss: 0.9789\n"
     ]
    },
    {
     "name": "stderr",
     "output_type": "stream",
     "text": [
      "2024-05-16 11:07:31.877849: W tensorflow/core/framework/local_rendezvous.cc:404] Local rendezvous is aborting with status: OUT_OF_RANGE: End of sequence\n"
     ]
    },
    {
     "name": "stdout",
     "output_type": "stream",
     "text": [
      "Epoch 92, Step 0, Total Loss: 8.7275, MLM Loss: 8.7275, NSP Loss: 0.8325\n"
     ]
    },
    {
     "name": "stderr",
     "output_type": "stream",
     "text": [
      "2024-05-16 11:07:33.358974: W tensorflow/core/framework/local_rendezvous.cc:404] Local rendezvous is aborting with status: OUT_OF_RANGE: End of sequence\n"
     ]
    },
    {
     "name": "stdout",
     "output_type": "stream",
     "text": [
      "Epoch 93, Step 0, Total Loss: 8.7004, MLM Loss: 8.7004, NSP Loss: 0.7062\n"
     ]
    },
    {
     "name": "stderr",
     "output_type": "stream",
     "text": [
      "2024-05-16 11:07:34.835102: W tensorflow/core/framework/local_rendezvous.cc:404] Local rendezvous is aborting with status: OUT_OF_RANGE: End of sequence\n"
     ]
    },
    {
     "name": "stdout",
     "output_type": "stream",
     "text": [
      "Epoch 94, Step 0, Total Loss: 8.6888, MLM Loss: 8.6888, NSP Loss: 0.8646\n"
     ]
    },
    {
     "name": "stderr",
     "output_type": "stream",
     "text": [
      "2024-05-16 11:07:36.354653: W tensorflow/core/framework/local_rendezvous.cc:404] Local rendezvous is aborting with status: OUT_OF_RANGE: End of sequence\n"
     ]
    },
    {
     "name": "stdout",
     "output_type": "stream",
     "text": [
      "Epoch 95, Step 0, Total Loss: 8.6691, MLM Loss: 8.6691, NSP Loss: 0.7720\n"
     ]
    },
    {
     "name": "stderr",
     "output_type": "stream",
     "text": [
      "2024-05-16 11:07:37.897035: W tensorflow/core/framework/local_rendezvous.cc:404] Local rendezvous is aborting with status: OUT_OF_RANGE: End of sequence\n"
     ]
    },
    {
     "name": "stdout",
     "output_type": "stream",
     "text": [
      "Epoch 96, Step 0, Total Loss: 8.6194, MLM Loss: 8.6194, NSP Loss: 0.7994\n"
     ]
    },
    {
     "name": "stderr",
     "output_type": "stream",
     "text": [
      "2024-05-16 11:07:39.474798: W tensorflow/core/framework/local_rendezvous.cc:404] Local rendezvous is aborting with status: OUT_OF_RANGE: End of sequence\n"
     ]
    },
    {
     "name": "stdout",
     "output_type": "stream",
     "text": [
      "Epoch 97, Step 0, Total Loss: 8.5966, MLM Loss: 8.5966, NSP Loss: 0.8384\n"
     ]
    },
    {
     "name": "stderr",
     "output_type": "stream",
     "text": [
      "2024-05-16 11:07:40.912835: W tensorflow/core/framework/local_rendezvous.cc:404] Local rendezvous is aborting with status: OUT_OF_RANGE: End of sequence\n"
     ]
    },
    {
     "name": "stdout",
     "output_type": "stream",
     "text": [
      "Epoch 98, Step 0, Total Loss: 8.5884, MLM Loss: 8.5884, NSP Loss: 0.7938\n"
     ]
    },
    {
     "name": "stderr",
     "output_type": "stream",
     "text": [
      "2024-05-16 11:07:42.547898: W tensorflow/core/framework/local_rendezvous.cc:404] Local rendezvous is aborting with status: OUT_OF_RANGE: End of sequence\n"
     ]
    },
    {
     "name": "stdout",
     "output_type": "stream",
     "text": [
      "Epoch 99, Step 0, Total Loss: 8.5649, MLM Loss: 8.5649, NSP Loss: 0.7803\n"
     ]
    },
    {
     "name": "stderr",
     "output_type": "stream",
     "text": [
      "2024-05-16 11:07:44.111065: W tensorflow/core/framework/local_rendezvous.cc:404] Local rendezvous is aborting with status: OUT_OF_RANGE: End of sequence\n"
     ]
    },
    {
     "name": "stdout",
     "output_type": "stream",
     "text": [
      "Epoch 100, Step 0, Total Loss: 8.5479, MLM Loss: 8.5479, NSP Loss: 0.7651\n"
     ]
    },
    {
     "name": "stderr",
     "output_type": "stream",
     "text": [
      "2024-05-16 11:07:45.505561: W tensorflow/core/framework/local_rendezvous.cc:404] Local rendezvous is aborting with status: OUT_OF_RANGE: End of sequence\n"
     ]
    }
   ],
   "source": [
    "train_dataset = train_dataset.repeat()\n",
    "epochs = 100\n",
    "for epoch in range(epochs):\n",
    "    step = 0\n",
    "    for inputs, labels in train_dataset.take(1):\n",
    "        # tf.print(\"input_ids:\", inputs['input_ids'][0], summarize=-1)\n",
    "        loss_values = train_step(inputs, labels, task='mlm')\n",
    "        if step % 10 == 0:\n",
    "            print(f\"Epoch {epoch + 1}, Step {step}, Total Loss: {loss_values[0].numpy():.4f}, MLM Loss: {loss_values[1].numpy():.4f}, NSP Loss: {loss_values[2].numpy():.4f}\")\n",
    "        step += 1\n",
    "# for epoch in range(epochs):\n",
    "#     step = 0\n",
    "#     # Create a new iterator for each epoch\n",
    "#     dataset_iter = iter(train_dataset.take(10))\n",
    "#     while True:\n",
    "#         try:\n",
    "#             inputs, labels = next(dataset_iter)\n",
    "#             loss_values = train_step(inputs, labels, task='mlm')\n",
    "#             if step % 10 == 0:\n",
    "#                 print(f\"Epoch {epoch + 1}, Step {step}, Total Loss: {loss_values[0].numpy():.4f}, MLM Loss: {loss_values[1].numpy():.4f}, NSP Loss: {loss_values[2].numpy():.4f}\")\n",
    "#             step += 1\n",
    "#             # Break after one batch to simulate take(1)\n",
    "#             # break\n",
    "#         except StopIteration:\n",
    "#             break"
   ]
  },
  {
   "cell_type": "markdown",
   "id": "c6b8d253-e267-44d1-a0e9-30b8a807972d",
   "metadata": {
    "jp-MarkdownHeadingCollapsed": true
   },
   "source": [
    "###  pre-training with mlm and nsp"
   ]
  },
  {
   "cell_type": "code",
   "execution_count": 148,
   "id": "163078fe-11be-4884-8047-57c33ed6e995",
   "metadata": {},
   "outputs": [
    {
     "name": "stdout",
     "output_type": "stream",
     "text": [
      "Epoch 1, Step 0, Total Loss: 9.2853, MLM Loss: 8.5035, NSP Loss: 0.7818\n"
     ]
    },
    {
     "name": "stderr",
     "output_type": "stream",
     "text": [
      "2024-05-16 16:11:12.980846: W tensorflow/core/framework/local_rendezvous.cc:404] Local rendezvous is aborting with status: OUT_OF_RANGE: End of sequence\n"
     ]
    },
    {
     "name": "stdout",
     "output_type": "stream",
     "text": [
      "Epoch 2, Step 0, Total Loss: 9.2618, MLM Loss: 8.4925, NSP Loss: 0.7693\n"
     ]
    },
    {
     "name": "stderr",
     "output_type": "stream",
     "text": [
      "2024-05-16 16:11:14.137424: W tensorflow/core/framework/local_rendezvous.cc:404] Local rendezvous is aborting with status: OUT_OF_RANGE: End of sequence\n"
     ]
    },
    {
     "name": "stdout",
     "output_type": "stream",
     "text": [
      "Epoch 3, Step 0, Total Loss: 9.2957, MLM Loss: 8.4526, NSP Loss: 0.8431\n"
     ]
    },
    {
     "name": "stderr",
     "output_type": "stream",
     "text": [
      "2024-05-16 16:11:15.302822: W tensorflow/core/framework/local_rendezvous.cc:404] Local rendezvous is aborting with status: OUT_OF_RANGE: End of sequence\n"
     ]
    },
    {
     "name": "stdout",
     "output_type": "stream",
     "text": [
      "Epoch 4, Step 0, Total Loss: 9.0262, MLM Loss: 8.4133, NSP Loss: 0.6129\n"
     ]
    },
    {
     "name": "stderr",
     "output_type": "stream",
     "text": [
      "2024-05-16 16:11:16.454072: W tensorflow/core/framework/local_rendezvous.cc:404] Local rendezvous is aborting with status: OUT_OF_RANGE: End of sequence\n"
     ]
    },
    {
     "name": "stdout",
     "output_type": "stream",
     "text": [
      "Epoch 5, Step 0, Total Loss: 8.9619, MLM Loss: 8.4075, NSP Loss: 0.5544\n"
     ]
    },
    {
     "name": "stderr",
     "output_type": "stream",
     "text": [
      "2024-05-16 16:11:17.593652: W tensorflow/core/framework/local_rendezvous.cc:404] Local rendezvous is aborting with status: OUT_OF_RANGE: End of sequence\n"
     ]
    },
    {
     "name": "stdout",
     "output_type": "stream",
     "text": [
      "Epoch 6, Step 0, Total Loss: 8.9275, MLM Loss: 8.3956, NSP Loss: 0.5319\n"
     ]
    },
    {
     "name": "stderr",
     "output_type": "stream",
     "text": [
      "2024-05-16 16:11:18.753803: W tensorflow/core/framework/local_rendezvous.cc:404] Local rendezvous is aborting with status: OUT_OF_RANGE: End of sequence\n"
     ]
    },
    {
     "name": "stdout",
     "output_type": "stream",
     "text": [
      "Epoch 7, Step 0, Total Loss: 8.8233, MLM Loss: 8.3807, NSP Loss: 0.4426\n"
     ]
    },
    {
     "name": "stderr",
     "output_type": "stream",
     "text": [
      "2024-05-16 16:11:19.910653: W tensorflow/core/framework/local_rendezvous.cc:404] Local rendezvous is aborting with status: OUT_OF_RANGE: End of sequence\n"
     ]
    },
    {
     "name": "stdout",
     "output_type": "stream",
     "text": [
      "Epoch 8, Step 0, Total Loss: 8.7205, MLM Loss: 8.3708, NSP Loss: 0.3497\n"
     ]
    },
    {
     "name": "stderr",
     "output_type": "stream",
     "text": [
      "2024-05-16 16:11:21.074901: W tensorflow/core/framework/local_rendezvous.cc:404] Local rendezvous is aborting with status: OUT_OF_RANGE: End of sequence\n"
     ]
    },
    {
     "name": "stdout",
     "output_type": "stream",
     "text": [
      "Epoch 9, Step 0, Total Loss: 8.5759, MLM Loss: 8.3451, NSP Loss: 0.2309\n"
     ]
    },
    {
     "name": "stderr",
     "output_type": "stream",
     "text": [
      "2024-05-16 16:11:22.229045: W tensorflow/core/framework/local_rendezvous.cc:404] Local rendezvous is aborting with status: OUT_OF_RANGE: End of sequence\n"
     ]
    },
    {
     "name": "stdout",
     "output_type": "stream",
     "text": [
      "Epoch 10, Step 0, Total Loss: 8.4935, MLM Loss: 8.3028, NSP Loss: 0.1906\n"
     ]
    },
    {
     "name": "stderr",
     "output_type": "stream",
     "text": [
      "2024-05-16 16:11:23.402598: W tensorflow/core/framework/local_rendezvous.cc:404] Local rendezvous is aborting with status: OUT_OF_RANGE: End of sequence\n"
     ]
    },
    {
     "name": "stdout",
     "output_type": "stream",
     "text": [
      "Epoch 11, Step 0, Total Loss: 8.5185, MLM Loss: 8.3012, NSP Loss: 0.2173\n"
     ]
    },
    {
     "name": "stderr",
     "output_type": "stream",
     "text": [
      "2024-05-16 16:11:24.606374: W tensorflow/core/framework/local_rendezvous.cc:404] Local rendezvous is aborting with status: OUT_OF_RANGE: End of sequence\n"
     ]
    },
    {
     "name": "stdout",
     "output_type": "stream",
     "text": [
      "Epoch 12, Step 0, Total Loss: 8.4484, MLM Loss: 8.2722, NSP Loss: 0.1762\n"
     ]
    },
    {
     "name": "stderr",
     "output_type": "stream",
     "text": [
      "2024-05-16 16:11:25.780957: W tensorflow/core/framework/local_rendezvous.cc:404] Local rendezvous is aborting with status: OUT_OF_RANGE: End of sequence\n"
     ]
    },
    {
     "name": "stdout",
     "output_type": "stream",
     "text": [
      "Epoch 13, Step 0, Total Loss: 8.5268, MLM Loss: 8.2448, NSP Loss: 0.2820\n"
     ]
    },
    {
     "name": "stderr",
     "output_type": "stream",
     "text": [
      "2024-05-16 16:11:26.944361: W tensorflow/core/framework/local_rendezvous.cc:404] Local rendezvous is aborting with status: OUT_OF_RANGE: End of sequence\n"
     ]
    },
    {
     "name": "stdout",
     "output_type": "stream",
     "text": [
      "Epoch 14, Step 0, Total Loss: 8.3182, MLM Loss: 8.2263, NSP Loss: 0.0919\n"
     ]
    },
    {
     "name": "stderr",
     "output_type": "stream",
     "text": [
      "2024-05-16 16:11:28.116963: W tensorflow/core/framework/local_rendezvous.cc:404] Local rendezvous is aborting with status: OUT_OF_RANGE: End of sequence\n"
     ]
    },
    {
     "name": "stdout",
     "output_type": "stream",
     "text": [
      "Epoch 15, Step 0, Total Loss: 8.3541, MLM Loss: 8.1970, NSP Loss: 0.1571\n"
     ]
    },
    {
     "name": "stderr",
     "output_type": "stream",
     "text": [
      "2024-05-16 16:11:29.308536: W tensorflow/core/framework/local_rendezvous.cc:404] Local rendezvous is aborting with status: OUT_OF_RANGE: End of sequence\n"
     ]
    },
    {
     "name": "stdout",
     "output_type": "stream",
     "text": [
      "Epoch 16, Step 0, Total Loss: 8.3399, MLM Loss: 8.1733, NSP Loss: 0.1666\n"
     ]
    },
    {
     "name": "stderr",
     "output_type": "stream",
     "text": [
      "2024-05-16 16:11:30.501190: W tensorflow/core/framework/local_rendezvous.cc:404] Local rendezvous is aborting with status: OUT_OF_RANGE: End of sequence\n"
     ]
    },
    {
     "name": "stdout",
     "output_type": "stream",
     "text": [
      "Epoch 17, Step 0, Total Loss: 8.2542, MLM Loss: 8.1484, NSP Loss: 0.1059\n"
     ]
    },
    {
     "name": "stderr",
     "output_type": "stream",
     "text": [
      "2024-05-16 16:11:31.653330: W tensorflow/core/framework/local_rendezvous.cc:404] Local rendezvous is aborting with status: OUT_OF_RANGE: End of sequence\n"
     ]
    },
    {
     "name": "stdout",
     "output_type": "stream",
     "text": [
      "Epoch 18, Step 0, Total Loss: 8.1511, MLM Loss: 8.1025, NSP Loss: 0.0486\n"
     ]
    },
    {
     "name": "stderr",
     "output_type": "stream",
     "text": [
      "2024-05-16 16:11:32.852965: W tensorflow/core/framework/local_rendezvous.cc:404] Local rendezvous is aborting with status: OUT_OF_RANGE: End of sequence\n"
     ]
    },
    {
     "name": "stdout",
     "output_type": "stream",
     "text": [
      "Epoch 19, Step 0, Total Loss: 8.1972, MLM Loss: 8.1144, NSP Loss: 0.0828\n"
     ]
    },
    {
     "name": "stderr",
     "output_type": "stream",
     "text": [
      "2024-05-16 16:11:34.035532: W tensorflow/core/framework/local_rendezvous.cc:404] Local rendezvous is aborting with status: OUT_OF_RANGE: End of sequence\n"
     ]
    },
    {
     "name": "stdout",
     "output_type": "stream",
     "text": [
      "Epoch 20, Step 0, Total Loss: 8.0876, MLM Loss: 8.0674, NSP Loss: 0.0202\n"
     ]
    },
    {
     "name": "stderr",
     "output_type": "stream",
     "text": [
      "2024-05-16 16:11:35.192186: W tensorflow/core/framework/local_rendezvous.cc:404] Local rendezvous is aborting with status: OUT_OF_RANGE: End of sequence\n"
     ]
    },
    {
     "name": "stdout",
     "output_type": "stream",
     "text": [
      "Epoch 21, Step 0, Total Loss: 8.0851, MLM Loss: 8.0628, NSP Loss: 0.0223\n"
     ]
    },
    {
     "name": "stderr",
     "output_type": "stream",
     "text": [
      "2024-05-16 16:11:36.372153: W tensorflow/core/framework/local_rendezvous.cc:404] Local rendezvous is aborting with status: OUT_OF_RANGE: End of sequence\n"
     ]
    },
    {
     "name": "stdout",
     "output_type": "stream",
     "text": [
      "Epoch 22, Step 0, Total Loss: 8.0932, MLM Loss: 8.0649, NSP Loss: 0.0283\n"
     ]
    },
    {
     "name": "stderr",
     "output_type": "stream",
     "text": [
      "2024-05-16 16:11:37.515898: W tensorflow/core/framework/local_rendezvous.cc:404] Local rendezvous is aborting with status: OUT_OF_RANGE: End of sequence\n"
     ]
    },
    {
     "name": "stdout",
     "output_type": "stream",
     "text": [
      "Epoch 23, Step 0, Total Loss: 8.0189, MLM Loss: 8.0124, NSP Loss: 0.0065\n"
     ]
    },
    {
     "name": "stderr",
     "output_type": "stream",
     "text": [
      "2024-05-16 16:11:38.701365: W tensorflow/core/framework/local_rendezvous.cc:404] Local rendezvous is aborting with status: OUT_OF_RANGE: End of sequence\n"
     ]
    },
    {
     "name": "stdout",
     "output_type": "stream",
     "text": [
      "Epoch 24, Step 0, Total Loss: 7.9813, MLM Loss: 7.9757, NSP Loss: 0.0056\n"
     ]
    },
    {
     "name": "stderr",
     "output_type": "stream",
     "text": [
      "2024-05-16 16:11:39.888117: W tensorflow/core/framework/local_rendezvous.cc:404] Local rendezvous is aborting with status: OUT_OF_RANGE: End of sequence\n"
     ]
    },
    {
     "name": "stdout",
     "output_type": "stream",
     "text": [
      "Epoch 25, Step 0, Total Loss: 7.9736, MLM Loss: 7.9694, NSP Loss: 0.0043\n"
     ]
    },
    {
     "name": "stderr",
     "output_type": "stream",
     "text": [
      "2024-05-16 16:11:41.057321: W tensorflow/core/framework/local_rendezvous.cc:404] Local rendezvous is aborting with status: OUT_OF_RANGE: End of sequence\n"
     ]
    },
    {
     "name": "stdout",
     "output_type": "stream",
     "text": [
      "Epoch 26, Step 0, Total Loss: 7.9236, MLM Loss: 7.9174, NSP Loss: 0.0062\n"
     ]
    },
    {
     "name": "stderr",
     "output_type": "stream",
     "text": [
      "2024-05-16 16:11:42.226981: W tensorflow/core/framework/local_rendezvous.cc:404] Local rendezvous is aborting with status: OUT_OF_RANGE: End of sequence\n"
     ]
    },
    {
     "name": "stdout",
     "output_type": "stream",
     "text": [
      "Epoch 27, Step 0, Total Loss: 7.8993, MLM Loss: 7.8959, NSP Loss: 0.0034\n"
     ]
    },
    {
     "name": "stderr",
     "output_type": "stream",
     "text": [
      "2024-05-16 16:11:43.432859: W tensorflow/core/framework/local_rendezvous.cc:404] Local rendezvous is aborting with status: OUT_OF_RANGE: End of sequence\n"
     ]
    },
    {
     "name": "stdout",
     "output_type": "stream",
     "text": [
      "Epoch 28, Step 0, Total Loss: 7.8621, MLM Loss: 7.8600, NSP Loss: 0.0021\n"
     ]
    },
    {
     "name": "stderr",
     "output_type": "stream",
     "text": [
      "2024-05-16 16:11:44.588475: W tensorflow/core/framework/local_rendezvous.cc:404] Local rendezvous is aborting with status: OUT_OF_RANGE: End of sequence\n"
     ]
    },
    {
     "name": "stdout",
     "output_type": "stream",
     "text": [
      "Epoch 29, Step 0, Total Loss: 7.8340, MLM Loss: 7.8325, NSP Loss: 0.0015\n"
     ]
    },
    {
     "name": "stderr",
     "output_type": "stream",
     "text": [
      "2024-05-16 16:11:45.794805: W tensorflow/core/framework/local_rendezvous.cc:404] Local rendezvous is aborting with status: OUT_OF_RANGE: End of sequence\n"
     ]
    },
    {
     "name": "stdout",
     "output_type": "stream",
     "text": [
      "Epoch 30, Step 0, Total Loss: 7.8311, MLM Loss: 7.8291, NSP Loss: 0.0020\n"
     ]
    },
    {
     "name": "stderr",
     "output_type": "stream",
     "text": [
      "2024-05-16 16:11:46.971806: W tensorflow/core/framework/local_rendezvous.cc:404] Local rendezvous is aborting with status: OUT_OF_RANGE: End of sequence\n"
     ]
    },
    {
     "name": "stdout",
     "output_type": "stream",
     "text": [
      "Epoch 31, Step 0, Total Loss: 7.8021, MLM Loss: 7.7991, NSP Loss: 0.0030\n"
     ]
    },
    {
     "name": "stderr",
     "output_type": "stream",
     "text": [
      "2024-05-16 16:11:48.136634: W tensorflow/core/framework/local_rendezvous.cc:404] Local rendezvous is aborting with status: OUT_OF_RANGE: End of sequence\n"
     ]
    },
    {
     "name": "stdout",
     "output_type": "stream",
     "text": [
      "Epoch 32, Step 0, Total Loss: 7.7394, MLM Loss: 7.7336, NSP Loss: 0.0058\n"
     ]
    },
    {
     "name": "stderr",
     "output_type": "stream",
     "text": [
      "2024-05-16 16:11:49.287765: W tensorflow/core/framework/local_rendezvous.cc:404] Local rendezvous is aborting with status: OUT_OF_RANGE: End of sequence\n"
     ]
    },
    {
     "name": "stdout",
     "output_type": "stream",
     "text": [
      "Epoch 33, Step 0, Total Loss: 7.7271, MLM Loss: 7.7262, NSP Loss: 0.0009\n"
     ]
    },
    {
     "name": "stderr",
     "output_type": "stream",
     "text": [
      "2024-05-16 16:11:50.441692: W tensorflow/core/framework/local_rendezvous.cc:404] Local rendezvous is aborting with status: OUT_OF_RANGE: End of sequence\n"
     ]
    },
    {
     "name": "stdout",
     "output_type": "stream",
     "text": [
      "Epoch 34, Step 0, Total Loss: 7.6942, MLM Loss: 7.6927, NSP Loss: 0.0015\n"
     ]
    },
    {
     "name": "stderr",
     "output_type": "stream",
     "text": [
      "2024-05-16 16:11:51.642606: W tensorflow/core/framework/local_rendezvous.cc:404] Local rendezvous is aborting with status: OUT_OF_RANGE: End of sequence\n"
     ]
    },
    {
     "name": "stdout",
     "output_type": "stream",
     "text": [
      "Epoch 35, Step 0, Total Loss: 7.7131, MLM Loss: 7.6791, NSP Loss: 0.0340\n"
     ]
    },
    {
     "name": "stderr",
     "output_type": "stream",
     "text": [
      "2024-05-16 16:11:52.852646: W tensorflow/core/framework/local_rendezvous.cc:404] Local rendezvous is aborting with status: OUT_OF_RANGE: End of sequence\n"
     ]
    },
    {
     "name": "stdout",
     "output_type": "stream",
     "text": [
      "Epoch 36, Step 0, Total Loss: 7.6413, MLM Loss: 7.6401, NSP Loss: 0.0013\n"
     ]
    },
    {
     "name": "stderr",
     "output_type": "stream",
     "text": [
      "2024-05-16 16:11:54.050947: W tensorflow/core/framework/local_rendezvous.cc:404] Local rendezvous is aborting with status: OUT_OF_RANGE: End of sequence\n"
     ]
    },
    {
     "name": "stdout",
     "output_type": "stream",
     "text": [
      "Epoch 37, Step 0, Total Loss: 7.6061, MLM Loss: 7.6052, NSP Loss: 0.0009\n"
     ]
    },
    {
     "name": "stderr",
     "output_type": "stream",
     "text": [
      "2024-05-16 16:11:55.253534: W tensorflow/core/framework/local_rendezvous.cc:404] Local rendezvous is aborting with status: OUT_OF_RANGE: End of sequence\n"
     ]
    },
    {
     "name": "stdout",
     "output_type": "stream",
     "text": [
      "Epoch 38, Step 0, Total Loss: 7.5889, MLM Loss: 7.5881, NSP Loss: 0.0009\n"
     ]
    },
    {
     "name": "stderr",
     "output_type": "stream",
     "text": [
      "2024-05-16 16:11:56.402128: W tensorflow/core/framework/local_rendezvous.cc:404] Local rendezvous is aborting with status: OUT_OF_RANGE: End of sequence\n"
     ]
    },
    {
     "name": "stdout",
     "output_type": "stream",
     "text": [
      "Epoch 39, Step 0, Total Loss: 7.5438, MLM Loss: 7.5419, NSP Loss: 0.0019\n"
     ]
    },
    {
     "name": "stderr",
     "output_type": "stream",
     "text": [
      "2024-05-16 16:11:57.591754: W tensorflow/core/framework/local_rendezvous.cc:404] Local rendezvous is aborting with status: OUT_OF_RANGE: End of sequence\n"
     ]
    },
    {
     "name": "stdout",
     "output_type": "stream",
     "text": [
      "Epoch 40, Step 0, Total Loss: 7.5117, MLM Loss: 7.5102, NSP Loss: 0.0015\n"
     ]
    },
    {
     "name": "stderr",
     "output_type": "stream",
     "text": [
      "2024-05-16 16:11:58.759201: W tensorflow/core/framework/local_rendezvous.cc:404] Local rendezvous is aborting with status: OUT_OF_RANGE: End of sequence\n"
     ]
    },
    {
     "name": "stdout",
     "output_type": "stream",
     "text": [
      "Epoch 41, Step 0, Total Loss: 7.4845, MLM Loss: 7.4833, NSP Loss: 0.0011\n"
     ]
    },
    {
     "name": "stderr",
     "output_type": "stream",
     "text": [
      "2024-05-16 16:11:59.951458: W tensorflow/core/framework/local_rendezvous.cc:404] Local rendezvous is aborting with status: OUT_OF_RANGE: End of sequence\n"
     ]
    },
    {
     "name": "stdout",
     "output_type": "stream",
     "text": [
      "Epoch 42, Step 0, Total Loss: 7.4568, MLM Loss: 7.4559, NSP Loss: 0.0009\n"
     ]
    },
    {
     "name": "stderr",
     "output_type": "stream",
     "text": [
      "2024-05-16 16:12:01.132236: W tensorflow/core/framework/local_rendezvous.cc:404] Local rendezvous is aborting with status: OUT_OF_RANGE: End of sequence\n"
     ]
    },
    {
     "name": "stdout",
     "output_type": "stream",
     "text": [
      "Epoch 43, Step 0, Total Loss: 7.4298, MLM Loss: 7.4292, NSP Loss: 0.0006\n"
     ]
    },
    {
     "name": "stderr",
     "output_type": "stream",
     "text": [
      "2024-05-16 16:12:02.282991: W tensorflow/core/framework/local_rendezvous.cc:404] Local rendezvous is aborting with status: OUT_OF_RANGE: End of sequence\n"
     ]
    },
    {
     "name": "stdout",
     "output_type": "stream",
     "text": [
      "Epoch 44, Step 0, Total Loss: 7.3951, MLM Loss: 7.3931, NSP Loss: 0.0020\n"
     ]
    },
    {
     "name": "stderr",
     "output_type": "stream",
     "text": [
      "2024-05-16 16:12:03.449611: W tensorflow/core/framework/local_rendezvous.cc:404] Local rendezvous is aborting with status: OUT_OF_RANGE: End of sequence\n"
     ]
    },
    {
     "name": "stdout",
     "output_type": "stream",
     "text": [
      "Epoch 45, Step 0, Total Loss: 7.3449, MLM Loss: 7.3413, NSP Loss: 0.0036\n"
     ]
    },
    {
     "name": "stderr",
     "output_type": "stream",
     "text": [
      "2024-05-16 16:12:04.602249: W tensorflow/core/framework/local_rendezvous.cc:404] Local rendezvous is aborting with status: OUT_OF_RANGE: End of sequence\n"
     ]
    },
    {
     "name": "stdout",
     "output_type": "stream",
     "text": [
      "Epoch 46, Step 0, Total Loss: 7.3325, MLM Loss: 7.3296, NSP Loss: 0.0029\n"
     ]
    },
    {
     "name": "stderr",
     "output_type": "stream",
     "text": [
      "2024-05-16 16:12:05.751165: W tensorflow/core/framework/local_rendezvous.cc:404] Local rendezvous is aborting with status: OUT_OF_RANGE: End of sequence\n"
     ]
    },
    {
     "name": "stdout",
     "output_type": "stream",
     "text": [
      "Epoch 47, Step 0, Total Loss: 7.2830, MLM Loss: 7.2817, NSP Loss: 0.0012\n"
     ]
    },
    {
     "name": "stderr",
     "output_type": "stream",
     "text": [
      "2024-05-16 16:12:06.905779: W tensorflow/core/framework/local_rendezvous.cc:404] Local rendezvous is aborting with status: OUT_OF_RANGE: End of sequence\n"
     ]
    },
    {
     "name": "stdout",
     "output_type": "stream",
     "text": [
      "Epoch 48, Step 0, Total Loss: 7.2392, MLM Loss: 7.2386, NSP Loss: 0.0006\n"
     ]
    },
    {
     "name": "stderr",
     "output_type": "stream",
     "text": [
      "2024-05-16 16:12:08.121879: W tensorflow/core/framework/local_rendezvous.cc:404] Local rendezvous is aborting with status: OUT_OF_RANGE: End of sequence\n"
     ]
    },
    {
     "name": "stdout",
     "output_type": "stream",
     "text": [
      "Epoch 49, Step 0, Total Loss: 7.2220, MLM Loss: 7.2213, NSP Loss: 0.0007\n"
     ]
    },
    {
     "name": "stderr",
     "output_type": "stream",
     "text": [
      "2024-05-16 16:12:09.370543: W tensorflow/core/framework/local_rendezvous.cc:404] Local rendezvous is aborting with status: OUT_OF_RANGE: End of sequence\n"
     ]
    },
    {
     "name": "stdout",
     "output_type": "stream",
     "text": [
      "Epoch 50, Step 0, Total Loss: 7.1954, MLM Loss: 7.1942, NSP Loss: 0.0012\n"
     ]
    },
    {
     "name": "stderr",
     "output_type": "stream",
     "text": [
      "2024-05-16 16:12:10.633698: W tensorflow/core/framework/local_rendezvous.cc:404] Local rendezvous is aborting with status: OUT_OF_RANGE: End of sequence\n"
     ]
    },
    {
     "name": "stdout",
     "output_type": "stream",
     "text": [
      "Epoch 51, Step 0, Total Loss: 7.1724, MLM Loss: 7.1719, NSP Loss: 0.0006\n"
     ]
    },
    {
     "name": "stderr",
     "output_type": "stream",
     "text": [
      "2024-05-16 16:12:11.805321: W tensorflow/core/framework/local_rendezvous.cc:404] Local rendezvous is aborting with status: OUT_OF_RANGE: End of sequence\n"
     ]
    },
    {
     "name": "stdout",
     "output_type": "stream",
     "text": [
      "Epoch 52, Step 0, Total Loss: 7.1277, MLM Loss: 7.1271, NSP Loss: 0.0006\n"
     ]
    },
    {
     "name": "stderr",
     "output_type": "stream",
     "text": [
      "2024-05-16 16:12:12.965454: W tensorflow/core/framework/local_rendezvous.cc:404] Local rendezvous is aborting with status: OUT_OF_RANGE: End of sequence\n"
     ]
    },
    {
     "name": "stdout",
     "output_type": "stream",
     "text": [
      "Epoch 53, Step 0, Total Loss: 7.0559, MLM Loss: 7.0547, NSP Loss: 0.0012\n"
     ]
    },
    {
     "name": "stderr",
     "output_type": "stream",
     "text": [
      "2024-05-16 16:12:14.140692: W tensorflow/core/framework/local_rendezvous.cc:404] Local rendezvous is aborting with status: OUT_OF_RANGE: End of sequence\n"
     ]
    },
    {
     "name": "stdout",
     "output_type": "stream",
     "text": [
      "Epoch 54, Step 0, Total Loss: 7.0470, MLM Loss: 7.0464, NSP Loss: 0.0006\n"
     ]
    },
    {
     "name": "stderr",
     "output_type": "stream",
     "text": [
      "2024-05-16 16:12:15.312988: W tensorflow/core/framework/local_rendezvous.cc:404] Local rendezvous is aborting with status: OUT_OF_RANGE: End of sequence\n"
     ]
    },
    {
     "name": "stdout",
     "output_type": "stream",
     "text": [
      "Epoch 55, Step 0, Total Loss: 7.0078, MLM Loss: 7.0072, NSP Loss: 0.0005\n"
     ]
    },
    {
     "name": "stderr",
     "output_type": "stream",
     "text": [
      "2024-05-16 16:12:16.586701: W tensorflow/core/framework/local_rendezvous.cc:404] Local rendezvous is aborting with status: OUT_OF_RANGE: End of sequence\n"
     ]
    },
    {
     "name": "stdout",
     "output_type": "stream",
     "text": [
      "Epoch 56, Step 0, Total Loss: 6.9870, MLM Loss: 6.9864, NSP Loss: 0.0006\n"
     ]
    },
    {
     "name": "stderr",
     "output_type": "stream",
     "text": [
      "2024-05-16 16:12:17.838235: W tensorflow/core/framework/local_rendezvous.cc:404] Local rendezvous is aborting with status: OUT_OF_RANGE: End of sequence\n"
     ]
    },
    {
     "name": "stdout",
     "output_type": "stream",
     "text": [
      "Epoch 57, Step 0, Total Loss: 6.9405, MLM Loss: 6.9400, NSP Loss: 0.0005\n"
     ]
    },
    {
     "name": "stderr",
     "output_type": "stream",
     "text": [
      "2024-05-16 16:12:19.199454: W tensorflow/core/framework/local_rendezvous.cc:404] Local rendezvous is aborting with status: OUT_OF_RANGE: End of sequence\n"
     ]
    },
    {
     "name": "stdout",
     "output_type": "stream",
     "text": [
      "Epoch 58, Step 0, Total Loss: 6.8986, MLM Loss: 6.8983, NSP Loss: 0.0003\n"
     ]
    },
    {
     "name": "stderr",
     "output_type": "stream",
     "text": [
      "2024-05-16 16:12:20.441185: W tensorflow/core/framework/local_rendezvous.cc:404] Local rendezvous is aborting with status: OUT_OF_RANGE: End of sequence\n"
     ]
    },
    {
     "name": "stdout",
     "output_type": "stream",
     "text": [
      "Epoch 59, Step 0, Total Loss: 6.8702, MLM Loss: 6.8696, NSP Loss: 0.0006\n"
     ]
    },
    {
     "name": "stderr",
     "output_type": "stream",
     "text": [
      "2024-05-16 16:12:21.844552: W tensorflow/core/framework/local_rendezvous.cc:404] Local rendezvous is aborting with status: OUT_OF_RANGE: End of sequence\n"
     ]
    },
    {
     "name": "stdout",
     "output_type": "stream",
     "text": [
      "Epoch 60, Step 0, Total Loss: 6.8532, MLM Loss: 6.8527, NSP Loss: 0.0005\n"
     ]
    },
    {
     "name": "stderr",
     "output_type": "stream",
     "text": [
      "2024-05-16 16:12:23.204564: W tensorflow/core/framework/local_rendezvous.cc:404] Local rendezvous is aborting with status: OUT_OF_RANGE: End of sequence\n"
     ]
    },
    {
     "name": "stdout",
     "output_type": "stream",
     "text": [
      "Epoch 61, Step 0, Total Loss: 6.8043, MLM Loss: 6.8037, NSP Loss: 0.0006\n"
     ]
    },
    {
     "name": "stderr",
     "output_type": "stream",
     "text": [
      "2024-05-16 16:12:24.635559: W tensorflow/core/framework/local_rendezvous.cc:404] Local rendezvous is aborting with status: OUT_OF_RANGE: End of sequence\n"
     ]
    },
    {
     "name": "stdout",
     "output_type": "stream",
     "text": [
      "Epoch 62, Step 0, Total Loss: 6.8035, MLM Loss: 6.8026, NSP Loss: 0.0009\n"
     ]
    },
    {
     "name": "stderr",
     "output_type": "stream",
     "text": [
      "2024-05-16 16:12:25.973147: W tensorflow/core/framework/local_rendezvous.cc:404] Local rendezvous is aborting with status: OUT_OF_RANGE: End of sequence\n"
     ]
    },
    {
     "name": "stdout",
     "output_type": "stream",
     "text": [
      "Epoch 63, Step 0, Total Loss: 6.7236, MLM Loss: 6.7226, NSP Loss: 0.0010\n"
     ]
    },
    {
     "name": "stderr",
     "output_type": "stream",
     "text": [
      "2024-05-16 16:12:27.141438: W tensorflow/core/framework/local_rendezvous.cc:404] Local rendezvous is aborting with status: OUT_OF_RANGE: End of sequence\n"
     ]
    },
    {
     "name": "stdout",
     "output_type": "stream",
     "text": [
      "Epoch 64, Step 0, Total Loss: 6.7030, MLM Loss: 6.7020, NSP Loss: 0.0010\n"
     ]
    },
    {
     "name": "stderr",
     "output_type": "stream",
     "text": [
      "2024-05-16 16:12:28.299723: W tensorflow/core/framework/local_rendezvous.cc:404] Local rendezvous is aborting with status: OUT_OF_RANGE: End of sequence\n"
     ]
    },
    {
     "name": "stdout",
     "output_type": "stream",
     "text": [
      "Epoch 65, Step 0, Total Loss: 6.6809, MLM Loss: 6.6798, NSP Loss: 0.0011\n"
     ]
    },
    {
     "name": "stderr",
     "output_type": "stream",
     "text": [
      "2024-05-16 16:12:29.456955: W tensorflow/core/framework/local_rendezvous.cc:404] Local rendezvous is aborting with status: OUT_OF_RANGE: End of sequence\n"
     ]
    },
    {
     "name": "stdout",
     "output_type": "stream",
     "text": [
      "Epoch 66, Step 0, Total Loss: 6.6281, MLM Loss: 6.6273, NSP Loss: 0.0008\n"
     ]
    },
    {
     "name": "stderr",
     "output_type": "stream",
     "text": [
      "2024-05-16 16:12:30.601637: W tensorflow/core/framework/local_rendezvous.cc:404] Local rendezvous is aborting with status: OUT_OF_RANGE: End of sequence\n"
     ]
    },
    {
     "name": "stdout",
     "output_type": "stream",
     "text": [
      "Epoch 67, Step 0, Total Loss: 6.6066, MLM Loss: 6.6060, NSP Loss: 0.0005\n"
     ]
    },
    {
     "name": "stderr",
     "output_type": "stream",
     "text": [
      "2024-05-16 16:12:31.766418: W tensorflow/core/framework/local_rendezvous.cc:404] Local rendezvous is aborting with status: OUT_OF_RANGE: End of sequence\n"
     ]
    },
    {
     "name": "stdout",
     "output_type": "stream",
     "text": [
      "Epoch 68, Step 0, Total Loss: 6.5588, MLM Loss: 6.5580, NSP Loss: 0.0008\n"
     ]
    },
    {
     "name": "stderr",
     "output_type": "stream",
     "text": [
      "2024-05-16 16:12:32.912486: W tensorflow/core/framework/local_rendezvous.cc:404] Local rendezvous is aborting with status: OUT_OF_RANGE: End of sequence\n"
     ]
    },
    {
     "name": "stdout",
     "output_type": "stream",
     "text": [
      "Epoch 69, Step 0, Total Loss: 6.5292, MLM Loss: 6.5287, NSP Loss: 0.0005\n"
     ]
    },
    {
     "name": "stderr",
     "output_type": "stream",
     "text": [
      "2024-05-16 16:12:34.075935: W tensorflow/core/framework/local_rendezvous.cc:404] Local rendezvous is aborting with status: OUT_OF_RANGE: End of sequence\n"
     ]
    },
    {
     "name": "stdout",
     "output_type": "stream",
     "text": [
      "Epoch 70, Step 0, Total Loss: 6.4808, MLM Loss: 6.4791, NSP Loss: 0.0017\n"
     ]
    },
    {
     "name": "stderr",
     "output_type": "stream",
     "text": [
      "2024-05-16 16:12:35.253682: W tensorflow/core/framework/local_rendezvous.cc:404] Local rendezvous is aborting with status: OUT_OF_RANGE: End of sequence\n"
     ]
    },
    {
     "name": "stdout",
     "output_type": "stream",
     "text": [
      "Epoch 71, Step 0, Total Loss: 6.4537, MLM Loss: 6.4521, NSP Loss: 0.0015\n"
     ]
    },
    {
     "name": "stderr",
     "output_type": "stream",
     "text": [
      "2024-05-16 16:12:36.431789: W tensorflow/core/framework/local_rendezvous.cc:404] Local rendezvous is aborting with status: OUT_OF_RANGE: End of sequence\n"
     ]
    },
    {
     "name": "stdout",
     "output_type": "stream",
     "text": [
      "Epoch 72, Step 0, Total Loss: 6.3983, MLM Loss: 6.3974, NSP Loss: 0.0009\n"
     ]
    },
    {
     "name": "stderr",
     "output_type": "stream",
     "text": [
      "2024-05-16 16:12:37.608505: W tensorflow/core/framework/local_rendezvous.cc:404] Local rendezvous is aborting with status: OUT_OF_RANGE: End of sequence\n"
     ]
    },
    {
     "name": "stdout",
     "output_type": "stream",
     "text": [
      "Epoch 73, Step 0, Total Loss: 6.3520, MLM Loss: 6.3507, NSP Loss: 0.0013\n"
     ]
    },
    {
     "name": "stderr",
     "output_type": "stream",
     "text": [
      "2024-05-16 16:12:38.766885: W tensorflow/core/framework/local_rendezvous.cc:404] Local rendezvous is aborting with status: OUT_OF_RANGE: End of sequence\n"
     ]
    },
    {
     "name": "stdout",
     "output_type": "stream",
     "text": [
      "Epoch 74, Step 0, Total Loss: 6.3406, MLM Loss: 6.3396, NSP Loss: 0.0009\n"
     ]
    },
    {
     "name": "stderr",
     "output_type": "stream",
     "text": [
      "2024-05-16 16:12:39.922458: W tensorflow/core/framework/local_rendezvous.cc:404] Local rendezvous is aborting with status: OUT_OF_RANGE: End of sequence\n"
     ]
    },
    {
     "name": "stdout",
     "output_type": "stream",
     "text": [
      "Epoch 75, Step 0, Total Loss: 6.2964, MLM Loss: 6.2957, NSP Loss: 0.0007\n"
     ]
    },
    {
     "name": "stderr",
     "output_type": "stream",
     "text": [
      "2024-05-16 16:12:41.085710: W tensorflow/core/framework/local_rendezvous.cc:404] Local rendezvous is aborting with status: OUT_OF_RANGE: End of sequence\n"
     ]
    },
    {
     "name": "stdout",
     "output_type": "stream",
     "text": [
      "Epoch 76, Step 0, Total Loss: 6.2630, MLM Loss: 6.2622, NSP Loss: 0.0008\n"
     ]
    },
    {
     "name": "stderr",
     "output_type": "stream",
     "text": [
      "2024-05-16 16:12:42.315230: W tensorflow/core/framework/local_rendezvous.cc:404] Local rendezvous is aborting with status: OUT_OF_RANGE: End of sequence\n"
     ]
    },
    {
     "name": "stdout",
     "output_type": "stream",
     "text": [
      "Epoch 77, Step 0, Total Loss: 6.2088, MLM Loss: 6.2077, NSP Loss: 0.0011\n"
     ]
    },
    {
     "name": "stderr",
     "output_type": "stream",
     "text": [
      "2024-05-16 16:12:43.578006: W tensorflow/core/framework/local_rendezvous.cc:404] Local rendezvous is aborting with status: OUT_OF_RANGE: End of sequence\n"
     ]
    },
    {
     "name": "stdout",
     "output_type": "stream",
     "text": [
      "Epoch 78, Step 0, Total Loss: 6.1974, MLM Loss: 6.1965, NSP Loss: 0.0010\n"
     ]
    },
    {
     "name": "stderr",
     "output_type": "stream",
     "text": [
      "2024-05-16 16:12:44.841033: W tensorflow/core/framework/local_rendezvous.cc:404] Local rendezvous is aborting with status: OUT_OF_RANGE: End of sequence\n"
     ]
    },
    {
     "name": "stdout",
     "output_type": "stream",
     "text": [
      "Epoch 79, Step 0, Total Loss: 6.1371, MLM Loss: 6.1361, NSP Loss: 0.0009\n"
     ]
    },
    {
     "name": "stderr",
     "output_type": "stream",
     "text": [
      "2024-05-16 16:12:46.091703: W tensorflow/core/framework/local_rendezvous.cc:404] Local rendezvous is aborting with status: OUT_OF_RANGE: End of sequence\n"
     ]
    },
    {
     "name": "stdout",
     "output_type": "stream",
     "text": [
      "Epoch 80, Step 0, Total Loss: 6.1032, MLM Loss: 6.1024, NSP Loss: 0.0007\n"
     ]
    },
    {
     "name": "stderr",
     "output_type": "stream",
     "text": [
      "2024-05-16 16:12:47.251995: W tensorflow/core/framework/local_rendezvous.cc:404] Local rendezvous is aborting with status: OUT_OF_RANGE: End of sequence\n"
     ]
    },
    {
     "name": "stdout",
     "output_type": "stream",
     "text": [
      "Epoch 81, Step 0, Total Loss: 6.0621, MLM Loss: 6.0612, NSP Loss: 0.0009\n"
     ]
    },
    {
     "name": "stderr",
     "output_type": "stream",
     "text": [
      "2024-05-16 16:12:48.406732: W tensorflow/core/framework/local_rendezvous.cc:404] Local rendezvous is aborting with status: OUT_OF_RANGE: End of sequence\n"
     ]
    },
    {
     "name": "stdout",
     "output_type": "stream",
     "text": [
      "Epoch 82, Step 0, Total Loss: 6.0339, MLM Loss: 6.0335, NSP Loss: 0.0005\n"
     ]
    },
    {
     "name": "stderr",
     "output_type": "stream",
     "text": [
      "2024-05-16 16:12:49.610271: W tensorflow/core/framework/local_rendezvous.cc:404] Local rendezvous is aborting with status: OUT_OF_RANGE: End of sequence\n"
     ]
    },
    {
     "name": "stdout",
     "output_type": "stream",
     "text": [
      "Epoch 83, Step 0, Total Loss: 5.9980, MLM Loss: 5.9974, NSP Loss: 0.0006\n"
     ]
    },
    {
     "name": "stderr",
     "output_type": "stream",
     "text": [
      "2024-05-16 16:12:50.865437: W tensorflow/core/framework/local_rendezvous.cc:404] Local rendezvous is aborting with status: OUT_OF_RANGE: End of sequence\n"
     ]
    },
    {
     "name": "stdout",
     "output_type": "stream",
     "text": [
      "Epoch 84, Step 0, Total Loss: 5.9413, MLM Loss: 5.9408, NSP Loss: 0.0005\n"
     ]
    },
    {
     "name": "stderr",
     "output_type": "stream",
     "text": [
      "2024-05-16 16:12:52.027334: W tensorflow/core/framework/local_rendezvous.cc:404] Local rendezvous is aborting with status: OUT_OF_RANGE: End of sequence\n"
     ]
    },
    {
     "name": "stdout",
     "output_type": "stream",
     "text": [
      "Epoch 85, Step 0, Total Loss: 5.9035, MLM Loss: 5.9030, NSP Loss: 0.0006\n"
     ]
    },
    {
     "name": "stderr",
     "output_type": "stream",
     "text": [
      "2024-05-16 16:12:53.189949: W tensorflow/core/framework/local_rendezvous.cc:404] Local rendezvous is aborting with status: OUT_OF_RANGE: End of sequence\n"
     ]
    },
    {
     "name": "stdout",
     "output_type": "stream",
     "text": [
      "Epoch 86, Step 0, Total Loss: 5.8612, MLM Loss: 5.8606, NSP Loss: 0.0006\n"
     ]
    },
    {
     "name": "stderr",
     "output_type": "stream",
     "text": [
      "2024-05-16 16:12:54.371416: W tensorflow/core/framework/local_rendezvous.cc:404] Local rendezvous is aborting with status: OUT_OF_RANGE: End of sequence\n"
     ]
    },
    {
     "name": "stdout",
     "output_type": "stream",
     "text": [
      "Epoch 87, Step 0, Total Loss: 5.8312, MLM Loss: 5.8301, NSP Loss: 0.0011\n"
     ]
    },
    {
     "name": "stderr",
     "output_type": "stream",
     "text": [
      "2024-05-16 16:12:55.649641: W tensorflow/core/framework/local_rendezvous.cc:404] Local rendezvous is aborting with status: OUT_OF_RANGE: End of sequence\n"
     ]
    },
    {
     "name": "stdout",
     "output_type": "stream",
     "text": [
      "Epoch 88, Step 0, Total Loss: 5.7807, MLM Loss: 5.7798, NSP Loss: 0.0010\n"
     ]
    },
    {
     "name": "stderr",
     "output_type": "stream",
     "text": [
      "2024-05-16 16:12:56.921863: W tensorflow/core/framework/local_rendezvous.cc:404] Local rendezvous is aborting with status: OUT_OF_RANGE: End of sequence\n"
     ]
    },
    {
     "name": "stdout",
     "output_type": "stream",
     "text": [
      "Epoch 89, Step 0, Total Loss: 5.7541, MLM Loss: 5.7536, NSP Loss: 0.0005\n"
     ]
    },
    {
     "name": "stderr",
     "output_type": "stream",
     "text": [
      "2024-05-16 16:12:58.198763: W tensorflow/core/framework/local_rendezvous.cc:404] Local rendezvous is aborting with status: OUT_OF_RANGE: End of sequence\n"
     ]
    },
    {
     "name": "stdout",
     "output_type": "stream",
     "text": [
      "Epoch 90, Step 0, Total Loss: 5.7127, MLM Loss: 5.7117, NSP Loss: 0.0009\n"
     ]
    },
    {
     "name": "stderr",
     "output_type": "stream",
     "text": [
      "2024-05-16 16:12:59.446313: W tensorflow/core/framework/local_rendezvous.cc:404] Local rendezvous is aborting with status: OUT_OF_RANGE: End of sequence\n"
     ]
    },
    {
     "name": "stdout",
     "output_type": "stream",
     "text": [
      "Epoch 91, Step 0, Total Loss: 5.6657, MLM Loss: 5.6650, NSP Loss: 0.0006\n"
     ]
    },
    {
     "name": "stderr",
     "output_type": "stream",
     "text": [
      "2024-05-16 16:13:00.631946: W tensorflow/core/framework/local_rendezvous.cc:404] Local rendezvous is aborting with status: OUT_OF_RANGE: End of sequence\n"
     ]
    },
    {
     "name": "stdout",
     "output_type": "stream",
     "text": [
      "Epoch 92, Step 0, Total Loss: 5.6121, MLM Loss: 5.6112, NSP Loss: 0.0009\n"
     ]
    },
    {
     "name": "stderr",
     "output_type": "stream",
     "text": [
      "2024-05-16 16:13:01.874857: W tensorflow/core/framework/local_rendezvous.cc:404] Local rendezvous is aborting with status: OUT_OF_RANGE: End of sequence\n"
     ]
    },
    {
     "name": "stdout",
     "output_type": "stream",
     "text": [
      "Epoch 93, Step 0, Total Loss: 5.5821, MLM Loss: 5.5811, NSP Loss: 0.0011\n"
     ]
    },
    {
     "name": "stderr",
     "output_type": "stream",
     "text": [
      "2024-05-16 16:13:03.084627: W tensorflow/core/framework/local_rendezvous.cc:404] Local rendezvous is aborting with status: OUT_OF_RANGE: End of sequence\n"
     ]
    },
    {
     "name": "stdout",
     "output_type": "stream",
     "text": [
      "Epoch 94, Step 0, Total Loss: 5.5579, MLM Loss: 5.5563, NSP Loss: 0.0016\n"
     ]
    },
    {
     "name": "stderr",
     "output_type": "stream",
     "text": [
      "2024-05-16 16:13:04.330866: W tensorflow/core/framework/local_rendezvous.cc:404] Local rendezvous is aborting with status: OUT_OF_RANGE: End of sequence\n"
     ]
    },
    {
     "name": "stdout",
     "output_type": "stream",
     "text": [
      "Epoch 95, Step 0, Total Loss: 5.5086, MLM Loss: 5.5074, NSP Loss: 0.0011\n"
     ]
    },
    {
     "name": "stderr",
     "output_type": "stream",
     "text": [
      "2024-05-16 16:13:05.505525: W tensorflow/core/framework/local_rendezvous.cc:404] Local rendezvous is aborting with status: OUT_OF_RANGE: End of sequence\n"
     ]
    },
    {
     "name": "stdout",
     "output_type": "stream",
     "text": [
      "Epoch 96, Step 0, Total Loss: 5.4798, MLM Loss: 5.4789, NSP Loss: 0.0009\n"
     ]
    },
    {
     "name": "stderr",
     "output_type": "stream",
     "text": [
      "2024-05-16 16:13:06.639287: W tensorflow/core/framework/local_rendezvous.cc:404] Local rendezvous is aborting with status: OUT_OF_RANGE: End of sequence\n"
     ]
    },
    {
     "name": "stdout",
     "output_type": "stream",
     "text": [
      "Epoch 97, Step 0, Total Loss: 5.4147, MLM Loss: 5.4140, NSP Loss: 0.0008\n"
     ]
    },
    {
     "name": "stderr",
     "output_type": "stream",
     "text": [
      "2024-05-16 16:13:07.795475: W tensorflow/core/framework/local_rendezvous.cc:404] Local rendezvous is aborting with status: OUT_OF_RANGE: End of sequence\n"
     ]
    },
    {
     "name": "stdout",
     "output_type": "stream",
     "text": [
      "Epoch 98, Step 0, Total Loss: 5.3827, MLM Loss: 5.3818, NSP Loss: 0.0008\n"
     ]
    },
    {
     "name": "stderr",
     "output_type": "stream",
     "text": [
      "2024-05-16 16:13:08.996257: W tensorflow/core/framework/local_rendezvous.cc:404] Local rendezvous is aborting with status: OUT_OF_RANGE: End of sequence\n"
     ]
    },
    {
     "name": "stdout",
     "output_type": "stream",
     "text": [
      "Epoch 99, Step 0, Total Loss: 5.3376, MLM Loss: 5.3368, NSP Loss: 0.0009\n"
     ]
    },
    {
     "name": "stderr",
     "output_type": "stream",
     "text": [
      "2024-05-16 16:13:10.164782: W tensorflow/core/framework/local_rendezvous.cc:404] Local rendezvous is aborting with status: OUT_OF_RANGE: End of sequence\n"
     ]
    },
    {
     "name": "stdout",
     "output_type": "stream",
     "text": [
      "Epoch 100, Step 0, Total Loss: 5.2939, MLM Loss: 5.2930, NSP Loss: 0.0009\n"
     ]
    },
    {
     "name": "stderr",
     "output_type": "stream",
     "text": [
      "2024-05-16 16:13:11.312709: W tensorflow/core/framework/local_rendezvous.cc:404] Local rendezvous is aborting with status: OUT_OF_RANGE: End of sequence\n"
     ]
    }
   ],
   "source": [
    "epochs = 100\n",
    "for epoch in range(epochs):\n",
    "    step = 0\n",
    "    for inputs, labels in train_dataset.take(1):\n",
    "        # tf.print(\"input_ids:\", inputs['input_ids'][0], summarize=-1)\n",
    "        loss_values = train_step(inputs, labels, task='both')\n",
    "        if step % 10 == 0:\n",
    "            print(f\"Epoch {epoch + 1}, Step {step}, Total Loss: {loss_values[0].numpy():.4f}, MLM Loss: {loss_values[1].numpy():.4f}, NSP Loss: {loss_values[2].numpy():.4f}\")\n",
    "        step += 1"
   ]
  },
  {
   "cell_type": "markdown",
   "id": "38c282fa-4696-4b41-ab59-bd6501798987",
   "metadata": {
    "jp-MarkdownHeadingCollapsed": true
   },
   "source": [
    "### saving the  pre trained model"
   ]
  },
  {
   "cell_type": "code",
   "execution_count": null,
   "id": "651301d2-20bf-4fb3-b4ec-aad0c64c135b",
   "metadata": {},
   "outputs": [],
   "source": [
    "fit_model = bert_model\n",
    "fit_model.save_weights(model_full_name)\n",
    "with open(model_path + '/bert_pt_1_config.pkl', 'wb') as config_file:\n",
    "        pickle.dump(fit_model.get_config(), config_file)\n",
    "with open(model_path + '/bert_pt_1_config.pkl', 'rb') as config_file:\n",
    "        fit_model_config = pickle.load(config_file)\n",
    "print(fit_model.summary())"
   ]
  },
  {
   "cell_type": "markdown",
   "id": "155a3b29-a533-4b27-aa4d-5752a9651319",
   "metadata": {
    "jp-MarkdownHeadingCollapsed": true
   },
   "source": [
    "### Loadning the saved pretrained model "
   ]
  },
  {
   "cell_type": "code",
   "execution_count": 16,
   "id": "fb9853e7-5925-4be9-86fa-8894c328c08d",
   "metadata": {},
   "outputs": [
    {
     "data": {
      "text/html": [
       "<pre style=\"white-space:pre;overflow-x:auto;line-height:normal;font-family:Menlo,'DejaVu Sans Mono',consolas,'Courier New',monospace\"><span style=\"font-weight: bold\">Model: \"bert_2\"</span>\n",
       "</pre>\n"
      ],
      "text/plain": [
       "\u001b[1mModel: \"bert_2\"\u001b[0m\n"
      ]
     },
     "metadata": {},
     "output_type": "display_data"
    },
    {
     "data": {
      "text/html": [
       "<pre style=\"white-space:pre;overflow-x:auto;line-height:normal;font-family:Menlo,'DejaVu Sans Mono',consolas,'Courier New',monospace\">┏━━━━━━━━━━━━━━━━━━━━━━━━━━━━━━━━━┳━━━━━━━━━━━━━━━━━━━━━━━━┳━━━━━━━━━━━━━━━┓\n",
       "┃<span style=\"font-weight: bold\"> Layer (type)                    </span>┃<span style=\"font-weight: bold\"> Output Shape           </span>┃<span style=\"font-weight: bold\">       Param # </span>┃\n",
       "┡━━━━━━━━━━━━━━━━━━━━━━━━━━━━━━━━━╇━━━━━━━━━━━━━━━━━━━━━━━━╇━━━━━━━━━━━━━━━┩\n",
       "│ transformer_encoder_v4_4        │ ?                      │    <span style=\"color: #00af00; text-decoration-color: #00af00\">52,238,592</span> │\n",
       "│ (<span style=\"color: #0087ff; text-decoration-color: #0087ff\">TransformerEncoderV4</span>)          │                        │               │\n",
       "├─────────────────────────────────┼────────────────────────┼───────────────┤\n",
       "│ dense_186 (<span style=\"color: #0087ff; text-decoration-color: #0087ff\">Dense</span>)               │ ?                      │       <span style=\"color: #00af00; text-decoration-color: #00af00\">590,592</span> │\n",
       "├─────────────────────────────────┼────────────────────────┼───────────────┤\n",
       "│ layer_normalization_66          │ ?                      │         <span style=\"color: #00af00; text-decoration-color: #00af00\">1,536</span> │\n",
       "│ (<span style=\"color: #0087ff; text-decoration-color: #0087ff\">LayerNormalization</span>)            │                        │               │\n",
       "├─────────────────────────────────┼────────────────────────┼───────────────┤\n",
       "│ dense_187 (<span style=\"color: #0087ff; text-decoration-color: #0087ff\">Dense</span>)               │ ?                      │    <span style=\"color: #00af00; text-decoration-color: #00af00\">23,471,418</span> │\n",
       "├─────────────────────────────────┼────────────────────────┼───────────────┤\n",
       "│ dense_188 (<span style=\"color: #0087ff; text-decoration-color: #0087ff\">Dense</span>)               │ ?                      │           <span style=\"color: #00af00; text-decoration-color: #00af00\">769</span> │\n",
       "└─────────────────────────────────┴────────────────────────┴───────────────┘\n",
       "</pre>\n"
      ],
      "text/plain": [
       "┏━━━━━━━━━━━━━━━━━━━━━━━━━━━━━━━━━┳━━━━━━━━━━━━━━━━━━━━━━━━┳━━━━━━━━━━━━━━━┓\n",
       "┃\u001b[1m \u001b[0m\u001b[1mLayer (type)                   \u001b[0m\u001b[1m \u001b[0m┃\u001b[1m \u001b[0m\u001b[1mOutput Shape          \u001b[0m\u001b[1m \u001b[0m┃\u001b[1m \u001b[0m\u001b[1m      Param #\u001b[0m\u001b[1m \u001b[0m┃\n",
       "┡━━━━━━━━━━━━━━━━━━━━━━━━━━━━━━━━━╇━━━━━━━━━━━━━━━━━━━━━━━━╇━━━━━━━━━━━━━━━┩\n",
       "│ transformer_encoder_v4_4        │ ?                      │    \u001b[38;5;34m52,238,592\u001b[0m │\n",
       "│ (\u001b[38;5;33mTransformerEncoderV4\u001b[0m)          │                        │               │\n",
       "├─────────────────────────────────┼────────────────────────┼───────────────┤\n",
       "│ dense_186 (\u001b[38;5;33mDense\u001b[0m)               │ ?                      │       \u001b[38;5;34m590,592\u001b[0m │\n",
       "├─────────────────────────────────┼────────────────────────┼───────────────┤\n",
       "│ layer_normalization_66          │ ?                      │         \u001b[38;5;34m1,536\u001b[0m │\n",
       "│ (\u001b[38;5;33mLayerNormalization\u001b[0m)            │                        │               │\n",
       "├─────────────────────────────────┼────────────────────────┼───────────────┤\n",
       "│ dense_187 (\u001b[38;5;33mDense\u001b[0m)               │ ?                      │    \u001b[38;5;34m23,471,418\u001b[0m │\n",
       "├─────────────────────────────────┼────────────────────────┼───────────────┤\n",
       "│ dense_188 (\u001b[38;5;33mDense\u001b[0m)               │ ?                      │           \u001b[38;5;34m769\u001b[0m │\n",
       "└─────────────────────────────────┴────────────────────────┴───────────────┘\n"
      ]
     },
     "metadata": {},
     "output_type": "display_data"
    },
    {
     "data": {
      "text/html": [
       "<pre style=\"white-space:pre;overflow-x:auto;line-height:normal;font-family:Menlo,'DejaVu Sans Mono',consolas,'Courier New',monospace\"><span style=\"font-weight: bold\"> Total params: </span><span style=\"color: #00af00; text-decoration-color: #00af00\">76,302,907</span> (291.07 MB)\n",
       "</pre>\n"
      ],
      "text/plain": [
       "\u001b[1m Total params: \u001b[0m\u001b[38;5;34m76,302,907\u001b[0m (291.07 MB)\n"
      ]
     },
     "metadata": {},
     "output_type": "display_data"
    },
    {
     "data": {
      "text/html": [
       "<pre style=\"white-space:pre;overflow-x:auto;line-height:normal;font-family:Menlo,'DejaVu Sans Mono',consolas,'Courier New',monospace\"><span style=\"font-weight: bold\"> Trainable params: </span><span style=\"color: #00af00; text-decoration-color: #00af00\">76,302,907</span> (291.07 MB)\n",
       "</pre>\n"
      ],
      "text/plain": [
       "\u001b[1m Trainable params: \u001b[0m\u001b[38;5;34m76,302,907\u001b[0m (291.07 MB)\n"
      ]
     },
     "metadata": {},
     "output_type": "display_data"
    },
    {
     "data": {
      "text/html": [
       "<pre style=\"white-space:pre;overflow-x:auto;line-height:normal;font-family:Menlo,'DejaVu Sans Mono',consolas,'Courier New',monospace\"><span style=\"font-weight: bold\"> Non-trainable params: </span><span style=\"color: #00af00; text-decoration-color: #00af00\">0</span> (0.00 B)\n",
       "</pre>\n"
      ],
      "text/plain": [
       "\u001b[1m Non-trainable params: \u001b[0m\u001b[38;5;34m0\u001b[0m (0.00 B)\n"
      ]
     },
     "metadata": {},
     "output_type": "display_data"
    },
    {
     "name": "stdout",
     "output_type": "stream",
     "text": [
      "None\n"
     ]
    }
   ],
   "source": [
    "loaded_fit_model = BERT(num_layers, d_model, num_heads, \n",
    "                  dff, vocab_size, segment_size)\n",
    "\n",
    "loaded_fit_model_out = loaded_fit_model(single_test_instance[0])\n",
    "loaded_fit_model.load_weights(model_full_name)\n",
    "print(loaded_fit_model.summary())"
   ]
  },
  {
   "cell_type": "markdown",
   "id": "f4cad09f-5920-4a16-ae70-38abf0a0971d",
   "metadata": {
    "jp-MarkdownHeadingCollapsed": true
   },
   "source": [
    "# Fine Tuning"
   ]
  },
  {
   "cell_type": "markdown",
   "id": "a514e107-20a9-4705-b051-65afacd120ee",
   "metadata": {
    "jp-MarkdownHeadingCollapsed": true
   },
   "source": [
    "###  SQuAD question - answer data  for Fine Tuning -  save in json"
   ]
  },
  {
   "cell_type": "code",
   "execution_count": 45,
   "id": "76d92931-6e8a-49b5-80d0-bc4e7d1c8aff",
   "metadata": {},
   "outputs": [],
   "source": [
    "squad_train_url = \"https://rajpurkar.github.io/SQuAD-explorer/dataset/train-v2.0.json\"\n",
    "squad_dev_url = \"https://rajpurkar.github.io/SQuAD-explorer/dataset/dev-v2.0.json\"\n",
    "\n",
    "# Download the training dataset\n",
    "response = requests.get(squad_train_url)\n",
    "squad_train_data = response.json()\n",
    "\n",
    "# Save the training dataset to a file\n",
    "with open('train-v2.0.json', 'w') as f:\n",
    "    json.dump(squad_train_data, f)\n",
    "\n",
    "# Download the validation dataset\n",
    "response = requests.get(squad_dev_url)\n",
    "squad_dev_data = response.json()\n",
    "\n",
    "# Save the validation dataset to a file\n",
    "with open('dev-v2.0.json', 'w') as f:\n",
    "    json.dump(squad_dev_data, f)"
   ]
  },
  {
   "cell_type": "code",
   "execution_count": 54,
   "id": "e1792bf9-f8db-47cb-bcfb-016697c458cc",
   "metadata": {},
   "outputs": [
    {
     "name": "stdout",
     "output_type": "stream",
     "text": [
      "dict_keys(['version', 'data'])\n",
      "data: <class 'list'>\n",
      "1st data: dict_keys(['title', 'paragraphs'])\n",
      "para: <class 'list'>\n",
      "1st para: <class 'dict'>\n",
      "keys in para: dict_keys(['qas', 'context'])\n",
      "qas: <class 'list'>\n",
      "qas len: 15\n",
      "qa in qas {'question': 'When did Beyonce start becoming popular?', 'id': '56be85543aeaaa14008c9063', 'answers': [{'text': 'in the late 1990s', 'answer_start': 269}], 'is_impossible': False}\n",
      "context in para: Beyoncé Giselle Knowles-Carter (/biːˈjɒnseɪ/ bee-YON-say) (born September 4, 1981) is an American singer, songwriter, record producer and actress. Born and raised in Houston, Texas, she performed in various singing and dancing competitions as a child, and rose to fame in the late 1990s as lead singer of R&B girl-group Destiny's Child. Managed by her father, Mathew Knowles, the group became one of the world's best-selling girl groups of all time. Their hiatus saw the release of Beyoncé's debut album, Dangerously in Love (2003), which established her as a solo artist worldwide, earned five Grammy Awards and featured the Billboard Hot 100 number-one singles \"Crazy in Love\" and \"Baby Boy\".\n"
     ]
    }
   ],
   "source": [
    "print((squad_train_data.keys()))\n",
    "print('data:', type(squad_train_data['data']))\n",
    "print('1st data:', squad_train_data['data'][0].keys())\n",
    "print('para:', type(squad_train_data['data'][0]['paragraphs']))\n",
    "print('1st para:', type(squad_train_data['data'][0]['paragraphs'][0]))\n",
    "print('keys in para:', squad_train_data['data'][0]['paragraphs'][0].keys())\n",
    "print('qas:', type(squad_train_data['data'][0]['paragraphs'][0]['qas']))\n",
    "print('qas len:', len(squad_train_data['data'][0]['paragraphs'][0]['qas']))\n",
    "print('qa in qas', squad_train_data['data'][0]['paragraphs'][0]['qas'][0])\n",
    "print('context in para:', squad_train_data['data'][0]['paragraphs'][0]['context'])"
   ]
  },
  {
   "cell_type": "markdown",
   "id": "6ab5c03e-0908-40f6-877d-5542e5766420",
   "metadata": {
    "jp-MarkdownHeadingCollapsed": true
   },
   "source": [
    "###  format the data for fine tuning - preprocess\n",
    "\n",
    "The main goal of a QA model is to find the answer to a given question within a provided context. For example, given a context (a passage of text) and a question, the model needs to identify the span of text within the context that answers the question."
   ]
  },
  {
   "cell_type": "markdown",
   "id": "03b2d98d-590b-4fd8-bc38-a322322e5fdf",
   "metadata": {},
   "source": [
    "Context and Question\n",
    "Let's consider an example to illustrate this:\n",
    "\n",
    "Context:\n",
    "\n",
    "\n",
    "Beyoncé Giselle Knowles-Carter (/biːˈjɒnseɪ/ bee-YON-say) (born September 4, 1981) is an American singer, songwriter, record producer and actress. Born and raised in Houston, Texas, she performed in various singing and dancing competitions as a child, and rose to fame in the late 1990s as lead singer of R&B girl-group Destiny's Child.\n",
    "Question:\n",
    "\n",
    "\n",
    "When did Beyoncé start becoming popular?\n",
    "Answer:\n",
    "\n",
    "in the late 1990s\n",
    "Tokenization\n",
    "In tokenization, both the context and the question are tokenized together. The reason for including both is to provide the model with all the information it needs to understand the context of the question and where the answer might lie within the context.\n",
    "\n",
    "Here's how it works step-by-step:\n",
    "\n",
    "Tokenize the Question and Context Together:\n",
    "\n",
    "tokenizer(question, context, truncation=\"only_second\", max_length=max_seq_length, stride=doc_stride, return_overflowing_tokens=True, padding='max_length', return_offsets_mapping=True)\n",
    "This step generates tokenized input that includes special tokens to separate the question and the context, and provides the offset mapping, which helps in locating the position of tokens within the original text.\n",
    "\n",
    "Offset Mapping:\n",
    "\n",
    "The offset mapping gives the start and end character positions of each token in the original context text. This is crucial for determining where the answer is located in the context.\n",
    "Calculating Start and End Positions\n",
    "The start and end positions are indices of the tokens that correspond to the answer within the tokenized context.\n",
    "\n",
    "Here's the process:\n",
    "\n",
    "Identify the Character Positions of the Answer:\n",
    "\n",
    "In the example, the answer \"in the late 1990s\" starts at character position 269 and ends at 286 in the context.\n",
    "Match Character Positions to Token Indices:\n",
    "\n",
    "Use the offset mapping to find which tokens correspond to the start and end character positions of the answer. This involves checking each token's start and end character positions to see if they overlap with the answer's start and end character positions.\n",
    "Assign Start and End Positions:\n",
    "\n",
    "The start position is the index of the token that contains the start of the answer.\n",
    "The end position is the index of the token that contains the end of the answer.\n",
    "Example\n",
    "Given the context and question above:\n",
    "\n",
    "Answer Text: \"in the late 1990s\"\n",
    "Answer Start Character Position: 269\n",
    "Answer End Character Position: 286\n",
    "The tokenizer will produce something like:\n",
    "\n",
    "yaml\n",
    "Copy code\n",
    "{'input_ids': [101, 2043, 2106, 20773, 2707, ...], \n",
    " 'token_type_ids': [0, 0, 0, 0, 0, ..., 1, 1, 1, 1, 1, ...], \n",
    " 'attention_mask': [1, 1, 1, 1, 1, ...], \n",
    " 'offset_mapping': [(0, 0), (0, 4), (5, 8), (9, 16), ...]}\n",
    "The offset_mapping might look like [(0, 0), (0, 4), (5, 8), (9, 16), (17, 22), ...].\n",
    "In the offset mapping, you look for token positions where the answer text starts and ends:\n",
    "\n",
    "If token at index 75 starts at character 269, it is the start token.\n",
    "If token at index 78 ends at character 286, it is the end token.\n",
    "So, for this example:\n",
    "\n",
    "Start Position: 75\n",
    "End Position: 78"
   ]
  },
  {
   "cell_type": "code",
   "execution_count": 77,
   "id": "8dea5c2c-4539-46df-a1df-8ab8023908a1",
   "metadata": {
    "scrolled": true
   },
   "outputs": [
    {
     "name": "stdout",
     "output_type": "stream",
     "text": [
      "Context: Beyoncé Giselle Knowles-Carter (/biːˈjɒnseɪ/ bee-YON-say) (born September 4, 1981) is an American si...\n",
      "Question: When did Beyonce start becoming popular?\n",
      "Answer: {'text': 'in the late 1990s', 'answer_start': 269}\n",
      "Answer span: (269, 286)\n",
      "Tokenized context: {'input_ids': [101, 2043, 2106, 20773, 2707, 3352, 2759, 1029, 102, 20773, 21025, 19358, 22815, 1011, 5708, 1006, 1013, 12170, 23432, 29715, 3501, 29678, 12325, 29685, 1013, 10506, 1011, 10930, 2078, 1011, 2360, 1007, 1006, 2141, 2244, 1018, 1010, 3261, 1007, 2003, 2019, 2137, 3220, 1010, 6009, 1010, 2501, 3135, 1998, 3883, 1012, 2141, 1998, 2992, 1999, 5395, 1010, 3146, 1010, 2016, 2864, 1999, 2536, 4823, 1998, 5613, 6479, 2004, 1037, 2775, 1010, 1998, 3123, 2000, 4476, 1999, 1996, 2397, 4134, 2004, 2599, 3220, 1997, 1054, 1004, 1038, 2611, 1011, 2177, 10461, 1005, 1055, 2775, 1012, 3266, 2011, 2014, 2269, 1010, 25436, 22815, 1010, 1996, 2177, 2150, 2028, 1997, 1996, 2088, 1005, 1055, 2190, 1011, 4855, 2611, 2967, 1997, 2035, 2051, 1012, 2037, 14221, 2387, 1996, 2713, 1997, 20773, 102], 'token_type_ids': [0, 0, 0, 0, 0, 0, 0, 0, 0, 1, 1, 1, 1, 1, 1, 1, 1, 1, 1, 1, 1, 1, 1, 1, 1, 1, 1, 1, 1, 1, 1, 1, 1, 1, 1, 1, 1, 1, 1, 1, 1, 1, 1, 1, 1, 1, 1, 1, 1, 1, 1, 1, 1, 1, 1, 1, 1, 1, 1, 1, 1, 1, 1, 1, 1, 1, 1, 1, 1, 1, 1, 1, 1, 1, 1, 1, 1, 1, 1, 1, 1, 1, 1, 1, 1, 1, 1, 1, 1, 1, 1, 1, 1, 1, 1, 1, 1, 1, 1, 1, 1, 1, 1, 1, 1, 1, 1, 1, 1, 1, 1, 1, 1, 1, 1, 1, 1, 1, 1, 1, 1, 1, 1, 1, 1, 1, 1, 1], 'attention_mask': [1, 1, 1, 1, 1, 1, 1, 1, 1, 1, 1, 1, 1, 1, 1, 1, 1, 1, 1, 1, 1, 1, 1, 1, 1, 1, 1, 1, 1, 1, 1, 1, 1, 1, 1, 1, 1, 1, 1, 1, 1, 1, 1, 1, 1, 1, 1, 1, 1, 1, 1, 1, 1, 1, 1, 1, 1, 1, 1, 1, 1, 1, 1, 1, 1, 1, 1, 1, 1, 1, 1, 1, 1, 1, 1, 1, 1, 1, 1, 1, 1, 1, 1, 1, 1, 1, 1, 1, 1, 1, 1, 1, 1, 1, 1, 1, 1, 1, 1, 1, 1, 1, 1, 1, 1, 1, 1, 1, 1, 1, 1, 1, 1, 1, 1, 1, 1, 1, 1, 1, 1, 1, 1, 1, 1, 1, 1, 1], 'offset_mapping': [(0, 0), (0, 4), (5, 8), (9, 16), (17, 22), (23, 31), (32, 39), (39, 40), (0, 0), (0, 7), (8, 10), (10, 15), (16, 23), (23, 24), (24, 30), (31, 32), (32, 33), (33, 35), (35, 36), (36, 37), (37, 38), (38, 39), (39, 42), (42, 43), (43, 44), (45, 48), (48, 49), (49, 51), (51, 52), (52, 53), (53, 56), (56, 57), (58, 59), (59, 63), (64, 73), (74, 75), (75, 76), (77, 81), (81, 82), (83, 85), (86, 88), (89, 97), (98, 104), (104, 105), (106, 116), (116, 117), (118, 124), (125, 133), (134, 137), (138, 145), (145, 146), (147, 151), (152, 155), (156, 162), (163, 165), (166, 173), (173, 174), (175, 180), (180, 181), (182, 185), (186, 195), (196, 198), (199, 206), (207, 214), (215, 218), (219, 226), (227, 239), (240, 242), (243, 244), (245, 250), (250, 251), (252, 255), (256, 260), (261, 263), (264, 268), (269, 271), (272, 275), (276, 280), (281, 286), (287, 289), (290, 294), (295, 301), (302, 304), (305, 306), (306, 307), (307, 308), (309, 313), (313, 314), (314, 319), (320, 327), (327, 328), (328, 329), (330, 335), (335, 336), (337, 344), (345, 347), (348, 351), (352, 358), (358, 359), (360, 366), (367, 374), (374, 375), (376, 379), (380, 385), (386, 392), (393, 396), (397, 399), (400, 403), (404, 409), (409, 410), (410, 411), (412, 416), (416, 417), (417, 424), (425, 429), (430, 436), (437, 439), (440, 443), (444, 448), (448, 449), (450, 455), (456, 462), (463, 466), (467, 470), (471, 478), (479, 481), (482, 489), (0, 0)]}\n",
      "Offset mapping: [(0, 0), (0, 4), (5, 8), (9, 16), (17, 22), (23, 31), (32, 39), (39, 40), (0, 0), (0, 7), (8, 10), (10, 15), (16, 23), (23, 24), (24, 30), (31, 32), (32, 33), (33, 35), (35, 36), (36, 37), (37, 38), (38, 39), (39, 42), (42, 43), (43, 44), (45, 48), (48, 49), (49, 51), (51, 52), (52, 53), (53, 56), (56, 57), (58, 59), (59, 63), (64, 73), (74, 75), (75, 76), (77, 81), (81, 82), (83, 85), (86, 88), (89, 97), (98, 104), (104, 105), (106, 116), (116, 117), (118, 124), (125, 133), (134, 137), (138, 145), (145, 146), (147, 151), (152, 155), (156, 162), (163, 165), (166, 173), (173, 174), (175, 180), (180, 181), (182, 185), (186, 195), (196, 198), (199, 206), (207, 214), (215, 218), (219, 226), (227, 239), (240, 242), (243, 244), (245, 250), (250, 251), (252, 255), (256, 260), (261, 263), (264, 268), (269, 271), (272, 275), (276, 280), (281, 286), (287, 289), (290, 294), (295, 301), (302, 304), (305, 306), (306, 307), (307, 308), (309, 313), (313, 314), (314, 319), (320, 327), (327, 328), (328, 329), (330, 335), (335, 336), (337, 344), (345, 347), (348, 351), (352, 358), (358, 359), (360, 366), (367, 374), (374, 375), (376, 379), (380, 385), (386, 392), (393, 396), (397, 399), (400, 403), (404, 409), (409, 410), (410, 411), (412, 416), (416, 417), (417, 424), (425, 429), (430, 436), (437, 439), (440, 443), (444, 448), (448, 449), (450, 455), (456, 462), (463, 466), (467, 470), (471, 478), (479, 481), (482, 489), (0, 0)]\n",
      "Start position: 75\n",
      "End position: 78\n",
      "input_ids: tf.Tensor(\n",
      "[[  101  2043  2106 20773  2707  3352  2759  1029   102 20773 21025 19358\n",
      "  22815  1011  5708  1006  1013 12170 23432 29715  3501 29678 12325 29685\n",
      "   1013 10506  1011 10930  2078  1011  2360  1007  1006  2141  2244  1018\n",
      "   1010  3261  1007  2003  2019  2137  3220  1010  6009  1010  2501  3135\n",
      "   1998  3883  1012  2141  1998  2992  1999  5395  1010  3146  1010  2016\n",
      "   2864  1999  2536  4823  1998  5613  6479  2004  1037  2775  1010  1998\n",
      "   3123  2000  4476  1999  1996  2397  4134  2004  2599  3220  1997  1054\n",
      "   1004  1038  2611  1011  2177 10461  1005  1055  2775  1012  3266  2011\n",
      "   2014  2269  1010 25436 22815  1010  1996  2177  2150  2028  1997  1996\n",
      "   2088  1005  1055  2190  1011  4855  2611  2967  1997  2035  2051  1012\n",
      "   2037 14221  2387  1996  2713  1997 20773   102]], shape=(1, 128), dtype=int32)\n",
      "attention_masks: tf.Tensor(\n",
      "[[1 1 1 1 1 1 1 1 1 1 1 1 1 1 1 1 1 1 1 1 1 1 1 1 1 1 1 1 1 1 1 1 1 1 1 1\n",
      "  1 1 1 1 1 1 1 1 1 1 1 1 1 1 1 1 1 1 1 1 1 1 1 1 1 1 1 1 1 1 1 1 1 1 1 1\n",
      "  1 1 1 1 1 1 1 1 1 1 1 1 1 1 1 1 1 1 1 1 1 1 1 1 1 1 1 1 1 1 1 1 1 1 1 1\n",
      "  1 1 1 1 1 1 1 1 1 1 1 1 1 1 1 1 1 1 1 1]], shape=(1, 128), dtype=int32)\n",
      "token_type_ids: tf.Tensor(\n",
      "[[0 0 0 0 0 0 0 0 0 1 1 1 1 1 1 1 1 1 1 1 1 1 1 1 1 1 1 1 1 1 1 1 1 1 1 1\n",
      "  1 1 1 1 1 1 1 1 1 1 1 1 1 1 1 1 1 1 1 1 1 1 1 1 1 1 1 1 1 1 1 1 1 1 1 1\n",
      "  1 1 1 1 1 1 1 1 1 1 1 1 1 1 1 1 1 1 1 1 1 1 1 1 1 1 1 1 1 1 1 1 1 1 1 1\n",
      "  1 1 1 1 1 1 1 1 1 1 1 1 1 1 1 1 1 1 1 1]], shape=(1, 128), dtype=int32)\n",
      "start_positions: tf.Tensor([75], shape=(1,), dtype=int32)\n",
      "end_positions: tf.Tensor([78], shape=(1,), dtype=int32)\n"
     ]
    }
   ],
   "source": [
    "with open('train-v2.0.json') as f:\n",
    "    squad_train_data = json.load(f)\n",
    "tokenizer = BertTokenizerFast.from_pretrained('bert-base-uncased')\n",
    "def preprocess_squad(data, tokenizer, max_samples=1000, \n",
    "                     max_seq_length=128, \n",
    "                     doc_stride=16, test_one_example=False):\n",
    "    input_ids_list = []\n",
    "    attention_masks_list = []\n",
    "    token_type_ids_list = []\n",
    "    start_positions_list = []\n",
    "    end_positions_list = []\n",
    "\n",
    "    samples = 0\n",
    "    for entry in data['data']:\n",
    "        if samples >= max_samples:\n",
    "            break\n",
    "        for paragraph in entry['paragraphs']:\n",
    "            context = paragraph['context']\n",
    "            if test_one_example:\n",
    "                print(f\"Context: {context[:100]}...\")  # Print a part of the context for debugging\n",
    "            for qa in paragraph['qas']:\n",
    "                question = qa['question']\n",
    "                if len(qa['answers']) == 0:\n",
    "                    continue\n",
    "                answer = qa['answers'][0]\n",
    "                start_char = answer['answer_start']\n",
    "                end_char = start_char + len(answer['text'])\n",
    "                if test_one_example:\n",
    "                    print('Question:', question)\n",
    "                    print('Answer:', answer)\n",
    "                    print('Answer span:', (start_char, end_char))\n",
    "                # Tokenize context and question\n",
    "                tokenized_context = tokenizer(\n",
    "                    question,\n",
    "                    context,\n",
    "                    truncation=\"only_second\",\n",
    "                    max_length=max_seq_length,\n",
    "                    stride=doc_stride,\n",
    "                    return_overflowing_tokens=False,\n",
    "                    padding='max_length',\n",
    "                    return_offsets_mapping=True\n",
    "                )\n",
    "\n",
    "                if test_one_example:\n",
    "                    print(\"Tokenized context:\", tokenized_context)  # Print tokenized output for debugging\n",
    "\n",
    "                # Get start and end token positions manually\n",
    "                offsets = tokenized_context[\"offset_mapping\"]\n",
    "                if test_one_example:\n",
    "                    print(\"Offset mapping:\", offsets)\n",
    "                start_position = None\n",
    "                end_position = None\n",
    "\n",
    "                for idx, offset in enumerate(offsets):\n",
    "                    if offset is None or len(offset) != 2:\n",
    "                        continue\n",
    "                    start, end = offset\n",
    "                    if start <= start_char < end:\n",
    "                        start_position = idx\n",
    "                    if start < end_char <= end:\n",
    "                        end_position = idx\n",
    "\n",
    "                if test_one_example:\n",
    "                    print(\"Start position:\", start_position)  # Print start position for debugging\n",
    "                    print(\"End position:\", end_position)  # Print end position for debugging\n",
    "                \n",
    "                if start_position is None or end_position is None:\n",
    "                    continue\n",
    "\n",
    "                # Add data to lists\n",
    "                input_ids_list.append(tokenized_context['input_ids'])\n",
    "                attention_masks_list.append(tokenized_context['attention_mask'])\n",
    "                token_type_ids_list.append(tokenized_context['token_type_ids'])\n",
    "                start_positions_list.append(start_position)\n",
    "                end_positions_list.append(end_position)\n",
    "                \n",
    "                samples += 1\n",
    "                if samples >= max_samples or test_one_example:\n",
    "                    break\n",
    "            if samples >= max_samples or test_one_example:\n",
    "                break\n",
    "        if samples >= max_samples or test_one_example:\n",
    "            break\n",
    "\n",
    "    # Convert lists to tensors\n",
    "    if input_ids_list:\n",
    "        input_ids = tf.convert_to_tensor(input_ids_list, dtype=tf.int32)\n",
    "        attention_masks = tf.convert_to_tensor(attention_masks_list, dtype=tf.int32)\n",
    "        token_type_ids = tf.convert_to_tensor(token_type_ids_list, dtype=tf.int32)\n",
    "        start_positions = tf.convert_to_tensor(start_positions_list, dtype=tf.int32)\n",
    "        end_positions = tf.convert_to_tensor(end_positions_list, dtype=tf.int32)\n",
    "    else:\n",
    "        input_ids = tf.constant([])\n",
    "        attention_masks = tf.constant([])\n",
    "        token_type_ids = tf.constant([])\n",
    "        start_positions = tf.constant([])\n",
    "        end_positions = tf.constant([])\n",
    "\n",
    "    return input_ids, attention_masks, token_type_ids, start_positions, end_positions\n",
    "\n",
    "# Preprocess one example from the SQuAD data for testing\n",
    "input_ids, attention_masks, token_type_ids, start_positions, end_positions = preprocess_squad(\n",
    "    squad_train_data, tokenizer, max_samples=1, test_one_example=True)\n",
    "\n",
    "print(\"input_ids:\", input_ids)\n",
    "print(\"attention_masks:\", attention_masks)\n",
    "print(\"token_type_ids:\", token_type_ids)\n",
    "print(\"start_positions:\", start_positions)\n",
    "print(\"end_positions:\", end_positions)"
   ]
  },
  {
   "cell_type": "code",
   "execution_count": 81,
   "id": "0d22a73e-0661-4f9c-b6c0-f5572d105a34",
   "metadata": {},
   "outputs": [
    {
     "name": "stdout",
     "output_type": "stream",
     "text": [
      "tf.Tensor(\n",
      "[[  101  2043  2106 ...  1997 20773   102]\n",
      " [  101  2054  2752 ...  2037 14221   102]\n",
      " [  101  1999  2054 ...  2387  1996   102]\n",
      " ...\n",
      " [  101  2040  2165 ...  2044  8792   102]\n",
      " [  101  2040  3092 ...  2000 25479   102]\n",
      " [  101  2129  2116 ...     0     0     0]], shape=(1000, 128), dtype=int32)\n"
     ]
    }
   ],
   "source": [
    "input_ids, attention_masks, token_type_ids, start_positions, end_positions = preprocess_squad(\n",
    "    squad_train_data, tokenizer, max_samples=1000, test_one_example=False)\n",
    "print(input_ids)"
   ]
  },
  {
   "cell_type": "markdown",
   "id": "874b4e5b-0fc0-40f1-a2b4-afa1bcfcfd5c",
   "metadata": {
    "jp-MarkdownHeadingCollapsed": true
   },
   "source": [
    "### Load the SQuAD dataset from the saved files"
   ]
  },
  {
   "cell_type": "code",
   "execution_count": 83,
   "id": "fe41b431-f4e8-41a5-a62e-55beb9cca0ec",
   "metadata": {},
   "outputs": [],
   "source": [
    "# Ensure buffer_size is greater than zero\n",
    "buffer_size = max(len(input_ids), 1)\n",
    "\n",
    "# Create the dataset\n",
    "dataset = tf.data.Dataset.from_tensor_slices(({\n",
    "    'input_ids': input_ids,\n",
    "    # 'attention_mask': attention_masks,\n",
    "    'token_type_ids': token_type_ids\n",
    "}, {\n",
    "    'start_positions': start_positions,\n",
    "    'end_positions': end_positions\n",
    "}))\n",
    "\n",
    "# Batch the dataset\n",
    "batch_size = 8\n",
    "dataset = dataset.shuffle(buffer_size).batch(batch_size)"
   ]
  },
  {
   "cell_type": "markdown",
   "id": "939dcba0-e576-4cd9-894c-7e3b348a076b",
   "metadata": {
    "jp-MarkdownHeadingCollapsed": true
   },
   "source": [
    "### Fine Tune model architecure for QA data"
   ]
  },
  {
   "cell_type": "code",
   "execution_count": 87,
   "id": "bbbc6730-41c2-4d66-9f32-4d7f219a754e",
   "metadata": {},
   "outputs": [],
   "source": [
    "class BERTQA(tf.keras.Model):\n",
    "    def __init__(self, num_layers, d_model, num_heads, dff, vocab_size, segment_size, max_seq_length=128, rate=0.1):\n",
    "        super(BERTQA, self).__init__()\n",
    "        self.encoder = TransformerEncoderV4(num_layers=num_layers, d_model=d_model, num_heads=num_heads,\n",
    "                                            dff=dff, vocab_size=vocab_size, segment_size=segment_size,\n",
    "                                            max_pos=max_seq_length, pos_dropout=rate)\n",
    "        self.qa_outputs = tf.keras.layers.Dense(2)  # Start and end positions\n",
    "\n",
    "    def call(self, inputs, training=False):\n",
    "        input_ids = inputs['input_ids']\n",
    "        token_type_ids = inputs['token_type_ids'] \n",
    "        x = self.encoder((input_ids, token_type_ids), training=training)\n",
    "        logits = self.qa_outputs(x)\n",
    "        ### the model learns to predict the start and end positions given the input tokens\n",
    "        start_logits, end_logits = tf.split(logits, 2, axis=-1)\n",
    "        start_logits = tf.squeeze(start_logits, axis=-1)\n",
    "        end_logits = tf.squeeze(end_logits, axis=-1)\n",
    "        return start_logits, end_logits\n",
    "bert_qa_model = BERTQA(num_layers, d_model, num_heads, \n",
    "                  dff, vocab_size, segment_size)"
   ]
  },
  {
   "cell_type": "markdown",
   "id": "6de44ea4-7338-484d-9bf4-464e888e3b5c",
   "metadata": {},
   "source": [
    "### To ensure only the encoder weights are loaded, explicitly exclude the additional layers during the weight loading process.\n",
    "\n",
    "The pre-training model includes mlm_dense_transform, mlm_layer_norm, mlm_dense, and nsp_dense layers which are specific to Masked Language Model (MLM) and Next Sentence Prediction (NSP) tasks.\n",
    "The fine-tuning model includes qa_outputs layer specific to the QA task."
   ]
  },
  {
   "cell_type": "code",
   "execution_count": null,
   "id": "e532519e-4ddf-4b6e-807a-13ca39056049",
   "metadata": {},
   "outputs": [],
   "source": [
    "# Load pre-trained weights (ensure you have the path to your pre-trained weights)\n",
    "bert_qa_model.load_weights(model_full_name, skip_mismatch=True)"
   ]
  },
  {
   "cell_type": "markdown",
   "id": "78a9ebe5-69cc-4dee-857d-40c6d4131866",
   "metadata": {},
   "source": [
    "### accuracy and loss functions for fine tuning"
   ]
  },
  {
   "cell_type": "markdown",
   "id": "e301ec1c-9b3b-4603-8b9c-fdd8c8e5a915",
   "metadata": {},
   "source": [
    "During training, the model learns to predict the start and end positions given the input tokens. \n",
    "The loss function calculates the difference between the predicted start/end positions and the true start/end positions. The model adjusts its weights to minimize this loss, improving its ability to locate the correct answer span in future contexts."
   ]
  },
  {
   "cell_type": "code",
   "execution_count": null,
   "id": "68db18a4-48fc-433e-b8f8-ccea605dfb3d",
   "metadata": {},
   "outputs": [],
   "source": [
    "def start_accuracy(y_true, y_pred):\n",
    "    return tf.keras.metrics.sparse_categorical_accuracy(y_true, y_pred)\n",
    "\n",
    "def end_accuracy(y_true, y_pred):\n",
    "    return tf.keras.metrics.sparse_categorical_accuracy(y_true, y_pred)\n",
    "\n",
    "# Compile the model\n",
    "optimizer = tf.keras.optimizers.Adam(learning_rate=3e-5)\n",
    "loss_fn = tf.keras.losses.SparseCategoricalCrossentropy(from_logits=True)"
   ]
  },
  {
   "cell_type": "markdown",
   "id": "a7b1dfde-fc88-4bd8-9e9f-e883f8a37f5e",
   "metadata": {},
   "source": [
    "###  Fine Tune Traiining with skip mismatch of eights if any"
   ]
  },
  {
   "cell_type": "code",
   "execution_count": 93,
   "id": "dfae548a-3a80-4994-8f0a-d572b47969ea",
   "metadata": {},
   "outputs": [
    {
     "name": "stdout",
     "output_type": "stream",
     "text": [
      "Epoch 1/30\n",
      "\u001b[1m125/125\u001b[0m \u001b[32m━━━━━━━━━━━━━━━━━━━━\u001b[0m\u001b[37m\u001b[0m \u001b[1m99s\u001b[0m 749ms/step - end_accuracy: 0.2933 - loss: 4.9262 - start_accuracy: 0.3005\n",
      "Epoch 2/30\n",
      "\u001b[1m125/125\u001b[0m \u001b[32m━━━━━━━━━━━━━━━━━━━━\u001b[0m\u001b[37m\u001b[0m \u001b[1m100s\u001b[0m 804ms/step - end_accuracy: 0.3263 - loss: 4.3945 - start_accuracy: 0.3620\n",
      "Epoch 3/30\n",
      "\u001b[1m125/125\u001b[0m \u001b[32m━━━━━━━━━━━━━━━━━━━━\u001b[0m\u001b[37m\u001b[0m \u001b[1m97s\u001b[0m 772ms/step - end_accuracy: 0.3466 - loss: 4.1039 - start_accuracy: 0.3588\n",
      "Epoch 4/30\n",
      "\u001b[1m125/125\u001b[0m \u001b[32m━━━━━━━━━━━━━━━━━━━━\u001b[0m\u001b[37m\u001b[0m \u001b[1m95s\u001b[0m 763ms/step - end_accuracy: 0.4128 - loss: 3.6042 - start_accuracy: 0.4044\n",
      "Epoch 5/30\n",
      "\u001b[1m125/125\u001b[0m \u001b[32m━━━━━━━━━━━━━━━━━━━━\u001b[0m\u001b[37m\u001b[0m \u001b[1m96s\u001b[0m 769ms/step - end_accuracy: 0.4858 - loss: 3.2439 - start_accuracy: 0.4814\n",
      "Epoch 6/30\n",
      "\u001b[1m125/125\u001b[0m \u001b[32m━━━━━━━━━━━━━━━━━━━━\u001b[0m\u001b[37m\u001b[0m \u001b[1m93s\u001b[0m 742ms/step - end_accuracy: 0.4773 - loss: 3.0950 - start_accuracy: 0.4637\n",
      "Epoch 7/30\n",
      "\u001b[1m125/125\u001b[0m \u001b[32m━━━━━━━━━━━━━━━━━━━━\u001b[0m\u001b[37m\u001b[0m \u001b[1m93s\u001b[0m 746ms/step - end_accuracy: 0.5088 - loss: 2.8728 - start_accuracy: 0.4959\n",
      "Epoch 8/30\n",
      "\u001b[1m125/125\u001b[0m \u001b[32m━━━━━━━━━━━━━━━━━━━━\u001b[0m\u001b[37m\u001b[0m \u001b[1m96s\u001b[0m 765ms/step - end_accuracy: 0.5557 - loss: 2.5166 - start_accuracy: 0.5254\n",
      "Epoch 9/30\n",
      "\u001b[1m125/125\u001b[0m \u001b[32m━━━━━━━━━━━━━━━━━━━━\u001b[0m\u001b[37m\u001b[0m \u001b[1m98s\u001b[0m 782ms/step - end_accuracy: 0.6009 - loss: 2.4170 - start_accuracy: 0.5704\n",
      "Epoch 10/30\n",
      "\u001b[1m125/125\u001b[0m \u001b[32m━━━━━━━━━━━━━━━━━━━━\u001b[0m\u001b[37m\u001b[0m \u001b[1m95s\u001b[0m 759ms/step - end_accuracy: 0.5841 - loss: 2.3574 - start_accuracy: 0.5573\n",
      "Epoch 11/30\n",
      "\u001b[1m125/125\u001b[0m \u001b[32m━━━━━━━━━━━━━━━━━━━━\u001b[0m\u001b[37m\u001b[0m \u001b[1m94s\u001b[0m 753ms/step - end_accuracy: 0.6521 - loss: 2.0378 - start_accuracy: 0.5893\n",
      "Epoch 12/30\n",
      "\u001b[1m125/125\u001b[0m \u001b[32m━━━━━━━━━━━━━━━━━━━━\u001b[0m\u001b[37m\u001b[0m \u001b[1m97s\u001b[0m 775ms/step - end_accuracy: 0.6483 - loss: 1.9806 - start_accuracy: 0.6028\n",
      "Epoch 13/30\n",
      "\u001b[1m125/125\u001b[0m \u001b[32m━━━━━━━━━━━━━━━━━━━━\u001b[0m\u001b[37m\u001b[0m \u001b[1m93s\u001b[0m 743ms/step - end_accuracy: 0.6306 - loss: 1.9068 - start_accuracy: 0.6341\n",
      "Epoch 14/30\n",
      "\u001b[1m125/125\u001b[0m \u001b[32m━━━━━━━━━━━━━━━━━━━━\u001b[0m\u001b[37m\u001b[0m \u001b[1m96s\u001b[0m 766ms/step - end_accuracy: 0.6643 - loss: 1.7861 - start_accuracy: 0.6804\n",
      "Epoch 15/30\n",
      "\u001b[1m125/125\u001b[0m \u001b[32m━━━━━━━━━━━━━━━━━━━━\u001b[0m\u001b[37m\u001b[0m \u001b[1m101s\u001b[0m 804ms/step - end_accuracy: 0.6707 - loss: 1.7236 - start_accuracy: 0.6257\n",
      "Epoch 16/30\n",
      "\u001b[1m125/125\u001b[0m \u001b[32m━━━━━━━━━━━━━━━━━━━━\u001b[0m\u001b[37m\u001b[0m \u001b[1m103s\u001b[0m 821ms/step - end_accuracy: 0.6871 - loss: 1.5922 - start_accuracy: 0.6714\n",
      "Epoch 17/30\n",
      "\u001b[1m125/125\u001b[0m \u001b[32m━━━━━━━━━━━━━━━━━━━━\u001b[0m\u001b[37m\u001b[0m \u001b[1m94s\u001b[0m 751ms/step - end_accuracy: 0.7066 - loss: 1.5612 - start_accuracy: 0.6886\n",
      "Epoch 18/30\n",
      "\u001b[1m125/125\u001b[0m \u001b[32m━━━━━━━━━━━━━━━━━━━━\u001b[0m\u001b[37m\u001b[0m \u001b[1m96s\u001b[0m 769ms/step - end_accuracy: 0.7350 - loss: 1.5602 - start_accuracy: 0.6768\n",
      "Epoch 19/30\n",
      "\u001b[1m125/125\u001b[0m \u001b[32m━━━━━━━━━━━━━━━━━━━━\u001b[0m\u001b[37m\u001b[0m \u001b[1m99s\u001b[0m 795ms/step - end_accuracy: 0.7111 - loss: 1.4235 - start_accuracy: 0.6956\n",
      "Epoch 20/30\n",
      "\u001b[1m125/125\u001b[0m \u001b[32m━━━━━━━━━━━━━━━━━━━━\u001b[0m\u001b[37m\u001b[0m \u001b[1m96s\u001b[0m 769ms/step - end_accuracy: 0.7163 - loss: 1.3248 - start_accuracy: 0.7364\n",
      "Epoch 21/30\n",
      "\u001b[1m125/125\u001b[0m \u001b[32m━━━━━━━━━━━━━━━━━━━━\u001b[0m\u001b[37m\u001b[0m \u001b[1m93s\u001b[0m 740ms/step - end_accuracy: 0.7021 - loss: 1.4391 - start_accuracy: 0.7037\n",
      "Epoch 22/30\n",
      "\u001b[1m125/125\u001b[0m \u001b[32m━━━━━━━━━━━━━━━━━━━━\u001b[0m\u001b[37m\u001b[0m \u001b[1m92s\u001b[0m 733ms/step - end_accuracy: 0.7557 - loss: 1.3225 - start_accuracy: 0.7361\n",
      "Epoch 23/30\n",
      "\u001b[1m125/125\u001b[0m \u001b[32m━━━━━━━━━━━━━━━━━━━━\u001b[0m\u001b[37m\u001b[0m \u001b[1m94s\u001b[0m 753ms/step - end_accuracy: 0.7407 - loss: 1.3076 - start_accuracy: 0.7057\n",
      "Epoch 24/30\n",
      "\u001b[1m125/125\u001b[0m \u001b[32m━━━━━━━━━━━━━━━━━━━━\u001b[0m\u001b[37m\u001b[0m \u001b[1m103s\u001b[0m 820ms/step - end_accuracy: 0.7450 - loss: 1.3189 - start_accuracy: 0.7353\n",
      "Epoch 25/30\n",
      "\u001b[1m125/125\u001b[0m \u001b[32m━━━━━━━━━━━━━━━━━━━━\u001b[0m\u001b[37m\u001b[0m \u001b[1m96s\u001b[0m 768ms/step - end_accuracy: 0.7067 - loss: 1.3342 - start_accuracy: 0.7257\n",
      "Epoch 26/30\n",
      "\u001b[1m125/125\u001b[0m \u001b[32m━━━━━━━━━━━━━━━━━━━━\u001b[0m\u001b[37m\u001b[0m \u001b[1m96s\u001b[0m 766ms/step - end_accuracy: 0.7523 - loss: 1.2040 - start_accuracy: 0.7538\n",
      "Epoch 27/30\n",
      "\u001b[1m125/125\u001b[0m \u001b[32m━━━━━━━━━━━━━━━━━━━━\u001b[0m\u001b[37m\u001b[0m \u001b[1m96s\u001b[0m 767ms/step - end_accuracy: 0.7433 - loss: 1.1856 - start_accuracy: 0.7333\n",
      "Epoch 28/30\n",
      "\u001b[1m125/125\u001b[0m \u001b[32m━━━━━━━━━━━━━━━━━━━━\u001b[0m\u001b[37m\u001b[0m \u001b[1m97s\u001b[0m 773ms/step - end_accuracy: 0.7652 - loss: 1.1481 - start_accuracy: 0.7404\n",
      "Epoch 29/30\n",
      "\u001b[1m125/125\u001b[0m \u001b[32m━━━━━━━━━━━━━━━━━━━━\u001b[0m\u001b[37m\u001b[0m \u001b[1m94s\u001b[0m 754ms/step - end_accuracy: 0.7587 - loss: 1.1270 - start_accuracy: 0.7579\n",
      "Epoch 30/30\n",
      "\u001b[1m125/125\u001b[0m \u001b[32m━━━━━━━━━━━━━━━━━━━━\u001b[0m\u001b[37m\u001b[0m \u001b[1m95s\u001b[0m 759ms/step - end_accuracy: 0.7766 - loss: 1.0167 - start_accuracy: 0.7792\n"
     ]
    },
    {
     "data": {
      "text/plain": [
       "<keras.src.callbacks.history.History at 0x7f2a88595dc0>"
      ]
     },
     "execution_count": 93,
     "metadata": {},
     "output_type": "execute_result"
    }
   ],
   "source": [
    "bert_qa_model.compile(optimizer=optimizer, \n",
    "                      loss=loss_fn, \n",
    "                      metrics=[start_accuracy, end_accuracy])\n",
    "# Train the model\n",
    "bert_qa_model.fit(dataset, epochs=30)"
   ]
  },
  {
   "cell_type": "markdown",
   "id": "440a186d-88ef-4b28-bf7b-c3219bf77c5a",
   "metadata": {
    "jp-MarkdownHeadingCollapsed": true
   },
   "source": [
    "# Adopt for Hugging Face"
   ]
  },
  {
   "cell_type": "code",
   "execution_count": 96,
   "id": "513b7327-059e-4fa8-bf8a-ac238cc62c85",
   "metadata": {},
   "outputs": [],
   "source": [
    "# Save the fine-tuned model\n",
    "# model_path = '/mnt/d/MyDev/attention/transformerlab/bert/models/bert_fine_tuned_qa'\n",
    "qa_model_full_name = os.path.join(model_path, 'finetuned_qa_bert.weights.h5')\n",
    "bert_qa_model.save_weights(qa_model_full_name)"
   ]
  },
  {
   "cell_type": "code",
   "execution_count": 158,
   "id": "6ae042cc-c9c9-4dc5-aa68-ec84b0c304f8",
   "metadata": {},
   "outputs": [],
   "source": [
    "class TFCustomBertModel(TFPreTrainedModel):\n",
    "    config_class = BertConfig\n",
    "    base_model_prefix = \"bert\"\n",
    "\n",
    "    def __init__(self, config, *inputs, **kwargs):\n",
    "        super().__init__(config, *inputs, **kwargs)\n",
    "        self.encoder = TransformerEncoderV4(num_layers=config.num_hidden_layers,\n",
    "                                            d_model=config.hidden_size,\n",
    "                                            num_heads=config.num_attention_heads,\n",
    "                                            dff=config.intermediate_size,\n",
    "                                            vocab_size=config.vocab_size,\n",
    "                                            segment_size=config.segment_size,\n",
    "                                            max_pos=config.max_position_embeddings,\n",
    "                                            pos_dropout=config.hidden_dropout_prob)\n",
    "\n",
    "        self.mlm_dense_transform = tf.keras.layers.Dense(config.hidden_size, activation='gelu')\n",
    "        self.mlm_layer_norm = tf.keras.layers.LayerNormalization(epsilon=config.layer_norm_eps)\n",
    "        self.mlm_dense = tf.keras.layers.Dense(config.vocab_size)\n",
    "        self.nsp_dense = tf.keras.layers.Dense(1, activation='sigmoid')\n",
    "\n",
    "    def call(self, inputs, training=False):\n",
    "        x = self.encoder((inputs['input_ids'], inputs['segment_ids']), training=training)\n",
    "        mlm_output = self.mlm_dense_transform(x)\n",
    "        mlm_output = self.mlm_layer_norm(mlm_output)\n",
    "        mlm_output = self.mlm_dense(mlm_output)\n",
    "        nsp_output = self.nsp_dense(x[:, 0, :])\n",
    "        return {'mlm_output': mlm_output, 'nsp_output': nsp_output}\n",
    "\n",
    "    def save_pretrained(self, save_directory, model_name=\"tf_model.h5\", *model_args, **kwargs):\n",
    "        os.makedirs(save_directory, exist_ok=True)\n",
    "        model_weights_path = os.path.join(save_directory, model_name)\n",
    "        self.save_weights(model_weights_path)\n",
    "        self.config.save_pretrained(save_directory)\n",
    "\n",
    "    @classmethod\n",
    "    def from_pretrained(cls, pretrained_model_name_or_path, model_name=\"tf_model.h5\", *model_args, **kwargs):\n",
    "        config = kwargs.pop(\"config\", None)\n",
    "        if config is None:\n",
    "            config = BertConfig.from_pretrained(pretrained_model_name_or_path, **kwargs)\n",
    "        model = cls(config, *model_args, **kwargs)\n",
    "\n",
    "        # Create the model variables by calling the model with dummy inputs\n",
    "        dummy_input_ids = tf.constant([[0] * config.max_position_embeddings])\n",
    "        dummy_segment_ids = tf.constant([[0] * config.max_position_embeddings])\n",
    "        model({'input_ids': dummy_input_ids, 'segment_ids': dummy_segment_ids})\n",
    "\n",
    "        model_weights_path = os.path.join(pretrained_model_name_or_path, model_name)\n",
    "        model.load_weights(model_weights_path)\n",
    "        return model\n",
    "\n",
    "# Define the config\n",
    "config = BertConfig(\n",
    "    vocab_size=vocab_size,  # Adjust as needed\n",
    "    hidden_size=d_model,\n",
    "    num_hidden_layers=num_layers,\n",
    "    num_attention_heads=num_heads,\n",
    "    intermediate_size=dff,\n",
    "    hidden_act=\"gelu\",\n",
    "    initializer_range=0.02,\n",
    "    layer_norm_eps=1e-12,\n",
    "    segment_size=segment_size,\n",
    "    max_position_embeddings=max_seq_length,\n",
    "    hidden_dropout_prob=0.1\n",
    ")\n",
    "\n",
    "# Instantiate and save the model\n",
    "model = TFCustomBertModel(config)\n",
    "model.load_weights(model_full_name)\n",
    "model_name = \"huggingface_wiki_pretrained_tf_model.h5\"\n",
    "model.save_pretrained(model_path, model_name)\n",
    "\n",
    "# Save the tokenizer\n",
    "tokenizer.save_pretrained(model_path)\n",
    "\n",
    "# Load the model\n",
    "loaded_hf_model = TFCustomBertModel.from_pretrained(model_path, model_name)"
   ]
  },
  {
   "cell_type": "markdown",
   "id": "ac008c8f-528b-49cc-8078-9aca8dede0a8",
   "metadata": {
    "jp-MarkdownHeadingCollapsed": true
   },
   "source": [
    "### execute this step from CLI"
   ]
  },
  {
   "cell_type": "markdown",
   "id": "96bf3be9-7704-468e-b9ae-a6ff4b06a1ad",
   "metadata": {
    "jp-MarkdownHeadingCollapsed": true
   },
   "source": [
    "!huggingface-cli login\n",
    "\n",
    "huggingface/tokenizers: The current process just got forked, after parallelism has already been used. Disabling parallelism to avoid deadlocks...\n",
    "To disable this warning, you can either:\n",
    "\t- Avoid using `tokenizers` before the fork if possible\n",
    "\t- Explicitly set the environment variable TOKENIZERS_PARALLELISM=(true | false)\n",
    "\n",
    "    _|    _|  _|    _|    _|_|_|    _|_|_|  _|_|_|  _|      _|    _|_|_|      _|_|_|_|    _|_|      _|_|_|  _|_|_|_|\n",
    "    _|    _|  _|    _|  _|        _|          _|    _|_|    _|  _|            _|        _|    _|  _|        _|\n",
    "    _|_|_|_|  _|    _|  _|  _|_|  _|  _|_|    _|    _|  _|  _|  _|  _|_|      _|_|_|    _|_|_|_|  _|        _|_|_|\n",
    "    _|    _|  _|    _|  _|    _|  _|    _|    _|    _|    _|_|  _|    _|      _|        _|    _|  _|        _|\n",
    "    _|    _|    _|_|      _|_|_|    _|_|_|  _|_|_|  _|      _|    _|_|_|      _|        _|    _|    _|_|_|  _|_|_|_|\n",
    "\n",
    "    A token is already saved on your machine. Run `huggingface-cli whoami` to get more information or `huggingface-cli logout` if you want to log out.\n",
    "    Setting a new token will erase the existing one.\n",
    "    To login, `huggingface_hub` requires a token generated from https://huggingface.co/settings/tokens .\n",
    "Enter your token (input will not be visible): Traceback (most recent call last):"
   ]
  },
  {
   "cell_type": "code",
   "execution_count": 159,
   "id": "d9e54f7b-6cc7-4b0b-9904-ecff00f33890",
   "metadata": {},
   "outputs": [
    {
     "name": "stderr",
     "output_type": "stream",
     "text": [
      "tf_model.h5: 100%|█████████████████████████████████████████████████| 6.47k/6.47k [00:01<00:00, 4.91kB/s]\n"
     ]
    }
   ],
   "source": [
    "from huggingface_hub import HfApi, HfFolder, Repository\n",
    "# Save your Hugging Face token\n",
    "# hf_token = \"your_huggingface_token\"\n",
    "# # Save the token in the HfFolder\n",
    "# HfFolder.save_token(hf_token)\n",
    "model_repo_name = f\"Bhujay/{model_name}\"\n",
    "model.push_to_hub(model_repo_name)\n",
    "# # Create the repository if it doesn't exist\n",
    "# api = HfApi()\n",
    "# api.create_repo(model_repo_name, exist_ok=True)\n",
    "# # Initialize the repository\n",
    "# repo = Repository(local_dir=model_path, clone_from=model_repo_name)\n",
    "# # Commit and push the files\n",
    "# repo.git_add()\n",
    "# repo.git_commit(\"Initial commit\")\n",
    "# repo.git_push()"
   ]
  },
  {
   "cell_type": "markdown",
   "id": "c803d603-9520-4cea-b491-8d9ff0e2f801",
   "metadata": {},
   "source": [
    "# Pre-Train and Fine tune a Hugging face mode; "
   ]
  },
  {
   "cell_type": "code",
   "execution_count": null,
   "id": "f420201d-f528-4b2f-b663-e174431b1499",
   "metadata": {},
   "outputs": [],
   "source": [
    "from datasets import load_dataset\n",
    "dataset = load_dataset(\"wikipedia\", \"20220301.en\", split='train')"
   ]
  },
  {
   "cell_type": "code",
   "execution_count": null,
   "id": "72e381b9-5878-4250-b99e-8b853640fc3c",
   "metadata": {},
   "outputs": [],
   "source": [
    "from transformers import BertTokenizer\n",
    "\n",
    "tokenizer = BertTokenizerFast.from_pretrained('bert-base-uncased')\n",
    "\n",
    "def tokenize_function(examples):\n",
    "    return tokenizer(examples[\"text\"], truncation=True, padding=\"max_length\")\n",
    "\n",
    "tokenized_datasets = dataset.map(tokenize_function, batched=True)"
   ]
  },
  {
   "cell_type": "code",
   "execution_count": null,
   "id": "1e3dfa73-323e-4930-b9c2-c1e2080a8acc",
   "metadata": {},
   "outputs": [],
   "source": [
    "from transformers import DataCollatorForLanguageModeling\n",
    "\n",
    "data_collator = DataCollatorForLanguageModeling(\n",
    "    tokenizer=tokenizer,\n",
    "    mlm=True,\n",
    "    mlm_probability=0.15)\n"
   ]
  },
  {
   "cell_type": "code",
   "execution_count": null,
   "id": "7227c722-9c49-4bdb-926e-7091b49e5f3f",
   "metadata": {},
   "outputs": [],
   "source": [
    "from transformers import BertForPreTraining, Trainer, TrainingArguments\n",
    "\n",
    "model = BertForPreTraining.from_pretrained('bert-base-uncased')"
   ]
  },
  {
   "cell_type": "code",
   "execution_count": null,
   "id": "b69ca148-1c24-45e2-904c-94a6c99df05b",
   "metadata": {},
   "outputs": [],
   "source": [
    "training_args = TrainingArguments(\n",
    "    output_dir=\"./results\",\n",
    "    overwrite_output_dir=True,\n",
    "    num_train_epochs=1,\n",
    "    per_device_train_batch_size=8,\n",
    "    save_steps=10_000,\n",
    "    save_total_limit=2,\n",
    ")"
   ]
  },
  {
   "cell_type": "code",
   "execution_count": null,
   "id": "82a51f6c-f36c-4bf1-97cb-948e5bebaef6",
   "metadata": {},
   "outputs": [],
   "source": [
    "trainer = Trainer(\n",
    "    model=model,\n",
    "    args=training_args,\n",
    "    data_collator=data_collator,\n",
    "    train_dataset=tokenized_datasets\n",
    ")\n",
    "trainer.train()"
   ]
  },
  {
   "cell_type": "code",
   "execution_count": null,
   "id": "7d198953-53b2-47b1-bb1a-9d243bf52c02",
   "metadata": {},
   "outputs": [],
   "source": []
  },
  {
   "cell_type": "code",
   "execution_count": null,
   "id": "a41098d7-8cf8-4a63-8173-4d5f1cfe9bb7",
   "metadata": {},
   "outputs": [],
   "source": []
  },
  {
   "cell_type": "code",
   "execution_count": null,
   "id": "9fa5965a-1716-41fe-a816-56c47da8e17f",
   "metadata": {},
   "outputs": [],
   "source": []
  },
  {
   "cell_type": "code",
   "execution_count": null,
   "id": "c576602d-7f70-4ac2-a3bf-be3bfa5cc810",
   "metadata": {},
   "outputs": [],
   "source": []
  },
  {
   "cell_type": "code",
   "execution_count": null,
   "id": "77113935-fd8c-4050-8083-ea4767dd750a",
   "metadata": {},
   "outputs": [],
   "source": []
  },
  {
   "cell_type": "code",
   "execution_count": null,
   "id": "3b958691-63d8-4c96-a09a-b2b7b01dd8b0",
   "metadata": {},
   "outputs": [],
   "source": []
  }
 ],
 "metadata": {
  "kernelspec": {
   "display_name": "Python 3 (ipykernel)",
   "language": "python",
   "name": "python3"
  },
  "language_info": {
   "codemirror_mode": {
    "name": "ipython",
    "version": 3
   },
   "file_extension": ".py",
   "mimetype": "text/x-python",
   "name": "python",
   "nbconvert_exporter": "python",
   "pygments_lexer": "ipython3",
   "version": "3.9.7"
  }
 },
 "nbformat": 4,
 "nbformat_minor": 5
}
