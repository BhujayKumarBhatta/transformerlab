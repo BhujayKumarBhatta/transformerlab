{
 "cells": [
  {
   "cell_type": "code",
   "execution_count": null,
   "id": "b29ab091-d655-4d44-a6b1-ae4a1287e084",
   "metadata": {},
   "outputs": [],
   "source": []
  },
  {
   "cell_type": "code",
   "execution_count": 1,
   "id": "780f24aa-c8f1-4264-a0d0-929867bf9b9e",
   "metadata": {},
   "outputs": [],
   "source": [
    "# !pip install datasets"
   ]
  },
  {
   "cell_type": "code",
   "execution_count": 2,
   "id": "086051b2-2d8f-4bb7-bf24-0e4dd05fdc9d",
   "metadata": {},
   "outputs": [
    {
     "name": "stderr",
     "output_type": "stream",
     "text": [
      "2024-05-10 12:02:47.872725: I tensorflow/core/util/port.cc:113] oneDNN custom operations are on. You may see slightly different numerical results due to floating-point round-off errors from different computation orders. To turn them off, set the environment variable `TF_ENABLE_ONEDNN_OPTS=0`.\n",
      "2024-05-10 12:02:47.900092: I external/local_tsl/tsl/cuda/cudart_stub.cc:32] Could not find cuda drivers on your machine, GPU will not be used.\n",
      "2024-05-10 12:02:48.674048: I external/local_tsl/tsl/cuda/cudart_stub.cc:32] Could not find cuda drivers on your machine, GPU will not be used.\n",
      "2024-05-10 12:02:51.489027: I tensorflow/core/platform/cpu_feature_guard.cc:210] This TensorFlow binary is optimized to use available CPU instructions in performance-critical operations.\n",
      "To enable the following instructions: AVX2 AVX512F AVX512_VNNI FMA, in other operations, rebuild TensorFlow with the appropriate compiler flags.\n",
      "2024-05-10 12:02:59.347252: W tensorflow/compiler/tf2tensorrt/utils/py_utils.cc:38] TF-TRT Warning: Could not find TensorRT\n"
     ]
    }
   ],
   "source": [
    "import sys\n",
    "sys.path.append('../src')\n",
    "from transformer_encoder import TransformerEncoderV3\n",
    "import seaborn as sns\n",
    "import numpy as np\n",
    "from datasets import load_dataset\n",
    "from transformers import BertTokenizer\n",
    "import tensorflow as tf\n",
    "from tensorflow.keras.layers import Embedding, Input, Dense, Dropout\n",
    "from tensorflow.keras.models import Model"
   ]
  },
  {
   "cell_type": "code",
   "execution_count": 3,
   "id": "936cb3a7-8536-4f69-9082-7d8afecd6816",
   "metadata": {},
   "outputs": [
    {
     "name": "stdout",
     "output_type": "stream",
     "text": [
      "tf.Tensor([[ 101 1024  768  205  103 3849  102]], shape=(1, 7), dtype=int32)\n",
      "tf.Tensor([[0 0 0 0 1 0 0]], shape=(1, 7), dtype=int32)\n",
      "tf.Tensor([[  -1   -1   -1   -1 1996   -1   -1]], shape=(1, 7), dtype=int32)\n"
     ]
    }
   ],
   "source": [
    "def mask_tokens(inputs, vocab_size, mask_token_id=103):\n",
    "    # Ensure inputs are in the correct dtype, typically tf.int32 for token IDs\n",
    "    inputs = tf.cast(inputs, tf.int32)\n",
    "    mask_token_id = tf.constant(mask_token_id, dtype=tf.int32)\n",
    "\n",
    "    # Randomly choose 15% of the token positions to be masked\n",
    "    rand = tf.random.uniform(shape=tf.shape(inputs), dtype=tf.float32)\n",
    "    mask_positions = tf.cast(tf.less(rand, 0.15), dtype=tf.int32)\n",
    "    \n",
    "    # Generate masks for deciding which type of masking to apply\n",
    "    mask_types = tf.random.uniform(shape=tf.shape(inputs), minval=0, maxval=1, dtype=tf.float32)\n",
    "    \n",
    "    # Apply different masking strategies\n",
    "    inputs_masked = tf.where(\n",
    "        tf.less(mask_types, 0.8),  # 80% - Mask token\n",
    "        tf.fill(tf.shape(inputs), mask_token_id),  # Use tf.fill to ensure correct dtype\n",
    "        tf.where(\n",
    "            tf.less(mask_types, 0.9),  # 10% - Replace with a random token\n",
    "            tf.random.uniform(shape=tf.shape(inputs), minval=0, maxval=vocab_size, dtype=tf.int32),\n",
    "            inputs  # 10% - Leave unchanged\n",
    "        )\n",
    "    )\n",
    "    \n",
    "    # Only replace the positions that were selected for masking\n",
    "    outputs = tf.where(tf.equal(mask_positions, 1), inputs_masked, inputs)\n",
    "    \n",
    "    # Create labels for masked positions, -1 where not masked\n",
    "    labels = tf.where(tf.equal(mask_positions, 1), inputs, -1)\n",
    "    \n",
    "    return outputs, mask_positions, labels\n",
    "\n",
    "\n",
    "\n",
    "# Example usage:\n",
    "vocab_size = 30522  # Example vocabulary size for BERT\n",
    "tokens = tf.constant([[101, 1024, 768, 205, 1996, 3849, 102]])  # Example input token IDs\n",
    "masked_tokens, mask_positions, labels = mask_tokens(tokens, vocab_size)\n",
    "print(masked_tokens)\n",
    "print(mask_positions)\n",
    "print(labels)"
   ]
  },
  {
   "cell_type": "code",
   "execution_count": 4,
   "id": "31575097-523e-4be7-bed2-866c669c5d3b",
   "metadata": {},
   "outputs": [],
   "source": [
    "def prepare_nsp_data(sentences, tokenizer, max_length=128):\n",
    "    # Generate training examples for NSP\n",
    "    examples = []\n",
    "    labels = []\n",
    "\n",
    "    # Loop through each sentence and form pairs\n",
    "    for i in range(len(sentences) - 1):\n",
    "        # Positive example (consecutive sentences)\n",
    "        tokenized_positive = tokenizer.encode_plus(sentences[i], sentences[i+1], max_length=max_length, truncation=True)\n",
    "        examples.append(tokenized_positive['input_ids'])\n",
    "        labels.append(1)  # Label for consecutive\n",
    "\n",
    "        # Negative example (random sentences)\n",
    "        random_index = np.random.randint(0, len(sentences))\n",
    "        tokenized_negative = tokenizer.encode_plus(sentences[i], sentences[random_index], max_length=max_length, truncation=True)\n",
    "        examples.append(tokenized_negative['input_ids'])\n",
    "        labels.append(0)  # Label for non-consecutive\n",
    "\n",
    "    return examples, labels\n"
   ]
  },
  {
   "cell_type": "code",
   "execution_count": null,
   "id": "0fdcddc4-ac82-4134-a612-25969ff0cd6e",
   "metadata": {},
   "outputs": [],
   "source": []
  },
  {
   "cell_type": "code",
   "execution_count": 6,
   "id": "b50705c1-8ade-44a6-a3e5-005d5b8c31f6",
   "metadata": {},
   "outputs": [],
   "source": [
    "\n",
    "\n",
    "# # Load tokenizer\n",
    "# tokenizer = BertTokenizer.from_pretrained('bert-base-uncased')\n",
    "\n",
    "# # Example sentences (simulating extracted sentences from larger documents)\n",
    "# sentences = [\"This is the first sentence.\", \"This is the second sentence.\", \"This is an unrelated sentence.\"]\n",
    "\n",
    "# # Prepare NSP data\n",
    "# nsp_examples, nsp_labels = prepare_nsp_data(sentences, tokenizer)\n",
    "\n",
    "# # Masking tokens in the examples (assuming we flatten examples for simplicity)\n",
    "# flat_examples = np.concatenate(nsp_examples)\n",
    "# masked_inputs, _ = mask_tokens(flat_examples, vocab_size=tokenizer.vocab_size)\n",
    "\n"
   ]
  },
  {
   "cell_type": "code",
   "execution_count": null,
   "id": "ff2641d2-3ab4-4216-82a1-1270a298cf21",
   "metadata": {},
   "outputs": [],
   "source": []
  },
  {
   "cell_type": "code",
   "execution_count": null,
   "id": "e9605307-a887-4946-aaed-4ca894e61ece",
   "metadata": {},
   "outputs": [],
   "source": []
  },
  {
   "cell_type": "code",
   "execution_count": null,
   "id": "00279e80-f056-47c9-a16c-05536d106da4",
   "metadata": {},
   "outputs": [],
   "source": []
  },
  {
   "cell_type": "code",
   "execution_count": null,
   "id": "fa3af6d6-8839-4b7e-a1be-353e0927040d",
   "metadata": {},
   "outputs": [],
   "source": [
    "import random\n",
    "\n",
    "def prepare_mlm_and_nsp_data(texts, tokenizer, mlm_probability=0.15, max_length=128):\n",
    "    # Split the text into individual sentences\n",
    "    sentence_lists = [text.split('.') for text in texts]\n",
    "    examples = []\n",
    "    labels = []\n",
    "\n",
    "    for sentences in sentence_lists:\n",
    "        # Create examples from each list of sentences\n",
    "        for i in range(len(sentences) - 1):\n",
    "            if random.random() < 0.5:  # 50% of the time, use the next sentence as the target\n",
    "                examples.append((sentences[i], sentences[i + 1], 1))\n",
    "            else:  # 50% of the time, use a random sentence as the target\n",
    "                target = random.choice(sentences)\n",
    "                examples.append((sentences[i], target, 0))\n",
    "\n",
    "    input_ids, token_type_ids, attention_masks, nsp_labels = [], [], [], []\n",
    "\n",
    "    for first, second, label in examples:\n",
    "        # Tokenize and concatenate the first and second sentences with [SEP] token\n",
    "        tokenized = tokenizer.encode_plus(first, second, add_special_tokens=True, max_length=max_length, padding=\"max_length\", truncation=True)\n",
    "        input_ids.append(tokenized['input_ids'])\n",
    "        token_type_ids.append(tokenized['token_type_ids'])\n",
    "        attention_masks.append(tokenized['attention_mask'])\n",
    "        nsp_labels.append(label)\n",
    "\n",
    "    # Convert lists to tensors\n",
    "    input_ids = tf.constant(input_ids)\n",
    "    token_type_ids = tf.constant(token_type_ids)\n",
    "    attention_masks = tf.constant(attention_masks)\n",
    "    nsp_labels = tf.constant(nsp_labels)\n",
    "\n",
    "    return input_ids, token_type_ids, attention_masks, nsp_labels\n",
    "\n",
    "# texts = dataset['text'][:10]  # Using a subset for this example\n",
    "input_ids, token_type_ids, attention_masks, nsp_labels = prepare_mlm_and_nsp_data(texts, tokenizer)\n"
   ]
  },
  {
   "cell_type": "code",
   "execution_count": 8,
   "id": "63c535dd-000d-42b6-904a-4f2d3faba92f",
   "metadata": {},
   "outputs": [],
   "source": [
    "from datasets import load_dataset\n",
    "\n",
    "# Load an example dataset, 'wikipedia' for English, 2020-03-01 version\n",
    "dataset = load_dataset(\"wikipedia\", \"20220301.en\", split=[\"train\"])\n",
    "# print(dataset[0])\n",
    "article_texts_dataset = dataset[0]['text'][:1000]\n",
    "\n",
    "# Extract text and write to a file\n",
    "with open('input_text.txt', 'w', encoding='utf-8') as f:\n",
    "    for article  in article_texts_dataset:\n",
    "        # Write each Wikipedia article on a new line\n",
    "        f.write(article.replace('\\n', ' ') + '\\n')\n"
   ]
  },
  {
   "cell_type": "code",
   "execution_count": null,
   "id": "eec8e7b0-449e-4c0f-9c78-d050fc6c4344",
   "metadata": {},
   "outputs": [],
   "source": [
    "# print(dataset[0]['text'][1])"
   ]
  },
  {
   "cell_type": "code",
   "execution_count": 9,
   "id": "ecd859cf-88b2-4da8-9eaa-b71c0cb1ff38",
   "metadata": {},
   "outputs": [
    {
     "name": "stdout",
     "output_type": "stream",
     "text": [
      "/mnt/d/mydev/attention/wslvenv2nd/lib/python3.9/site-packages/transformers/tokenization_utils_base.py:1988: FutureWarning: Calling BertTokenizer.from_pretrained() with the path to a single file or url is deprecated and won't be possible anymore in v5. Use a model identifier or the path to a directory instead.\n",
      "  warnings.warn(\n",
      "Traceback (most recent call last):\n",
      "  File \"/mnt/d/MyDev/attention/transformerlab/bert/create_pretraining_data.py\", line 103, in <module>\n",
      "    instances = create_training_instances(\n",
      "TypeError: create_training_instances() missing 1 required positional argument: 'nsp_enabled'\n"
     ]
    }
   ],
   "source": [
    "!python create_pretraining_data.py --vocab_file vocab.txt --input_text input_text.txt --output_tfrecord output.tfrecord --do_lower_case --nsp\n"
   ]
  },
  {
   "cell_type": "code",
   "execution_count": null,
   "id": "1b52b52f-f946-4704-9bc0-51cc52a8ba95",
   "metadata": {},
   "outputs": [],
   "source": [
    "import tensorflow as tf\n",
    "\n",
    "def _parse_function(proto):\n",
    "    # Define your tfrecord again. It must be the same as the one used for saving your data.\n",
    "    feature_description = {\n",
    "        'input_ids': tf.io.FixedLenFeature([128], tf.int64),  # Assuming input_ids are of length 128\n",
    "        'segment_ids': tf.io.FixedLenFeature([128], tf.int64),  # Assuming segment_ids are of length 128\n",
    "        'masked_lm_positions': tf.io.VarLenFeature(tf.int64),\n",
    "        'masked_lm_labels': tf.io.VarLenFeature(tf.int64),\n",
    "        'next_sentence_labels': tf.io.FixedLenFeature([], tf.int64),\n",
    "    }\n",
    "\n",
    "    # Load one example\n",
    "    parsed_features = tf.io.parse_single_example(proto, feature_description)\n",
    "    \n",
    "    # Turn your sparse array into a dense array with default values as 0\n",
    "    parsed_features['masked_lm_positions'] = tf.sparse.to_dense(parsed_features['masked_lm_positions'], default_value=0)\n",
    "    parsed_features['masked_lm_labels'] = tf.sparse.to_dense(parsed_features['masked_lm_labels'], default_value=0)\n",
    "\n",
    "    return parsed_features\n",
    "# Read the TFRecord file\n",
    "def load_dataset(file_path):\n",
    "    dataset = tf.data.TFRecordDataset(file_path)\n",
    "    dataset = dataset.map(_parse_function)  # Parse the record into tensors.\n",
    "    return dataset\n",
    "\n",
    "# Path to the TFRecord file\n",
    "tfrecord_file_path = 'output.tfrecord'\n",
    "\n",
    "# Load the dataset\n",
    "parsed_dataset = load_dataset(tfrecord_file_path)\n",
    "# Display a few examples from the dataset\n",
    "for parsed_record in parsed_dataset.take(2):  # Only take first 5 examples\n",
    "    print('Input IDs:', parsed_record['input_ids'].numpy())\n",
    "    print('Segment IDs:', parsed_record['segment_ids'].numpy())\n",
    "    print('Masked LM Positions:', parsed_record['masked_lm_positions'].numpy())\n",
    "    print('Masked LM Labels:', parsed_record['masked_lm_labels'].numpy())\n",
    "    print('Next Sentence Label:', parsed_record['next_sentence_labels'].numpy())\n",
    "    print('---')\n"
   ]
  },
  {
   "cell_type": "code",
   "execution_count": null,
   "id": "d9bfe004-16cb-4a1d-9991-fcb75ff85137",
   "metadata": {},
   "outputs": [],
   "source": []
  },
  {
   "cell_type": "code",
   "execution_count": null,
   "id": "72e381b9-5878-4250-b99e-8b853640fc3c",
   "metadata": {},
   "outputs": [],
   "source": []
  },
  {
   "cell_type": "code",
   "execution_count": null,
   "id": "1e3dfa73-323e-4930-b9c2-c1e2080a8acc",
   "metadata": {},
   "outputs": [],
   "source": []
  },
  {
   "cell_type": "code",
   "execution_count": null,
   "id": "7227c722-9c49-4bdb-926e-7091b49e5f3f",
   "metadata": {},
   "outputs": [],
   "source": []
  },
  {
   "cell_type": "code",
   "execution_count": null,
   "id": "b69ca148-1c24-45e2-904c-94a6c99df05b",
   "metadata": {},
   "outputs": [],
   "source": []
  },
  {
   "cell_type": "code",
   "execution_count": null,
   "id": "82a51f6c-f36c-4bf1-97cb-948e5bebaef6",
   "metadata": {},
   "outputs": [],
   "source": []
  },
  {
   "cell_type": "code",
   "execution_count": null,
   "id": "7d198953-53b2-47b1-bb1a-9d243bf52c02",
   "metadata": {},
   "outputs": [],
   "source": []
  }
 ],
 "metadata": {
  "kernelspec": {
   "display_name": "Python 3 (ipykernel)",
   "language": "python",
   "name": "python3"
  },
  "language_info": {
   "codemirror_mode": {
    "name": "ipython",
    "version": 3
   },
   "file_extension": ".py",
   "mimetype": "text/x-python",
   "name": "python",
   "nbconvert_exporter": "python",
   "pygments_lexer": "ipython3",
   "version": "3.9.7"
  }
 },
 "nbformat": 4,
 "nbformat_minor": 5
}
